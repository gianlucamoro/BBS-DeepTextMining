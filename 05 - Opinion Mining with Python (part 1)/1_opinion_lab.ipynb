{
  "nbformat": 4,
  "nbformat_minor": 0,
  "metadata": {
    "colab": {
      "name": "1_opinion_lab.ipynb",
      "provenance": [],
      "collapsed_sections": [
        "ZwNfCgBU9IOR",
        "Qr17VRMp9IOw"
      ],
      "include_colab_link": true
    },
    "kernelspec": {
      "display_name": "Python 3",
      "language": "python",
      "name": "python3"
    },
    "language_info": {
      "codemirror_mode": {
        "name": "ipython",
        "version": 3
      },
      "file_extension": ".py",
      "mimetype": "text/x-python",
      "name": "python",
      "nbconvert_exporter": "python",
      "pygments_lexer": "ipython3",
      "version": "3.7.10"
    }
  },
  "cells": [
    {
      "cell_type": "markdown",
      "metadata": {
        "id": "view-in-github",
        "colab_type": "text"
      },
      "source": [
        "<a href=\"https://colab.research.google.com/github/unibodatascience/BBS-TextMining/blob/gh-pages/05%20-%20Opinion%20Mining%20with%20Python%20(part%201)/1_opinion_lab.ipynb\" target=\"_parent\"><img src=\"https://colab.research.google.com/assets/colab-badge.svg\" alt=\"Open In Colab\"/></a>"
      ]
    },
    {
      "cell_type": "markdown",
      "metadata": {
        "id": "9Ff1tWjz9IMU"
      },
      "source": [
        "# Opinion Mining & Sentiment Analysis: Lab Activities\n",
        "\n",
        "**Text Mining unit**\n",
        "\n",
        "_Prof. Gianluca Moro, DISI, University of Bologna_\n",
        "\n",
        "**Bologna Business School** - Alma Mater Studiorum Università di Bologna"
      ]
    },
    {
      "cell_type": "markdown",
      "metadata": {
        "id": "UNVEJNfK9IMV"
      },
      "source": [
        "## Setup\n",
        "\n",
        "Import external libraries (thus verifying they are correctly installed)"
      ]
    },
    {
      "cell_type": "code",
      "metadata": {
        "id": "mahnniQH9IMV"
      },
      "source": [
        "import pandas as pd\n",
        "import matplotlib.pyplot as plt\n",
        "import sklearn\n",
        "import nltk"
      ],
      "execution_count": 1,
      "outputs": []
    },
    {
      "cell_type": "markdown",
      "metadata": {
        "id": "LqGAJAwE9IMY"
      },
      "source": [
        "If using IPython/Jupyter, run the following to render plots inline"
      ]
    },
    {
      "cell_type": "code",
      "metadata": {
        "id": "4F4jCZtw9IMY"
      },
      "source": [
        "%matplotlib inline"
      ],
      "execution_count": 2,
      "outputs": []
    },
    {
      "cell_type": "markdown",
      "metadata": {
        "id": "7XQSMiSN9IMa"
      },
      "source": [
        "Set some options in pandas for printing DataFrames"
      ]
    },
    {
      "cell_type": "code",
      "metadata": {
        "id": "p72mmuD39IMb"
      },
      "source": [
        "pd.options.display.max_colwidth = 100\n",
        "pd.options.display.precision = 3"
      ],
      "execution_count": 3,
      "outputs": []
    },
    {
      "cell_type": "markdown",
      "metadata": {
        "id": "naIH999P9IMd"
      },
      "source": [
        "Define a utility function to download data files if they are not already present in working directory"
      ]
    },
    {
      "cell_type": "code",
      "metadata": {
        "id": "N8v0EsMy9IMd"
      },
      "source": [
        "import os\n",
        "from urllib.request import urlretrieve\n",
        "def download(file, url):\n",
        "    if not os.path.exists(file):\n",
        "        urlretrieve(url, file)"
      ],
      "execution_count": 4,
      "outputs": []
    },
    {
      "cell_type": "markdown",
      "metadata": {
        "id": "ELPuiZa99IMf"
      },
      "source": [
        "## Activity 1: Twitter Opinion Mining\n",
        "\n",
        "**Goal:** evaluate from Twitter how much customers are satisfied of airline companies\n",
        "\n",
        "1. Collect tweets citing airline companies\n",
        "2. Define lists of opinion keywords\n",
        "3. Evaluate sentiment of each tweet\n",
        "4. Summarize sentiment for each airline company\n",
        "5. Extract customer satisfaction for companies from the ACSI website\n",
        "6. Compare scores estimated from Twitter with those extracted from ACSI"
      ]
    },
    {
      "cell_type": "markdown",
      "metadata": {
        "id": "wAkDuqRx9IMf"
      },
      "source": [
        "This is a list of the Twitter accounts of airline companies taken into consideration"
      ]
    },
    {
      "cell_type": "code",
      "metadata": {
        "id": "EZwtwx3F9IMg"
      },
      "source": [
        "airlines = [\n",
        "    \"delta\",\n",
        "    \"americanair\",\n",
        "    \"jetblue\",\n",
        "    \"southwestair\",\n",
        "    \"united\"\n",
        "]"
      ],
      "execution_count": 5,
      "outputs": []
    },
    {
      "cell_type": "markdown",
      "metadata": {
        "id": "VeYYAQJN9IMj"
      },
      "source": [
        "### Collect tweets citing airline companies\n",
        "\n",
        "Recent tweets matching a given query can be searched using the Twitter Search API; many libraries exist for Python and other languages providing easy access to the API\n",
        "\n",
        "We see here how to obtain tweets using the `TwitterSearch` package, installable with `pip install TwitterSearch`; a Twitter account with an associated mobile number is needed in order to use the API\n",
        "\n",
        "If you can't or don't want to use your Twitter account and/or install the package, you can use a set of pre-collected tweets we provide"
      ]
    },
    {
      "cell_type": "code",
      "metadata": {
        "colab": {
          "base_uri": "https://localhost:8080/"
        },
        "id": "-OoGLa6FsR9P",
        "outputId": "6faaa6d6-c88a-4a2c-ba47-3099c443e1a6"
      },
      "source": [
        "!pip install TwitterSearch==1.0.2"
      ],
      "execution_count": 6,
      "outputs": [
        {
          "output_type": "stream",
          "name": "stdout",
          "text": [
            "Looking in indexes: https://pypi.org/simple, https://us-python.pkg.dev/colab-wheels/public/simple/\n",
            "Collecting TwitterSearch==1.0.2\n",
            "  Downloading TwitterSearch-1.0.2.tar.gz (20 kB)\n",
            "Requirement already satisfied: requests>=1.0.0 in /usr/local/lib/python3.7/dist-packages (from TwitterSearch==1.0.2) (2.23.0)\n",
            "Requirement already satisfied: requests-oauthlib>=0.3.0 in /usr/local/lib/python3.7/dist-packages (from TwitterSearch==1.0.2) (1.3.1)\n",
            "Requirement already satisfied: certifi>=2017.4.17 in /usr/local/lib/python3.7/dist-packages (from requests>=1.0.0->TwitterSearch==1.0.2) (2022.5.18.1)\n",
            "Requirement already satisfied: idna<3,>=2.5 in /usr/local/lib/python3.7/dist-packages (from requests>=1.0.0->TwitterSearch==1.0.2) (2.10)\n",
            "Requirement already satisfied: urllib3!=1.25.0,!=1.25.1,<1.26,>=1.21.1 in /usr/local/lib/python3.7/dist-packages (from requests>=1.0.0->TwitterSearch==1.0.2) (1.24.3)\n",
            "Requirement already satisfied: chardet<4,>=3.0.2 in /usr/local/lib/python3.7/dist-packages (from requests>=1.0.0->TwitterSearch==1.0.2) (3.0.4)\n",
            "Requirement already satisfied: oauthlib>=3.0.0 in /usr/local/lib/python3.7/dist-packages (from requests-oauthlib>=0.3.0->TwitterSearch==1.0.2) (3.2.0)\n",
            "Building wheels for collected packages: TwitterSearch\n",
            "  Building wheel for TwitterSearch (setup.py) ... \u001b[?25l\u001b[?25hdone\n",
            "  Created wheel for TwitterSearch: filename=TwitterSearch-1.0.2-py3-none-any.whl size=18463 sha256=545a83417e5e8a43934e2404d972c248dd1909c57278b5201b605a5269e557aa\n",
            "  Stored in directory: /root/.cache/pip/wheels/d5/74/5f/f344ffff31a93ee504581a51aad34120bf05bd749493365840\n",
            "Successfully built TwitterSearch\n",
            "Installing collected packages: TwitterSearch\n",
            "Successfully installed TwitterSearch-1.0.2\n"
          ]
        }
      ]
    },
    {
      "cell_type": "markdown",
      "metadata": {
        "id": "HORmDG1V9IMj"
      },
      "source": [
        "#### Creating a Twitter application\n",
        "\n",
        "In order to use Twitter APIs you need API keys: follow these steps to obtain one\n",
        "\n",
        "1. Go to https://developer.twitter.com/en/apps and login with your Twitter account\n",
        "2. Click the \"Create New App\" button, fill the form with short descriptive values (you may use e.g. \"http://example.com\" as the URL) and confirm\n",
        "3. Click on the app you just created and open the \"Key and Access Tokens\" tab\n",
        "4. For better security, ensure to set the Access Level to Read-only\n",
        "5. Click on the \"Create my access token\" button below\n",
        "\n",
        "You will need strings labeled with _Consumer Key_, _Consumer Secret_, _Access Token_ and _Access Token Secret_ shown in the page to use the API\n",
        "\n",
        "Create and load here the json file exactly like this filling it with your twitter data into the 4 strings\n",
        "\n",
        "{  \n",
        "    \"consumer_key\": \"\", \\\\\n",
        "    \"consumer_secret\": \"\", \\\\\n",
        "    \"access_token\": \"\", \\\\\n",
        "    \"access_token_secret\": \"\" \\\\\n",
        "}"
      ]
    },
    {
      "cell_type": "markdown",
      "metadata": {
        "id": "2tCYLFbaTyZ2"
      },
      "source": [
        "#### Loading keys\n",
        "\n",
        "Load the necessary Twitter security keys from file. \n",
        "\n",
        "*Software Security note*: avoid to leave secret keys hardcoded or write them in shell commands. Prefer keeping them in protected files or using secrets management tools"
      ]
    },
    {
      "cell_type": "code",
      "metadata": {
        "id": "e4T4LzxiT1UX"
      },
      "source": [
        "import json\n",
        "\n",
        "with open('twitter_keys.json') as f:\n",
        "  keys = json.load(f)"
      ],
      "execution_count": 171,
      "outputs": []
    },
    {
      "cell_type": "markdown",
      "metadata": {
        "id": "JYBhW_i09IMk"
      },
      "source": [
        "#### Authenticating\n",
        "\n",
        "Import the necessary classes and create a `TwitterSearch` object providing the API codes obtained above"
      ]
    },
    {
      "cell_type": "code",
      "metadata": {
        "id": "o5muh0UR9IMk"
      },
      "source": [
        "from TwitterSearch import TwitterSearch, TwitterSearchOrder\n",
        "\n",
        "ts = TwitterSearch(\n",
        "    consumer_key = keys[\"consumer_key\"],\n",
        "    consumer_secret = keys[\"consumer_secret\"], \n",
        "    access_token = keys[\"access_token\"], \n",
        "    access_token_secret = keys[\"access_token_secret\"] \n",
        ")"
      ],
      "execution_count": 172,
      "outputs": []
    },
    {
      "cell_type": "markdown",
      "metadata": {
        "id": "wnKcbMR79IMm"
      },
      "source": [
        "#### Obtaining tweets\n",
        "\n",
        "Create a `TwitterSearchOrder` indicating the tweets to search: we start for example by searching tweets about Delta Air Lines, whose Twitter account is \"@delta\"; by default the search will return up to 100 tweets, the upper limit set by Twitter for each request"
      ]
    },
    {
      "cell_type": "code",
      "metadata": {
        "id": "bfMohlNI9IMn"
      },
      "source": [
        "tso = TwitterSearchOrder()\n",
        "tso.set_keywords([\"@delta\"])\n",
        "tso.set_language(\"en\")\n",
        "tso.set_include_entities(False)\n",
        "tso.set_count(5) # To limit the search to five tweets"
      ],
      "execution_count": 173,
      "outputs": []
    },
    {
      "cell_type": "markdown",
      "metadata": {
        "id": "B_MWWTcN9IMo"
      },
      "source": [
        "We can now issue the request to the Twitter API\n",
        "\n",
        "**Warning:** the Twitter API has usage rate limitations, `search_tweets` and other API methods will temporarily stop working if executed many times in few minutes"
      ]
    },
    {
      "cell_type": "code",
      "metadata": {
        "colab": {
          "base_uri": "https://localhost:8080/"
        },
        "id": "w2GkB71N9IMp",
        "outputId": "c68dcb46-e0a3-469c-b5a5-7c7f33e65469"
      },
      "source": [
        "tsresp = ts.search_tweets(tso)\n",
        "tsresp # Print the search result retrieved as JSON object"
      ],
      "execution_count": 174,
      "outputs": [
        {
          "output_type": "execute_result",
          "data": {
            "text/plain": [
              "{'content': {'search_metadata': {'completed_in': 0.046,\n",
              "   'count': 5,\n",
              "   'max_id': 1531342109336383489,\n",
              "   'max_id_str': '1531342109336383489',\n",
              "   'next_results': '?max_id=1531341687280353279&q=%40delta&lang=en&count=5',\n",
              "   'query': '%40delta',\n",
              "   'refresh_url': '?since_id=1531342109336383489&q=%40delta&lang=en',\n",
              "   'since_id': 0,\n",
              "   'since_id_str': '0'},\n",
              "  'statuses': [{'contributors': None,\n",
              "    'coordinates': None,\n",
              "    'created_at': 'Mon May 30 18:29:44 +0000 2022',\n",
              "    'favorite_count': 0,\n",
              "    'favorited': False,\n",
              "    'geo': None,\n",
              "    'id': 1531342109336383489,\n",
              "    'id_str': '1531342109336383489',\n",
              "    'in_reply_to_screen_name': 'Delta',\n",
              "    'in_reply_to_status_id': None,\n",
              "    'in_reply_to_status_id_str': None,\n",
              "    'in_reply_to_user_id': 5920532,\n",
              "    'in_reply_to_user_id_str': '5920532',\n",
              "    'is_quote_status': False,\n",
              "    'lang': 'en',\n",
              "    'metadata': {'iso_language_code': 'en', 'result_type': 'recent'},\n",
              "    'place': None,\n",
              "    'retweet_count': 0,\n",
              "    'retweeted': False,\n",
              "    'source': '<a href=\"http://twitter.com/download/iphone\" rel=\"nofollow\">Twitter for iPhone</a>',\n",
              "    'text': '@Delta Delta airlines have to be the worst airline to fly with. If you want to avoid pilots not showing up, rude ga… https://t.co/6D4FSSkHfT',\n",
              "    'truncated': True,\n",
              "    'user': {'contributors_enabled': False,\n",
              "     'created_at': 'Fri Aug 10 14:45:31 +0000 2012',\n",
              "     'default_profile': False,\n",
              "     'default_profile_image': False,\n",
              "     'description': 'Never give up, So Glad to be Alive #BULLETPROOF IG:@team_killjizzle #athlete #ATM',\n",
              "     'entities': {'description': {'urls': []},\n",
              "      'url': {'urls': [{'display_url': 'MidlifeEnt.Net',\n",
              "         'expanded_url': 'http://MidlifeEnt.Net',\n",
              "         'indices': [0, 23],\n",
              "         'url': 'https://t.co/Gnc9M7H9Vl'}]}},\n",
              "     'favourites_count': 93,\n",
              "     'follow_request_sent': False,\n",
              "     'followers_count': 203,\n",
              "     'following': False,\n",
              "     'friends_count': 337,\n",
              "     'geo_enabled': True,\n",
              "     'has_extended_profile': False,\n",
              "     'id': 749480618,\n",
              "     'id_str': '749480618',\n",
              "     'is_translation_enabled': False,\n",
              "     'is_translator': False,\n",
              "     'lang': None,\n",
              "     'listed_count': 0,\n",
              "     'location': 'Soufside,Fl',\n",
              "     'name': 'Wolf mon Bush mon',\n",
              "     'notifications': False,\n",
              "     'profile_background_color': 'C0DEED',\n",
              "     'profile_background_image_url': 'http://abs.twimg.com/images/themes/theme1/bg.png',\n",
              "     'profile_background_image_url_https': 'https://abs.twimg.com/images/themes/theme1/bg.png',\n",
              "     'profile_background_tile': True,\n",
              "     'profile_banner_url': 'https://pbs.twimg.com/profile_banners/749480618/1389615964',\n",
              "     'profile_image_url': 'http://pbs.twimg.com/profile_images/1530214973745537026/dCO06rqj_normal.jpg',\n",
              "     'profile_image_url_https': 'https://pbs.twimg.com/profile_images/1530214973745537026/dCO06rqj_normal.jpg',\n",
              "     'profile_link_color': '0084B4',\n",
              "     'profile_sidebar_border_color': 'FFFFFF',\n",
              "     'profile_sidebar_fill_color': 'DDEEF6',\n",
              "     'profile_text_color': '333333',\n",
              "     'profile_use_background_image': True,\n",
              "     'protected': False,\n",
              "     'screen_name': 'team_killjack',\n",
              "     'statuses_count': 3143,\n",
              "     'time_zone': None,\n",
              "     'translator_type': 'none',\n",
              "     'url': 'https://t.co/Gnc9M7H9Vl',\n",
              "     'utc_offset': None,\n",
              "     'verified': False,\n",
              "     'withheld_in_countries': []}},\n",
              "   {'contributors': None,\n",
              "    'coordinates': None,\n",
              "    'created_at': 'Mon May 30 18:29:34 +0000 2022',\n",
              "    'favorite_count': 0,\n",
              "    'favorited': False,\n",
              "    'geo': None,\n",
              "    'id': 1531342067330215939,\n",
              "    'id_str': '1531342067330215939',\n",
              "    'in_reply_to_screen_name': 'IEMcElroy',\n",
              "    'in_reply_to_status_id': 1530757904747270144,\n",
              "    'in_reply_to_status_id_str': '1530757904747270144',\n",
              "    'in_reply_to_user_id': 1286428705028485120,\n",
              "    'in_reply_to_user_id_str': '1286428705028485120',\n",
              "    'is_quote_status': False,\n",
              "    'lang': 'en',\n",
              "    'metadata': {'iso_language_code': 'en', 'result_type': 'recent'},\n",
              "    'place': None,\n",
              "    'retweet_count': 0,\n",
              "    'retweeted': False,\n",
              "    'source': '<a href=\"http://twitter.com/download/android\" rel=\"nofollow\">Twitter for Android</a>',\n",
              "    'text': \"@IEMcElroy @arghavan_salles @Delta Can't be. We all know that major air carriers are the last word in infectious disease management.\",\n",
              "    'truncated': False,\n",
              "    'user': {'contributors_enabled': False,\n",
              "     'created_at': 'Fri May 15 22:53:07 +0000 2009',\n",
              "     'default_profile': False,\n",
              "     'default_profile_image': False,\n",
              "     'description': 'Society American Gastrointestinal and Endoscopic Surgeons. Leading minimally invasive surgical society. Likes and RTs are amplification, not endorsement.',\n",
              "     'entities': {'description': {'urls': []},\n",
              "      'url': {'urls': [{'display_url': 'sages.org',\n",
              "         'expanded_url': 'https://www.sages.org/',\n",
              "         'indices': [0, 23],\n",
              "         'url': 'https://t.co/ZaIEaTwA7K'}]}},\n",
              "     'favourites_count': 45669,\n",
              "     'follow_request_sent': False,\n",
              "     'followers_count': 32928,\n",
              "     'following': False,\n",
              "     'friends_count': 2002,\n",
              "     'geo_enabled': True,\n",
              "     'has_extended_profile': True,\n",
              "     'id': 40354506,\n",
              "     'id_str': '40354506',\n",
              "     'is_translation_enabled': False,\n",
              "     'is_translator': False,\n",
              "     'lang': None,\n",
              "     'listed_count': 285,\n",
              "     'location': 'Everywhere',\n",
              "     'name': 'SAGES',\n",
              "     'notifications': False,\n",
              "     'profile_background_color': '131516',\n",
              "     'profile_background_image_url': 'http://abs.twimg.com/images/themes/theme14/bg.gif',\n",
              "     'profile_background_image_url_https': 'https://abs.twimg.com/images/themes/theme14/bg.gif',\n",
              "     'profile_background_tile': True,\n",
              "     'profile_banner_url': 'https://pbs.twimg.com/profile_banners/40354506/1635790327',\n",
              "     'profile_image_url': 'http://pbs.twimg.com/profile_images/476868144640700416/h-5lTHX4_normal.png',\n",
              "     'profile_image_url_https': 'https://pbs.twimg.com/profile_images/476868144640700416/h-5lTHX4_normal.png',\n",
              "     'profile_link_color': '009999',\n",
              "     'profile_sidebar_border_color': 'EEEEEE',\n",
              "     'profile_sidebar_fill_color': 'EFEFEF',\n",
              "     'profile_text_color': '333333',\n",
              "     'profile_use_background_image': True,\n",
              "     'protected': False,\n",
              "     'screen_name': 'SAGES_Updates',\n",
              "     'statuses_count': 44153,\n",
              "     'time_zone': None,\n",
              "     'translator_type': 'none',\n",
              "     'url': 'https://t.co/ZaIEaTwA7K',\n",
              "     'utc_offset': None,\n",
              "     'verified': True,\n",
              "     'withheld_in_countries': []}},\n",
              "   {'contributors': None,\n",
              "    'coordinates': None,\n",
              "    'created_at': 'Mon May 30 18:28:59 +0000 2022',\n",
              "    'favorite_count': 0,\n",
              "    'favorited': False,\n",
              "    'geo': None,\n",
              "    'id': 1531341918684123136,\n",
              "    'id_str': '1531341918684123136',\n",
              "    'in_reply_to_screen_name': None,\n",
              "    'in_reply_to_status_id': None,\n",
              "    'in_reply_to_status_id_str': None,\n",
              "    'in_reply_to_user_id': None,\n",
              "    'in_reply_to_user_id_str': None,\n",
              "    'is_quote_status': False,\n",
              "    'lang': 'en',\n",
              "    'metadata': {'iso_language_code': 'en', 'result_type': 'recent'},\n",
              "    'place': None,\n",
              "    'retweet_count': 275,\n",
              "    'retweeted': False,\n",
              "    'retweeted_status': {'contributors': None,\n",
              "     'coordinates': None,\n",
              "     'created_at': 'Sun May 29 03:48:19 +0000 2022',\n",
              "     'favorite_count': 2477,\n",
              "     'favorited': False,\n",
              "     'geo': None,\n",
              "     'id': 1530757904747270144,\n",
              "     'id_str': '1530757904747270144',\n",
              "     'in_reply_to_screen_name': None,\n",
              "     'in_reply_to_status_id': None,\n",
              "     'in_reply_to_status_id_str': None,\n",
              "     'in_reply_to_user_id': None,\n",
              "     'in_reply_to_user_id_str': None,\n",
              "     'is_quote_status': False,\n",
              "     'lang': 'en',\n",
              "     'metadata': {'iso_language_code': 'en', 'result_type': 'recent'},\n",
              "     'place': None,\n",
              "     'retweet_count': 275,\n",
              "     'retweeted': False,\n",
              "     'source': '<a href=\"http://twitter.com/download/iphone\" rel=\"nofollow\">Twitter for iPhone</a>',\n",
              "     'text': '. @Delta is having to cut its fleet to “better accommodate for staffing issues” and I’m currently delayed 3 hours b… https://t.co/7dPk0DSVqe',\n",
              "     'truncated': True,\n",
              "     'user': {'contributors_enabled': False,\n",
              "      'created_at': 'Thu Jul 23 22:31:31 +0000 2020',\n",
              "      'default_profile': True,\n",
              "      'default_profile_image': False,\n",
              "      'description': 'Gen Surg Resident / MD from @CDrewU/@dgsomucla / MPH HSPH / Yay Area Bred / DST Inc. / Get uncomfortable. Be Relentless. Photog/Artist/Writer. Tweets my own.',\n",
              "      'entities': {'description': {'urls': []},\n",
              "       'url': {'urls': [{'display_url': 'linktr.ee/iemcelroy',\n",
              "          'expanded_url': 'https://linktr.ee/iemcelroy',\n",
              "          'indices': [0, 23],\n",
              "          'url': 'https://t.co/aj3afXUcYf'}]}},\n",
              "      'favourites_count': 33380,\n",
              "      'follow_request_sent': False,\n",
              "      'followers_count': 15050,\n",
              "      'following': False,\n",
              "      'friends_count': 2673,\n",
              "      'geo_enabled': True,\n",
              "      'has_extended_profile': True,\n",
              "      'id': 1286428705028485120,\n",
              "      'id_str': '1286428705028485120',\n",
              "      'is_translation_enabled': False,\n",
              "      'is_translator': False,\n",
              "      'lang': None,\n",
              "      'listed_count': 66,\n",
              "      'location': '',\n",
              "      'name': 'Imani E. McElroy, MD, MPH (she/her/hers)',\n",
              "      'notifications': False,\n",
              "      'profile_background_color': 'F5F8FA',\n",
              "      'profile_background_image_url': None,\n",
              "      'profile_background_image_url_https': None,\n",
              "      'profile_background_tile': False,\n",
              "      'profile_banner_url': 'https://pbs.twimg.com/profile_banners/1286428705028485120/1639403687',\n",
              "      'profile_image_url': 'http://pbs.twimg.com/profile_images/1523744625701404674/WVbwroLN_normal.jpg',\n",
              "      'profile_image_url_https': 'https://pbs.twimg.com/profile_images/1523744625701404674/WVbwroLN_normal.jpg',\n",
              "      'profile_link_color': '1DA1F2',\n",
              "      'profile_sidebar_border_color': 'C0DEED',\n",
              "      'profile_sidebar_fill_color': 'DDEEF6',\n",
              "      'profile_text_color': '333333',\n",
              "      'profile_use_background_image': True,\n",
              "      'protected': False,\n",
              "      'screen_name': 'IEMcElroy',\n",
              "      'statuses_count': 16771,\n",
              "      'time_zone': None,\n",
              "      'translator_type': 'none',\n",
              "      'url': 'https://t.co/aj3afXUcYf',\n",
              "      'utc_offset': None,\n",
              "      'verified': False,\n",
              "      'withheld_in_countries': []}},\n",
              "    'source': '<a href=\"http://twitter.com/download/android\" rel=\"nofollow\">Twitter for Android</a>',\n",
              "    'text': 'RT @IEMcElroy: . @Delta is having to cut its fleet to “better accommodate for staffing issues” and I’m currently delayed 3 hours because th…',\n",
              "    'truncated': False,\n",
              "    'user': {'contributors_enabled': False,\n",
              "     'created_at': 'Fri May 15 22:53:07 +0000 2009',\n",
              "     'default_profile': False,\n",
              "     'default_profile_image': False,\n",
              "     'description': 'Society American Gastrointestinal and Endoscopic Surgeons. Leading minimally invasive surgical society. Likes and RTs are amplification, not endorsement.',\n",
              "     'entities': {'description': {'urls': []},\n",
              "      'url': {'urls': [{'display_url': 'sages.org',\n",
              "         'expanded_url': 'https://www.sages.org/',\n",
              "         'indices': [0, 23],\n",
              "         'url': 'https://t.co/ZaIEaTwA7K'}]}},\n",
              "     'favourites_count': 45669,\n",
              "     'follow_request_sent': False,\n",
              "     'followers_count': 32928,\n",
              "     'following': False,\n",
              "     'friends_count': 2002,\n",
              "     'geo_enabled': True,\n",
              "     'has_extended_profile': True,\n",
              "     'id': 40354506,\n",
              "     'id_str': '40354506',\n",
              "     'is_translation_enabled': False,\n",
              "     'is_translator': False,\n",
              "     'lang': None,\n",
              "     'listed_count': 285,\n",
              "     'location': 'Everywhere',\n",
              "     'name': 'SAGES',\n",
              "     'notifications': False,\n",
              "     'profile_background_color': '131516',\n",
              "     'profile_background_image_url': 'http://abs.twimg.com/images/themes/theme14/bg.gif',\n",
              "     'profile_background_image_url_https': 'https://abs.twimg.com/images/themes/theme14/bg.gif',\n",
              "     'profile_background_tile': True,\n",
              "     'profile_banner_url': 'https://pbs.twimg.com/profile_banners/40354506/1635790327',\n",
              "     'profile_image_url': 'http://pbs.twimg.com/profile_images/476868144640700416/h-5lTHX4_normal.png',\n",
              "     'profile_image_url_https': 'https://pbs.twimg.com/profile_images/476868144640700416/h-5lTHX4_normal.png',\n",
              "     'profile_link_color': '009999',\n",
              "     'profile_sidebar_border_color': 'EEEEEE',\n",
              "     'profile_sidebar_fill_color': 'EFEFEF',\n",
              "     'profile_text_color': '333333',\n",
              "     'profile_use_background_image': True,\n",
              "     'protected': False,\n",
              "     'screen_name': 'SAGES_Updates',\n",
              "     'statuses_count': 44153,\n",
              "     'time_zone': None,\n",
              "     'translator_type': 'none',\n",
              "     'url': 'https://t.co/ZaIEaTwA7K',\n",
              "     'utc_offset': None,\n",
              "     'verified': True,\n",
              "     'withheld_in_countries': []}},\n",
              "   {'contributors': None,\n",
              "    'coordinates': None,\n",
              "    'created_at': 'Mon May 30 18:28:52 +0000 2022',\n",
              "    'favorite_count': 0,\n",
              "    'favorited': False,\n",
              "    'geo': None,\n",
              "    'id': 1531341891999895552,\n",
              "    'id_str': '1531341891999895552',\n",
              "    'in_reply_to_screen_name': None,\n",
              "    'in_reply_to_status_id': None,\n",
              "    'in_reply_to_status_id_str': None,\n",
              "    'in_reply_to_user_id': None,\n",
              "    'in_reply_to_user_id_str': None,\n",
              "    'is_quote_status': False,\n",
              "    'lang': 'en',\n",
              "    'metadata': {'iso_language_code': 'en', 'result_type': 'recent'},\n",
              "    'place': None,\n",
              "    'retweet_count': 275,\n",
              "    'retweeted': False,\n",
              "    'retweeted_status': {'contributors': None,\n",
              "     'coordinates': None,\n",
              "     'created_at': 'Sun May 29 03:48:19 +0000 2022',\n",
              "     'favorite_count': 2477,\n",
              "     'favorited': False,\n",
              "     'geo': None,\n",
              "     'id': 1530757904747270144,\n",
              "     'id_str': '1530757904747270144',\n",
              "     'in_reply_to_screen_name': None,\n",
              "     'in_reply_to_status_id': None,\n",
              "     'in_reply_to_status_id_str': None,\n",
              "     'in_reply_to_user_id': None,\n",
              "     'in_reply_to_user_id_str': None,\n",
              "     'is_quote_status': False,\n",
              "     'lang': 'en',\n",
              "     'metadata': {'iso_language_code': 'en', 'result_type': 'recent'},\n",
              "     'place': None,\n",
              "     'retweet_count': 275,\n",
              "     'retweeted': False,\n",
              "     'source': '<a href=\"http://twitter.com/download/iphone\" rel=\"nofollow\">Twitter for iPhone</a>',\n",
              "     'text': '. @Delta is having to cut its fleet to “better accommodate for staffing issues” and I’m currently delayed 3 hours b… https://t.co/7dPk0DSVqe',\n",
              "     'truncated': True,\n",
              "     'user': {'contributors_enabled': False,\n",
              "      'created_at': 'Thu Jul 23 22:31:31 +0000 2020',\n",
              "      'default_profile': True,\n",
              "      'default_profile_image': False,\n",
              "      'description': 'Gen Surg Resident / MD from @CDrewU/@dgsomucla / MPH HSPH / Yay Area Bred / DST Inc. / Get uncomfortable. Be Relentless. Photog/Artist/Writer. Tweets my own.',\n",
              "      'entities': {'description': {'urls': []},\n",
              "       'url': {'urls': [{'display_url': 'linktr.ee/iemcelroy',\n",
              "          'expanded_url': 'https://linktr.ee/iemcelroy',\n",
              "          'indices': [0, 23],\n",
              "          'url': 'https://t.co/aj3afXUcYf'}]}},\n",
              "      'favourites_count': 33380,\n",
              "      'follow_request_sent': False,\n",
              "      'followers_count': 15050,\n",
              "      'following': False,\n",
              "      'friends_count': 2673,\n",
              "      'geo_enabled': True,\n",
              "      'has_extended_profile': True,\n",
              "      'id': 1286428705028485120,\n",
              "      'id_str': '1286428705028485120',\n",
              "      'is_translation_enabled': False,\n",
              "      'is_translator': False,\n",
              "      'lang': None,\n",
              "      'listed_count': 66,\n",
              "      'location': '',\n",
              "      'name': 'Imani E. McElroy, MD, MPH (she/her/hers)',\n",
              "      'notifications': False,\n",
              "      'profile_background_color': 'F5F8FA',\n",
              "      'profile_background_image_url': None,\n",
              "      'profile_background_image_url_https': None,\n",
              "      'profile_background_tile': False,\n",
              "      'profile_banner_url': 'https://pbs.twimg.com/profile_banners/1286428705028485120/1639403687',\n",
              "      'profile_image_url': 'http://pbs.twimg.com/profile_images/1523744625701404674/WVbwroLN_normal.jpg',\n",
              "      'profile_image_url_https': 'https://pbs.twimg.com/profile_images/1523744625701404674/WVbwroLN_normal.jpg',\n",
              "      'profile_link_color': '1DA1F2',\n",
              "      'profile_sidebar_border_color': 'C0DEED',\n",
              "      'profile_sidebar_fill_color': 'DDEEF6',\n",
              "      'profile_text_color': '333333',\n",
              "      'profile_use_background_image': True,\n",
              "      'protected': False,\n",
              "      'screen_name': 'IEMcElroy',\n",
              "      'statuses_count': 16771,\n",
              "      'time_zone': None,\n",
              "      'translator_type': 'none',\n",
              "      'url': 'https://t.co/aj3afXUcYf',\n",
              "      'utc_offset': None,\n",
              "      'verified': False,\n",
              "      'withheld_in_countries': []}},\n",
              "    'source': '<a href=\"http://twitter.com/download/iphone\" rel=\"nofollow\">Twitter for iPhone</a>',\n",
              "    'text': 'RT @IEMcElroy: . @Delta is having to cut its fleet to “better accommodate for staffing issues” and I’m currently delayed 3 hours because th…',\n",
              "    'truncated': False,\n",
              "    'user': {'contributors_enabled': False,\n",
              "     'created_at': 'Thu Mar 14 00:59:17 +0000 2019',\n",
              "     'default_profile': True,\n",
              "     'default_profile_image': False,\n",
              "     'description': 'Art & complaining',\n",
              "     'entities': {'description': {'urls': []}},\n",
              "     'favourites_count': 22609,\n",
              "     'follow_request_sent': False,\n",
              "     'followers_count': 75,\n",
              "     'following': False,\n",
              "     'friends_count': 287,\n",
              "     'geo_enabled': False,\n",
              "     'has_extended_profile': False,\n",
              "     'id': 1105996790157926400,\n",
              "     'id_str': '1105996790157926400',\n",
              "     'is_translation_enabled': False,\n",
              "     'is_translator': False,\n",
              "     'lang': None,\n",
              "     'listed_count': 0,\n",
              "     'location': '',\n",
              "     'name': 'imitationrice',\n",
              "     'notifications': False,\n",
              "     'profile_background_color': 'F5F8FA',\n",
              "     'profile_background_image_url': None,\n",
              "     'profile_background_image_url_https': None,\n",
              "     'profile_background_tile': False,\n",
              "     'profile_image_url': 'http://pbs.twimg.com/profile_images/1105997211165298688/LCPAmTjd_normal.jpg',\n",
              "     'profile_image_url_https': 'https://pbs.twimg.com/profile_images/1105997211165298688/LCPAmTjd_normal.jpg',\n",
              "     'profile_link_color': '1DA1F2',\n",
              "     'profile_sidebar_border_color': 'C0DEED',\n",
              "     'profile_sidebar_fill_color': 'DDEEF6',\n",
              "     'profile_text_color': '333333',\n",
              "     'profile_use_background_image': True,\n",
              "     'protected': False,\n",
              "     'screen_name': 'imitationrice',\n",
              "     'statuses_count': 16542,\n",
              "     'time_zone': None,\n",
              "     'translator_type': 'none',\n",
              "     'url': None,\n",
              "     'utc_offset': None,\n",
              "     'verified': False,\n",
              "     'withheld_in_countries': []}},\n",
              "   {'contributors': None,\n",
              "    'coordinates': None,\n",
              "    'created_at': 'Mon May 30 18:28:03 +0000 2022',\n",
              "    'favorite_count': 0,\n",
              "    'favorited': False,\n",
              "    'geo': None,\n",
              "    'id': 1531341687280353280,\n",
              "    'id_str': '1531341687280353280',\n",
              "    'in_reply_to_screen_name': None,\n",
              "    'in_reply_to_status_id': None,\n",
              "    'in_reply_to_status_id_str': None,\n",
              "    'in_reply_to_user_id': None,\n",
              "    'in_reply_to_user_id_str': None,\n",
              "    'is_quote_status': False,\n",
              "    'lang': 'en',\n",
              "    'metadata': {'iso_language_code': 'en', 'result_type': 'recent'},\n",
              "    'place': None,\n",
              "    'retweet_count': 275,\n",
              "    'retweeted': False,\n",
              "    'retweeted_status': {'contributors': None,\n",
              "     'coordinates': None,\n",
              "     'created_at': 'Sun May 29 03:48:19 +0000 2022',\n",
              "     'favorite_count': 2477,\n",
              "     'favorited': False,\n",
              "     'geo': None,\n",
              "     'id': 1530757904747270144,\n",
              "     'id_str': '1530757904747270144',\n",
              "     'in_reply_to_screen_name': None,\n",
              "     'in_reply_to_status_id': None,\n",
              "     'in_reply_to_status_id_str': None,\n",
              "     'in_reply_to_user_id': None,\n",
              "     'in_reply_to_user_id_str': None,\n",
              "     'is_quote_status': False,\n",
              "     'lang': 'en',\n",
              "     'metadata': {'iso_language_code': 'en', 'result_type': 'recent'},\n",
              "     'place': None,\n",
              "     'retweet_count': 275,\n",
              "     'retweeted': False,\n",
              "     'source': '<a href=\"http://twitter.com/download/iphone\" rel=\"nofollow\">Twitter for iPhone</a>',\n",
              "     'text': '. @Delta is having to cut its fleet to “better accommodate for staffing issues” and I’m currently delayed 3 hours b… https://t.co/7dPk0DSVqe',\n",
              "     'truncated': True,\n",
              "     'user': {'contributors_enabled': False,\n",
              "      'created_at': 'Thu Jul 23 22:31:31 +0000 2020',\n",
              "      'default_profile': True,\n",
              "      'default_profile_image': False,\n",
              "      'description': 'Gen Surg Resident / MD from @CDrewU/@dgsomucla / MPH HSPH / Yay Area Bred / DST Inc. / Get uncomfortable. Be Relentless. Photog/Artist/Writer. Tweets my own.',\n",
              "      'entities': {'description': {'urls': []},\n",
              "       'url': {'urls': [{'display_url': 'linktr.ee/iemcelroy',\n",
              "          'expanded_url': 'https://linktr.ee/iemcelroy',\n",
              "          'indices': [0, 23],\n",
              "          'url': 'https://t.co/aj3afXUcYf'}]}},\n",
              "      'favourites_count': 33380,\n",
              "      'follow_request_sent': False,\n",
              "      'followers_count': 15050,\n",
              "      'following': False,\n",
              "      'friends_count': 2673,\n",
              "      'geo_enabled': True,\n",
              "      'has_extended_profile': True,\n",
              "      'id': 1286428705028485120,\n",
              "      'id_str': '1286428705028485120',\n",
              "      'is_translation_enabled': False,\n",
              "      'is_translator': False,\n",
              "      'lang': None,\n",
              "      'listed_count': 66,\n",
              "      'location': '',\n",
              "      'name': 'Imani E. McElroy, MD, MPH (she/her/hers)',\n",
              "      'notifications': False,\n",
              "      'profile_background_color': 'F5F8FA',\n",
              "      'profile_background_image_url': None,\n",
              "      'profile_background_image_url_https': None,\n",
              "      'profile_background_tile': False,\n",
              "      'profile_banner_url': 'https://pbs.twimg.com/profile_banners/1286428705028485120/1639403687',\n",
              "      'profile_image_url': 'http://pbs.twimg.com/profile_images/1523744625701404674/WVbwroLN_normal.jpg',\n",
              "      'profile_image_url_https': 'https://pbs.twimg.com/profile_images/1523744625701404674/WVbwroLN_normal.jpg',\n",
              "      'profile_link_color': '1DA1F2',\n",
              "      'profile_sidebar_border_color': 'C0DEED',\n",
              "      'profile_sidebar_fill_color': 'DDEEF6',\n",
              "      'profile_text_color': '333333',\n",
              "      'profile_use_background_image': True,\n",
              "      'protected': False,\n",
              "      'screen_name': 'IEMcElroy',\n",
              "      'statuses_count': 16771,\n",
              "      'time_zone': None,\n",
              "      'translator_type': 'none',\n",
              "      'url': 'https://t.co/aj3afXUcYf',\n",
              "      'utc_offset': None,\n",
              "      'verified': False,\n",
              "      'withheld_in_countries': []}},\n",
              "    'source': '<a href=\"https://mobile.twitter.com\" rel=\"nofollow\">Twitter Web App</a>',\n",
              "    'text': 'RT @IEMcElroy: . @Delta is having to cut its fleet to “better accommodate for staffing issues” and I’m currently delayed 3 hours because th…',\n",
              "    'truncated': False,\n",
              "    'user': {'contributors_enabled': False,\n",
              "     'created_at': 'Sat Sep 10 15:21:36 +0000 2016',\n",
              "     'default_profile': False,\n",
              "     'default_profile_image': False,\n",
              "     'description': 'Truth matters.\\nWearing is caring.\\nMother, friend, and healthcare professional. Integrating care of the human body, mind, and spirit is essential to healing.',\n",
              "     'entities': {'description': {'urls': []},\n",
              "      'url': {'urls': [{'display_url': 'wearingppeiscaring.org',\n",
              "         'expanded_url': 'https://www.wearingppeiscaring.org/',\n",
              "         'indices': [0, 23],\n",
              "         'url': 'https://t.co/sZUWbIAsay'}]}},\n",
              "     'favourites_count': 149169,\n",
              "     'follow_request_sent': False,\n",
              "     'followers_count': 21416,\n",
              "     'following': False,\n",
              "     'friends_count': 20742,\n",
              "     'geo_enabled': False,\n",
              "     'has_extended_profile': False,\n",
              "     'id': 774628898491527168,\n",
              "     'id_str': '774628898491527168',\n",
              "     'is_translation_enabled': False,\n",
              "     'is_translator': False,\n",
              "     'lang': None,\n",
              "     'listed_count': 288,\n",
              "     'location': 'USA',\n",
              "     'name': 'Dr.Dana🌻🇺🇦🏴\\U000e0067\\U000e0062\\U000e0073\\U000e0063\\U000e0074\\U000e007f🗽',\n",
              "     'notifications': False,\n",
              "     'profile_background_color': '000000',\n",
              "     'profile_background_image_url': 'http://abs.twimg.com/images/themes/theme1/bg.png',\n",
              "     'profile_background_image_url_https': 'https://abs.twimg.com/images/themes/theme1/bg.png',\n",
              "     'profile_background_tile': False,\n",
              "     'profile_banner_url': 'https://pbs.twimg.com/profile_banners/774628898491527168/1645986905',\n",
              "     'profile_image_url': 'http://pbs.twimg.com/profile_images/1472360861406830596/wdQdDnzb_normal.jpg',\n",
              "     'profile_image_url_https': 'https://pbs.twimg.com/profile_images/1472360861406830596/wdQdDnzb_normal.jpg',\n",
              "     'profile_link_color': '1B95E0',\n",
              "     'profile_sidebar_border_color': '000000',\n",
              "     'profile_sidebar_fill_color': '000000',\n",
              "     'profile_text_color': '000000',\n",
              "     'profile_use_background_image': False,\n",
              "     'protected': False,\n",
              "     'screen_name': 'ProfNotMD',\n",
              "     'statuses_count': 148176,\n",
              "     'time_zone': None,\n",
              "     'translator_type': 'none',\n",
              "     'url': 'https://t.co/sZUWbIAsay',\n",
              "     'utc_offset': None,\n",
              "     'verified': False,\n",
              "     'withheld_in_countries': []}}]},\n",
              " 'meta': {'date': 'Mon, 30 May 2022 18:29:59 GMT', 'pragma': 'no-cache', 'server': 'tsa_b', 'status': '200 OK', 'expires': 'Tue, 31 Mar 1981 05:00:00 GMT', 'set-cookie': 'guest_id_marketing=v1%3A165393539905079933; Max-Age=63072000; Expires=Wed, 29 May 2024 18:29:59 GMT; Path=/; Domain=.twitter.com; Secure; SameSite=None, guest_id_ads=v1%3A165393539905079933; Max-Age=63072000; Expires=Wed, 29 May 2024 18:29:59 GMT; Path=/; Domain=.twitter.com; Secure; SameSite=None, personalization_id=\"v1_UulRX5mWWwet63yHVIRGHg==\"; Max-Age=63072000; Expires=Wed, 29 May 2024 18:29:59 GMT; Path=/; Domain=.twitter.com; Secure; SameSite=None, lang=en; Path=/, guest_id=v1%3A165393539905079933; Max-Age=63072000; Expires=Wed, 29 May 2024 18:29:59 GMT; Path=/; Domain=.twitter.com; Secure; SameSite=None', 'content-type': 'application/json;charset=utf-8', 'cache-control': 'no-cache, no-store, must-revalidate, pre-check=0, post-check=0', 'last-modified': 'Mon, 30 May 2022 18:29:59 GMT', 'x-transaction': 'd3fa05c011843bf1', 'content-length': '2940', 'x-access-level': 'read', 'x-frame-options': 'SAMEORIGIN', 'content-encoding': 'gzip', 'x-xss-protection': '0', 'x-rate-limit-limit': '180', 'x-rate-limit-reset': '1653936299', 'content-disposition': 'attachment; filename=json.json', 'x-content-type-options': 'nosniff', 'x-rate-limit-remaining': '179', 'x-twitter-response-tags': 'BouncerCompliant', 'strict-transport-security': 'max-age=631138519', 'x-response-time': '91', 'x-connection-hash': 'c8e6616b92f8921a2b82702e661abfc7560bbc41b7b092fb61fb9bca3989d440'}}"
            ]
          },
          "metadata": {},
          "execution_count": 174
        }
      ]
    },
    {
      "cell_type": "markdown",
      "metadata": {
        "id": "sDdUPf659IMq"
      },
      "source": [
        "We obtain an object with detailed information about the request and the response by Twitter, to obtain the list of tweets:"
      ]
    },
    {
      "cell_type": "code",
      "metadata": {
        "colab": {
          "base_uri": "https://localhost:8080/"
        },
        "id": "AWwj7bEy9IMr",
        "outputId": "241e4d44-0666-4b7e-9a87-76c11104d1b8"
      },
      "source": [
        "delta_tweets = tsresp[\"content\"][\"statuses\"]\n",
        "delta_tweets[0] # First tweet data"
      ],
      "execution_count": 175,
      "outputs": [
        {
          "output_type": "execute_result",
          "data": {
            "text/plain": [
              "{'contributors': None,\n",
              " 'coordinates': None,\n",
              " 'created_at': 'Mon May 30 18:29:44 +0000 2022',\n",
              " 'favorite_count': 0,\n",
              " 'favorited': False,\n",
              " 'geo': None,\n",
              " 'id': 1531342109336383489,\n",
              " 'id_str': '1531342109336383489',\n",
              " 'in_reply_to_screen_name': 'Delta',\n",
              " 'in_reply_to_status_id': None,\n",
              " 'in_reply_to_status_id_str': None,\n",
              " 'in_reply_to_user_id': 5920532,\n",
              " 'in_reply_to_user_id_str': '5920532',\n",
              " 'is_quote_status': False,\n",
              " 'lang': 'en',\n",
              " 'metadata': {'iso_language_code': 'en', 'result_type': 'recent'},\n",
              " 'place': None,\n",
              " 'retweet_count': 0,\n",
              " 'retweeted': False,\n",
              " 'source': '<a href=\"http://twitter.com/download/iphone\" rel=\"nofollow\">Twitter for iPhone</a>',\n",
              " 'text': '@Delta Delta airlines have to be the worst airline to fly with. If you want to avoid pilots not showing up, rude ga… https://t.co/6D4FSSkHfT',\n",
              " 'truncated': True,\n",
              " 'user': {'contributors_enabled': False,\n",
              "  'created_at': 'Fri Aug 10 14:45:31 +0000 2012',\n",
              "  'default_profile': False,\n",
              "  'default_profile_image': False,\n",
              "  'description': 'Never give up, So Glad to be Alive #BULLETPROOF IG:@team_killjizzle #athlete #ATM',\n",
              "  'entities': {'description': {'urls': []},\n",
              "   'url': {'urls': [{'display_url': 'MidlifeEnt.Net',\n",
              "      'expanded_url': 'http://MidlifeEnt.Net',\n",
              "      'indices': [0, 23],\n",
              "      'url': 'https://t.co/Gnc9M7H9Vl'}]}},\n",
              "  'favourites_count': 93,\n",
              "  'follow_request_sent': False,\n",
              "  'followers_count': 203,\n",
              "  'following': False,\n",
              "  'friends_count': 337,\n",
              "  'geo_enabled': True,\n",
              "  'has_extended_profile': False,\n",
              "  'id': 749480618,\n",
              "  'id_str': '749480618',\n",
              "  'is_translation_enabled': False,\n",
              "  'is_translator': False,\n",
              "  'lang': None,\n",
              "  'listed_count': 0,\n",
              "  'location': 'Soufside,Fl',\n",
              "  'name': 'Wolf mon Bush mon',\n",
              "  'notifications': False,\n",
              "  'profile_background_color': 'C0DEED',\n",
              "  'profile_background_image_url': 'http://abs.twimg.com/images/themes/theme1/bg.png',\n",
              "  'profile_background_image_url_https': 'https://abs.twimg.com/images/themes/theme1/bg.png',\n",
              "  'profile_background_tile': True,\n",
              "  'profile_banner_url': 'https://pbs.twimg.com/profile_banners/749480618/1389615964',\n",
              "  'profile_image_url': 'http://pbs.twimg.com/profile_images/1530214973745537026/dCO06rqj_normal.jpg',\n",
              "  'profile_image_url_https': 'https://pbs.twimg.com/profile_images/1530214973745537026/dCO06rqj_normal.jpg',\n",
              "  'profile_link_color': '0084B4',\n",
              "  'profile_sidebar_border_color': 'FFFFFF',\n",
              "  'profile_sidebar_fill_color': 'DDEEF6',\n",
              "  'profile_text_color': '333333',\n",
              "  'profile_use_background_image': True,\n",
              "  'protected': False,\n",
              "  'screen_name': 'team_killjack',\n",
              "  'statuses_count': 3143,\n",
              "  'time_zone': None,\n",
              "  'translator_type': 'none',\n",
              "  'url': 'https://t.co/Gnc9M7H9Vl',\n",
              "  'utc_offset': None,\n",
              "  'verified': False,\n",
              "  'withheld_in_countries': []}}"
            ]
          },
          "metadata": {},
          "execution_count": 175
        }
      ]
    },
    {
      "cell_type": "markdown",
      "metadata": {
        "id": "FjUN5pSD9IMs"
      },
      "source": [
        "For each tweet we have an object with many details: among the key ones we have its unique ID, the name of the author and its actual text"
      ]
    },
    {
      "cell_type": "code",
      "metadata": {
        "colab": {
          "base_uri": "https://localhost:8080/"
        },
        "id": "ncZvBikP9IMt",
        "outputId": "650fa5db-1a1b-4ab0-a736-4abc6c6dba45"
      },
      "source": [
        "delta_tweets[0][\"id\"]"
      ],
      "execution_count": 176,
      "outputs": [
        {
          "output_type": "execute_result",
          "data": {
            "text/plain": [
              "1531342109336383489"
            ]
          },
          "metadata": {},
          "execution_count": 176
        }
      ]
    },
    {
      "cell_type": "code",
      "metadata": {
        "colab": {
          "base_uri": "https://localhost:8080/",
          "height": 39
        },
        "id": "7MjVSGsJ9IMv",
        "outputId": "6aef3007-4871-46e6-ec03-cbe217eed59a"
      },
      "source": [
        "delta_tweets[0][\"user\"][\"name\"]"
      ],
      "execution_count": 177,
      "outputs": [
        {
          "output_type": "execute_result",
          "data": {
            "text/plain": [
              "'Wolf mon Bush mon'"
            ],
            "application/vnd.google.colaboratory.intrinsic+json": {
              "type": "string"
            }
          },
          "metadata": {},
          "execution_count": 177
        }
      ]
    },
    {
      "cell_type": "code",
      "metadata": {
        "colab": {
          "base_uri": "https://localhost:8080/",
          "height": 58
        },
        "id": "HMTV3-cQ9IMx",
        "outputId": "f022d367-4214-4e37-f040-7c924873b108"
      },
      "source": [
        "delta_tweets[0][\"text\"]"
      ],
      "execution_count": 178,
      "outputs": [
        {
          "output_type": "execute_result",
          "data": {
            "text/plain": [
              "'@Delta Delta airlines have to be the worst airline to fly with. If you want to avoid pilots not showing up, rude ga… https://t.co/6D4FSSkHfT'"
            ],
            "application/vnd.google.colaboratory.intrinsic+json": {
              "type": "string"
            }
          },
          "metadata": {},
          "execution_count": 178
        }
      ]
    },
    {
      "cell_type": "markdown",
      "metadata": {
        "id": "KTfoH9L89IMz"
      },
      "source": [
        "Define a function to repeat the operations given above on any search string and return a list of the contents of each tweet (without metadata)"
      ]
    },
    {
      "cell_type": "code",
      "metadata": {
        "id": "dIJlfOIX9IMz"
      },
      "source": [
        "def get_recent_tweets(query):\n",
        "    print(\"getting tweets for '{}' ... \".format(query), end=\"\")\n",
        "    tso = TwitterSearchOrder()\n",
        "    tso.set_keywords([query]) # the keywords of our tweets search\n",
        "    tso.set_language(\"en\") # fetch only english tweets\n",
        "    tso.set_include_entities(False) # Entities provide metadata and additional contextual information about content posted on Twitter (e.g. hashtags, urls, user_mentions, symbols). https://developer.twitter.com/en/docs/twitter-api/v1/data-dictionary/object-model/entities\n",
        "    tso.set_count(5) # the number of tweets we want to get. If ommitted it is set to 100 that is also the maximum value\n",
        "    tsresp = ts.search_tweets(tso)\n",
        "    texts = [status[\"text\"] for status in tsresp[\"content\"][\"statuses\"]]\n",
        "    print(\"{} retrieved\".format(len(texts)))\n",
        "    return texts"
      ],
      "execution_count": 179,
      "outputs": []
    },
    {
      "cell_type": "markdown",
      "metadata": {
        "id": "xDC-Z8Md9IM1"
      },
      "source": [
        "Use then this function to create a dictionary mapping airline names to list of relevant tweets"
      ]
    },
    {
      "cell_type": "code",
      "metadata": {
        "colab": {
          "base_uri": "https://localhost:8080/"
        },
        "id": "HeWeR8-h9IM1",
        "outputId": "cdd65868-c732-4984-ef30-4a16f3383c32"
      },
      "source": [
        "current_tweets = {\n",
        "    airline: get_recent_tweets(\"@\" + airline)\n",
        "    for airline in airlines\n",
        "}"
      ],
      "execution_count": 180,
      "outputs": [
        {
          "output_type": "stream",
          "name": "stdout",
          "text": [
            "getting tweets for '@delta' ... 5 retrieved\n",
            "getting tweets for '@americanair' ... 5 retrieved\n",
            "getting tweets for '@jetblue' ... 5 retrieved\n",
            "getting tweets for '@southwestair' ... 5 retrieved\n",
            "getting tweets for '@united' ... 5 retrieved\n"
          ]
        }
      ]
    },
    {
      "cell_type": "code",
      "metadata": {
        "colab": {
          "base_uri": "https://localhost:8080/"
        },
        "id": "6WUU2w7RlJFE",
        "outputId": "2aa9a5f2-d270-4cc1-9f10-3dbc50fbb477"
      },
      "source": [
        "current_tweets"
      ],
      "execution_count": 181,
      "outputs": [
        {
          "output_type": "execute_result",
          "data": {
            "text/plain": [
              "{'americanair': ['RT @rowaydakawji: I have a chronic illness that can be life-threatening if not medicated. Today, @AmericanAir forced me to check in my carr…',\n",
              "  'RT @tiger_nhs: Solo HR for @tatemullens95, inside the park HR Austin Robinson and 2 run HR for @CardwellLincoln in the 1st for a 4-0 lead.…',\n",
              "  '@AmericanAir you guys are the new spirit airlines you suck',\n",
              "  'Solo HR for @tatemullens95, inside the park HR Austin Robinson and 2 run HR for @CardwellLincoln in the 1st for a 4… https://t.co/j7UFlRpUSV',\n",
              "  '@AmericanAir Spirit Airlines would nevaaaaa'],\n",
              " 'delta': ['RT @earthy__crunchy: @IEMcElroy @Delta Here you go… https://t.co/9bA7nf6oaf',\n",
              "  'RT @earthy__crunchy: @IEMcElroy @Delta And another one… https://t.co/QPtbzWGQ8F',\n",
              "  '@j_morein @Delta Same thing happened to me yesterday and the new flight got cancelled again today with just few hou… https://t.co/6MGn8nnvPM',\n",
              "  '@WayneCesbeef @DefnseUnivrsity @Delta BINGO! And also people in back that charge up when plane lands after an annou… https://t.co/JVGh84c2mR',\n",
              "  \"@Delta I'm highly disappointed and will have to go back in and hopefully  get a response on my reimbursement from D… https://t.co/S6IK5vfmBm\"],\n",
              " 'jetblue': ['Trying to get a refund from @JetBlue for a flight they cancelled last minute has been an absolute joke! 🙃 Never again.',\n",
              "  \"RT @RedSox: Nate's first career complete game tops the list of @JetBlue's #FlyestPlays! https://t.co/GL6bLu1RlC\",\n",
              "  \"@Chase - I've been a loyal customer for years and I'm utterly disappointed in your service! I've used my points to… https://t.co/jexOqDdDf4\",\n",
              "  'RT @JetBlue: It is our honor to remember those who served and made the ultimate sacrifice. Our Vets in Blue livery flies all year long in a…',\n",
              "  '@JetBlue flight 178 Boston and the TVs aren’t working?  Might as well fly @SouthwestAir  😭😢😭'],\n",
              " 'southwestair': ['@SouthwestAir Beach',\n",
              "  \"@SouthwestAir @DerekDDow Dear @SouthwestAir , can I have one of your 737's? Thank you in advance.\",\n",
              "  'RT @SouthwestAir: RT when you get it. https://t.co/alKq16SsOP',\n",
              "  'RT @SouthwestAir: RT when you get it. https://t.co/alKq16SsOP',\n",
              "  '@DeborahKurata @SouthwestAir Same thing with me ..had booked Hawaii ticket last year thinking parents would be here… https://t.co/kGrrUvajbl'],\n",
              " 'united': ['High key annoyed that @united decided to cancel my flight this morning at 7:11 when boarding was starting at 7:15.… https://t.co/m3HkriIWbQ',\n",
              "  'And on top of all this, you got airlines trying to hold on to your money!! 😒@united https://t.co/qPCy4gBJzl',\n",
              "  'RT @SecretFlying: #WashingtonDC to Mumbai, India for only $608 roundtrip with @United &amp; @FlySWISS #Travel (Jan-Feb dates)\\n\\nhttps://t.co/RPx…',\n",
              "  '@united thanks for delaying my flight and wasting my leave days fuck the military and their dependents huh?',\n",
              "  '@united is it necessary to announce during boarding from a country w/a mask mandate that ‘mask is required during b… https://t.co/NK18NwbkFm']}"
            ]
          },
          "metadata": {},
          "execution_count": 181
        }
      ]
    },
    {
      "cell_type": "code",
      "metadata": {
        "colab": {
          "base_uri": "https://localhost:8080/"
        },
        "id": "hW7g6aIYleKr",
        "outputId": "aaa878b7-c490-4073-a51c-153c25ab50a9"
      },
      "source": [
        "current_tweets[\"delta\"][:3]"
      ],
      "execution_count": 182,
      "outputs": [
        {
          "output_type": "execute_result",
          "data": {
            "text/plain": [
              "['RT @earthy__crunchy: @IEMcElroy @Delta Here you go… https://t.co/9bA7nf6oaf',\n",
              " 'RT @earthy__crunchy: @IEMcElroy @Delta And another one… https://t.co/QPtbzWGQ8F',\n",
              " '@j_morein @Delta Same thing happened to me yesterday and the new flight got cancelled again today with just few hou… https://t.co/6MGn8nnvPM']"
            ]
          },
          "metadata": {},
          "execution_count": 182
        }
      ]
    },
    {
      "cell_type": "markdown",
      "metadata": {
        "id": "pjfbPhaw9IM4"
      },
      "source": [
        "### Using pre-collected tweets\n",
        "\n",
        "For convenience, we provide a set of precollected tweets about the airline companies as an alternative to latest tweets"
      ]
    },
    {
      "cell_type": "code",
      "metadata": {
        "id": "rJXE4I_I9IM4"
      },
      "source": [
        "download(\"tweets.zip\", \"https://github.com/unibodatascience/BBS-TextMining/raw/3ad6643b698f652f200dfbf463a3cb49de8c0e9f/05%20-%20Opinion%20Mining%20with%20Python%20(part%201)/data/tweets.zip\")"
      ],
      "execution_count": 9,
      "outputs": []
    },
    {
      "cell_type": "markdown",
      "metadata": {
        "id": "4sEkMrRK9IM6"
      },
      "source": [
        "The ZIP archive contains a `company_name.txt` file for each airline company, each with a list of tweets (one per line): we load them into a dict mapping the name of each company to the list of relevant tweets"
      ]
    },
    {
      "cell_type": "code",
      "metadata": {
        "id": "MQzbR0hz9IM7"
      },
      "source": [
        "from zipfile import ZipFile\n",
        "archive_tweets = {}\n",
        "with ZipFile(\"tweets.zip\") as zipf:\n",
        "    for airline in airlines:\n",
        "        with zipf.open(airline + \".txt\") as f:\n",
        "            archive_tweets[airline] = list(line.decode().strip() for line in f)"
      ],
      "execution_count": 10,
      "outputs": []
    },
    {
      "cell_type": "markdown",
      "metadata": {
        "id": "ScC5ge499IM8"
      },
      "source": [
        "You can read for example some tweets about Delta airlines:"
      ]
    },
    {
      "cell_type": "code",
      "metadata": {
        "colab": {
          "base_uri": "https://localhost:8080/"
        },
        "id": "3rg0Nu9e9IM9",
        "outputId": "d4c53f15-faab-4296-bdd3-368bca0c1282"
      },
      "source": [
        "archive_tweets[\"delta\"][:3]"
      ],
      "execution_count": 11,
      "outputs": [
        {
          "output_type": "execute_result",
          "data": {
            "text/plain": [
              "['\"@LAKings: Are you the #LAKings biggest fan? Prove it and win a trip on @Delta to see the Kings vs Rangers in NY - http://t.co/JXBc5kDXnZ\"RT',\n",
              " '@AneetharPweety am @delta state buh on ma way to benin city now',\n",
              " 'RT @iamdiddy: If you’re flying out of JFK on @Delta you NEED to check out the new @CIROC VIP lounge at @Delta terminal at JFK. http://t.co/…']"
            ]
          },
          "metadata": {},
          "execution_count": 11
        }
      ]
    },
    {
      "cell_type": "markdown",
      "metadata": {
        "id": "9-dWEteC9IM-"
      },
      "source": [
        "In the following we will work on these `archive_tweets`, replace that in the line below with `current_tweets` if you want to use downloaded tweets instead"
      ]
    },
    {
      "cell_type": "code",
      "metadata": {
        "id": "qO407nji9IM-"
      },
      "source": [
        "tweets = archive_tweets # current_tweets"
      ],
      "execution_count": 12,
      "outputs": []
    },
    {
      "cell_type": "markdown",
      "metadata": {
        "id": "khZAVoZV9INA"
      },
      "source": [
        "To better deal with them later, we represents tweets into a pandas DataFrame with two columns\n",
        "- a `text` column with the text of the tweet\n",
        "- an `airline` column with the airline each tweet refers to"
      ]
    },
    {
      "cell_type": "code",
      "metadata": {
        "id": "6_q-5J0N9INA"
      },
      "source": [
        "tweets = pd.DataFrame(\n",
        "    {\"airline\": airline, \"text\": text}\n",
        "    for airline, tweetlist in tweets.items()\n",
        "    for text in tweetlist\n",
        ")"
      ],
      "execution_count": 13,
      "outputs": []
    },
    {
      "cell_type": "code",
      "metadata": {
        "colab": {
          "base_uri": "https://localhost:8080/",
          "height": 158
        },
        "id": "BVxwWYH79INC",
        "outputId": "6b816d3c-6ede-49ac-8e38-e85b117bde43"
      },
      "source": [
        "tweets.head(3)"
      ],
      "execution_count": 14,
      "outputs": [
        {
          "output_type": "execute_result",
          "data": {
            "text/plain": [
              "  airline  \\\n",
              "0   delta   \n",
              "1   delta   \n",
              "2   delta   \n",
              "\n",
              "                                                                                                  text  \n",
              "0  \"@LAKings: Are you the #LAKings biggest fan? Prove it and win a trip on @Delta to see the Kings ...  \n",
              "1                                      @AneetharPweety am @delta state buh on ma way to benin city now  \n",
              "2  RT @iamdiddy: If you’re flying out of JFK on @Delta you NEED to check out the new @CIROC VIP lou...  "
            ],
            "text/html": [
              "\n",
              "  <div id=\"df-bf86adb4-a7e5-44d0-8e8f-fe48d7b6fc36\">\n",
              "    <div class=\"colab-df-container\">\n",
              "      <div>\n",
              "<style scoped>\n",
              "    .dataframe tbody tr th:only-of-type {\n",
              "        vertical-align: middle;\n",
              "    }\n",
              "\n",
              "    .dataframe tbody tr th {\n",
              "        vertical-align: top;\n",
              "    }\n",
              "\n",
              "    .dataframe thead th {\n",
              "        text-align: right;\n",
              "    }\n",
              "</style>\n",
              "<table border=\"1\" class=\"dataframe\">\n",
              "  <thead>\n",
              "    <tr style=\"text-align: right;\">\n",
              "      <th></th>\n",
              "      <th>airline</th>\n",
              "      <th>text</th>\n",
              "    </tr>\n",
              "  </thead>\n",
              "  <tbody>\n",
              "    <tr>\n",
              "      <th>0</th>\n",
              "      <td>delta</td>\n",
              "      <td>\"@LAKings: Are you the #LAKings biggest fan? Prove it and win a trip on @Delta to see the Kings ...</td>\n",
              "    </tr>\n",
              "    <tr>\n",
              "      <th>1</th>\n",
              "      <td>delta</td>\n",
              "      <td>@AneetharPweety am @delta state buh on ma way to benin city now</td>\n",
              "    </tr>\n",
              "    <tr>\n",
              "      <th>2</th>\n",
              "      <td>delta</td>\n",
              "      <td>RT @iamdiddy: If you’re flying out of JFK on @Delta you NEED to check out the new @CIROC VIP lou...</td>\n",
              "    </tr>\n",
              "  </tbody>\n",
              "</table>\n",
              "</div>\n",
              "      <button class=\"colab-df-convert\" onclick=\"convertToInteractive('df-bf86adb4-a7e5-44d0-8e8f-fe48d7b6fc36')\"\n",
              "              title=\"Convert this dataframe to an interactive table.\"\n",
              "              style=\"display:none;\">\n",
              "        \n",
              "  <svg xmlns=\"http://www.w3.org/2000/svg\" height=\"24px\"viewBox=\"0 0 24 24\"\n",
              "       width=\"24px\">\n",
              "    <path d=\"M0 0h24v24H0V0z\" fill=\"none\"/>\n",
              "    <path d=\"M18.56 5.44l.94 2.06.94-2.06 2.06-.94-2.06-.94-.94-2.06-.94 2.06-2.06.94zm-11 1L8.5 8.5l.94-2.06 2.06-.94-2.06-.94L8.5 2.5l-.94 2.06-2.06.94zm10 10l.94 2.06.94-2.06 2.06-.94-2.06-.94-.94-2.06-.94 2.06-2.06.94z\"/><path d=\"M17.41 7.96l-1.37-1.37c-.4-.4-.92-.59-1.43-.59-.52 0-1.04.2-1.43.59L10.3 9.45l-7.72 7.72c-.78.78-.78 2.05 0 2.83L4 21.41c.39.39.9.59 1.41.59.51 0 1.02-.2 1.41-.59l7.78-7.78 2.81-2.81c.8-.78.8-2.07 0-2.86zM5.41 20L4 18.59l7.72-7.72 1.47 1.35L5.41 20z\"/>\n",
              "  </svg>\n",
              "      </button>\n",
              "      \n",
              "  <style>\n",
              "    .colab-df-container {\n",
              "      display:flex;\n",
              "      flex-wrap:wrap;\n",
              "      gap: 12px;\n",
              "    }\n",
              "\n",
              "    .colab-df-convert {\n",
              "      background-color: #E8F0FE;\n",
              "      border: none;\n",
              "      border-radius: 50%;\n",
              "      cursor: pointer;\n",
              "      display: none;\n",
              "      fill: #1967D2;\n",
              "      height: 32px;\n",
              "      padding: 0 0 0 0;\n",
              "      width: 32px;\n",
              "    }\n",
              "\n",
              "    .colab-df-convert:hover {\n",
              "      background-color: #E2EBFA;\n",
              "      box-shadow: 0px 1px 2px rgba(60, 64, 67, 0.3), 0px 1px 3px 1px rgba(60, 64, 67, 0.15);\n",
              "      fill: #174EA6;\n",
              "    }\n",
              "\n",
              "    [theme=dark] .colab-df-convert {\n",
              "      background-color: #3B4455;\n",
              "      fill: #D2E3FC;\n",
              "    }\n",
              "\n",
              "    [theme=dark] .colab-df-convert:hover {\n",
              "      background-color: #434B5C;\n",
              "      box-shadow: 0px 1px 3px 1px rgba(0, 0, 0, 0.15);\n",
              "      filter: drop-shadow(0px 1px 2px rgba(0, 0, 0, 0.3));\n",
              "      fill: #FFFFFF;\n",
              "    }\n",
              "  </style>\n",
              "\n",
              "      <script>\n",
              "        const buttonEl =\n",
              "          document.querySelector('#df-bf86adb4-a7e5-44d0-8e8f-fe48d7b6fc36 button.colab-df-convert');\n",
              "        buttonEl.style.display =\n",
              "          google.colab.kernel.accessAllowed ? 'block' : 'none';\n",
              "\n",
              "        async function convertToInteractive(key) {\n",
              "          const element = document.querySelector('#df-bf86adb4-a7e5-44d0-8e8f-fe48d7b6fc36');\n",
              "          const dataTable =\n",
              "            await google.colab.kernel.invokeFunction('convertToInteractive',\n",
              "                                                     [key], {});\n",
              "          if (!dataTable) return;\n",
              "\n",
              "          const docLinkHtml = 'Like what you see? Visit the ' +\n",
              "            '<a target=\"_blank\" href=https://colab.research.google.com/notebooks/data_table.ipynb>data table notebook</a>'\n",
              "            + ' to learn more about interactive tables.';\n",
              "          element.innerHTML = '';\n",
              "          dataTable['output_type'] = 'display_data';\n",
              "          await google.colab.output.renderOutput(dataTable, element);\n",
              "          const docLink = document.createElement('div');\n",
              "          docLink.innerHTML = docLinkHtml;\n",
              "          element.appendChild(docLink);\n",
              "        }\n",
              "      </script>\n",
              "    </div>\n",
              "  </div>\n",
              "  "
            ]
          },
          "metadata": {},
          "execution_count": 14
        }
      ]
    },
    {
      "cell_type": "markdown",
      "metadata": {
        "id": "qKrg7s8f9INF"
      },
      "source": [
        "### Estimating sentiment using lists of opinion words\n",
        "\n",
        "Several methods and algorithms have been proposed in literature to estimate the sentiment of a document (or sentence), usually quite complex.\n",
        "\n",
        "To get started, we will use a trivial lexicon-based method which assigns a score by counting known positive and negative words in each tweet.\n",
        "\n",
        "Hu and Liu made available for download a list of about 6,800 words labeled as either positive or negative.\n",
        "\n",
        "- **Positive:** love, best, cool, great, good, amazing, ...\n",
        "- **Negative:** hate, worst, sucks, awful, nightmare, ..."
      ]
    },
    {
      "cell_type": "markdown",
      "metadata": {
        "id": "ZrgWberF9INF"
      },
      "source": [
        "We write\n",
        "- a function used to process word lists, ignoring lines either empty or starting with \";\" (comments)\n",
        "- another function using the first one to get a set of words contained in a named file"
      ]
    },
    {
      "cell_type": "code",
      "metadata": {
        "id": "BBxH-BSW9ING"
      },
      "source": [
        "def scan_hu_liu(f):\n",
        "    for line in f:\n",
        "        line = line.decode(errors=\"ignore\").strip() # strip() function removes spaces at the beginning and at the end of the string\n",
        "        if line and not line.startswith(\";\"):\n",
        "            yield line\n",
        "\n",
        "def load_hu_liu(filename):\n",
        "    with open(filename, \"rb\") as f:\n",
        "        return set(scan_hu_liu(f)) # set(...) is the build function to create a new Python set {}"
      ],
      "execution_count": 15,
      "outputs": []
    },
    {
      "cell_type": "markdown",
      "metadata": {
        "id": "mqbslQd69INI"
      },
      "source": [
        "We then download the two sets (one for positive words and one for negative ones) and use the latter function to load them"
      ]
    },
    {
      "cell_type": "code",
      "metadata": {
        "colab": {
          "base_uri": "https://localhost:8080/"
        },
        "id": "xAfuoln99INI",
        "outputId": "db9f9c2b-ba75-421d-a824-1687d1dc829f"
      },
      "source": [
        "download(\"positive-words.txt\", \"https://raw.githubusercontent.com/unibodatascience/BBS-TextMining/3ad6643b698f652f200dfbf463a3cb49de8c0e9f/05%20-%20Opinion%20Mining%20with%20Python%20(part%201)/data/positive-words.txt\")\n",
        "download(\"negative-words.txt\", \"https://raw.githubusercontent.com/unibodatascience/BBS-TextMining/3ad6643b698f652f200dfbf463a3cb49de8c0e9f/05%20-%20Opinion%20Mining%20with%20Python%20(part%201)/data/negative-words.txt\")\n",
        "\n",
        "hu_liu_pos = load_hu_liu(\"positive-words.txt\")\n",
        "print('Positive words')\n",
        "print(hu_liu_pos)\n",
        "\n",
        "print()\n",
        "\n",
        "hu_liu_neg = load_hu_liu(\"negative-words.txt\")\n",
        "print('Negative words')\n",
        "print(hu_liu_neg)"
      ],
      "execution_count": 16,
      "outputs": [
        {
          "output_type": "stream",
          "name": "stdout",
          "text": [
            "Positive words\n",
            "{'painless', 'optimal', 'obtainable', 'keenly', 'ethical', 'accessible', 'gumption', 'thrilling', 'indebted', 'heartfelt', 'virtuous', 'exaltation', 'gracefully', 'amenity', 'prettily', 'punctual', 'amazed', 'futuristic', 'defender', 'joyfully', 'neat', 'liberation', 'mastery', 'ardent', 'available', 'amiabily', 'rapt', 'excellently', 'impressively', 'bullish', 'nourishment', 'fashionably', 'privileged', 'rightness', 'fondness', 'hug', 'innovation', 'reasonable', 'salutary', 'miraculously', 'steadiness', 'well-wishers', 'politeness', 'flawless', 'supremely', 'avid', 'fanfare', 'saintliness', 'rejuvenated', 'steadfast', 'illuminate', 'enrich', 'blithe', 'brainy', 'interests', 'beneficially', 'enthralled', 'goodly', 'promoter', 'imaginative', 'permissible', 'err-free', 'extoll', 'readily', 'genuine', 'nicely', 'pleasing', 'clear', 'magnificently', 'humane', 'breeze', 'gratify', 'multi-purpose', 'lifesaver', 'grateful', 'titillate', 'supurb', 'recover', 'luminous', 'advocated', 'humorously', 'outperform', 'persevere', 'admirable', 'rock-stars', 'merit', 'aspiration', 'liberate', 'chivalrous', 'enthusiasm', 'stylish', 'hands-down', 'hopeful', 'enchant', 'harmless', 'enraptured', 'outperforming', 'streamlined', 'justly', 'proactive', 'complemented', 'immaculate', 'sustainability', 'affability', 'fruitful', 'innovative', 'heartily', 'unreal', 'windfall', 'exhilaratingly', 'secure', 'tantalizing', 'preferably', 'devout', 'swift', 'soothe', 'awe', 'dead-cheap', 'reasoned', 'unconditional', 'luster', 'exceed', 'marvellous', 'marvelousness', 'statuesque', 'bravo', 'visionary', 'amusingly', 'guiltless', 'enliven', 'fastest', 'edify', 'mesmerizes', 'winners', 'beneficent', 'cuteness', 'dazzling', 'celebratory', 'truthfulness', 'romanticize', 'bonus', 'effortless', 'affable', 'encourage', 'noble', 'sublime', 'breakthrough', 'brave', 'simplifies', 'personages', 'thrills', 'handily', 'tidy', 'enchantingly', 'compliment', 'convincing', 'refresh', 'jolly', 'cashback', 'eyecatching', 'coolest', 'uphold', 'cashbacks', 'appreciatively', 'whooa', 'godsend', 'flawlessly', 'nourish', 'believeable', 'capably', 'refined', 'oasis', 'unabashedly', 'unquestionable', 'elated', 'euphoria', 'prosperous', 'helpful', 'fearlessly', 'mesmerize', 'cleaner', 'first-in-class', 'mesmerized', 'divine', 'kindly', 'overtaking', 'astound', 'respect', 'soothingly', 'fluent', 'fortunate', 'inexpensive', 'enthral', 'sufficed', 'vigilance', 'amicably', 'unencumbered', 'memorable', 'adaptive', 'hardy', 'better-known', 'passion', 'impressiveness', 'amazing', 'exhilarating', 'sincerity', 'refine', 'entrust', 'efficient', 'pretty', 'idol', 'doubtless', 'precise', 'fresher', 'overtakes', 'enhanced', 'compact', 'terrifically', 'revolutionary', 'works', 'heartwarming', 'splendor', 'auspicious', 'efficiently', 'powerful', 'significant', 'benefits', 'willingly', 'easing', 'thank', 'distinguished', 'stability', 'captivate', 'generous', 'admiration', 'victory', 'freshest', 'blossom', 'revitalize', 'hooray', 'lovable', 'low-priced', 'exciting', 'conveniently', 'well-rounded', 'innocuous', 'sharp', 'laud', 'kindness', 'subsidize', 'satisified', 'dignity', 'extol', 'winner', 'elegantly', 'amply', 'illustrious', 'lean', 'unassailable', 'affectionate', 'heroize', 'easiest', 'peach', 'delightful', 'enrichment', 'captivating', 'flexibility', 'blessing', 'likable', 'unity', 'triumphal', 'impartially', 'inestimably', 'faultless', 'gutsy', 'staunchly', 'revive', 'elegance', 'thumb-up', 'enrapt', 'charisma', 'cheapest', 'restructured', 'master', 'playful', 'rejuvenate', 'promising', 'agreeable', 'aver', 'awesomely', 'excites', 'maturely', 'seamless', 'optimistic', 'heroic', 'vouchsafe', 'patience', 'credence', 'reaffirm', 'relaxed', 'swankier', 'triumphant', 'unabashed', 'subsidized', 'overtake', 'dotingly', 'consummate', 'contribution', 'intimacy', 'energy-efficient', 'reformed', 'manageable', 'time-honored', 'supported', 'excitingly', 'attractive', 'subsidizes', 'wonderfully', 'amazes', 'competitive', 'appeal', 'profoundly', 'renaissance', 'glowingly', 'formidable', 'beautiful', 'impresses', 'bolster', 'outperforms', 'earnestness', 'top', 'unwavering', 'polite', 'godlike', 'willingness', 'ultra-crisp', 'spirited', 'upbeat', 'lucid', 'upliftingly', 'excels', 'jubilate', 'gloriously', 'deft', 'invaluablely', 'precious', 'joyous', 'upliftment', 'joy', 'concise', 'complement', 'clears', 'headway', 'perseverance', 'instructive', 'genial', 'refunded', 'posh', 'spotless', 'amity', 'diplomatic', 'glimmering', 'encouragement', 'hotcake', 'noteworthy', 'heros', 'effusively', 'magical', 'infallibility', 'resourcefulness', 'spacious', 'reliably', 'decent', 'maturity', 'saintly', 'spellbind', 'terrific', 'exuberant', 'apotheosis', 'feasibly', 'invaluable', 'relish', 'razor-sharp', 'resound', 'succeeded', 'loving', 'smoothes', 'admirably', 'graciousness', 'luck', 'trustworthiness', 'swiftness', 'adulatory', 'revolutionized', 'solicitous', 'thrill', 'perfect', 'alluringly', 'marvelous', 'effectiveness', 'vibrantly', 'exceeds', 'destiny', 'inpressed', 'lovely', 'prestige', 'shine', 'pleasurable', 'felicitous', 'beautifullly', 'cheery', 'fond', 'gain', 'calm', 'spellbound', 'stunning', 'trust', 'respectfully', 'foolproof', 'pre-eminent', 'shiny', 'remunerate', 'enchanted', 'cure-all', 'defeats', 'spellbindingly', 'preeminent', 'acclaimed', 'ovation', 'supremacy', 'dote', 'appropriate', 'cherished', 'well-backlit', 'shimmeringly', 'nimble', 'savior', 'effectual', 'kindliness', 'talent', 'balanced', 'marvel', 'affably', 'everlasting', 'sharpest', 'finest', 'virtuously', 'prospros', 'inspire', 'hot', 'rightly', 'coherent', 'simplify', 'smooth', 'bravery', 'mesmerizingly', 'sensibly', 'regard', 'redeeming', 'award', 'prominent', 'hallowed', 'enthrall', 'energize', 'exceptional', 'guarantee', 'finely', 'realizable', 'relief', 'pinnacle', 'elation', 'improved', 'resplendent', 'rightfully', 'altruistic', 'well-received', 'stable', 'trivially', 'benefactor', 'futurestic', 'glad', 'qualified', 'inviolable', 'gained', 'replaceable', 'uplifting', 'dominates', 'aspirations', 'agreeableness', 'satisfied', 'worthy', 'prodigious', 'resolute', 'sweeping', 'warm', 'glorious', 'gleefully', 'reforming', 'exonerate', 'protection', 'ambitious', 'pampered', 'eminence', 'thoughtfully', 'gallant', 'levity', 'best-performing', 'comfy', 'well-managed', 'boundless', 'instrumental', 'exhilaration', 'zippy', 'propitiously', 'snappy', 'faithfully', 'redemption', 'eye-catch', 'smoothly', 'splendidly', 'ennoble', 'problem-solver', 'lucidly', 'embolden', 'courageous', 'cheerful', 'large-capacity', 'famous', 'roomier', 'unrivaled', 'pleased', 'respectable', 'upgradeable', 'beckons', 'brighter', 'supporting', 'elevate', 'enticing', 'glee', 'gracious', 'invincibility', 'like', 'well-positioned', 'mind-blowing', 'exhilarate', 'masterpieces', 'convenient', 'appreciable', 'exuberance', 'humor', 'wonderously', 'outdo', 'spontaneous', 'versatile', 'dexterous', 'desirous', 'convience', 'endear', 'patient', 'unfettered', 'rejuvenating', 'fancier', 'dextrous', 'resounding', 'geekier', 'gaining', 'gratifyingly', 'effusiveness', 'enjoys', 'affirmative', 'celebration', 'excite', 'erudite', 'fabulously', 'wisely', 'titillating', 'capability', 'commodious', 'adoring', 'idealize', 'irresistibly', 'fecilitous', 'elegant', 'revere', 'privilege', 'surreal', 'romantically', 'super', 'fidelity', 'luckiness', 'eminent', 'renowned', 'angelic', 'responsibly', 'glorify', 'delicious', 'sophisticated', 'all-around', 'superiority', 'simplified', 'honesty', 'distinctive', 'enjoyment', 'standout', 'impress', 'prompt', 'reward', 'equitable', 'outstandingly', 'reassurance', 'supporter', 'fast', 'verifiable', 'perfection', 'acclaim', 'remission', 'work', 'individualized', 'decisiveness', 'favorited', 'honest', 'trusty', 'sparkle', 'elite', 'magnanimous', 'recommendation', 'spectacular', 'nourishing', 'smitten', 'entertaining', 'logical', 'accomodative', 'illumine', 'ambitiously', 'courteous', 'enthusiastic', 'revolutionize', 'unforgettable', 'delighted', 'poise', 'entertains', 'glimmer', 'recovery', 'amenable', 'enjoyably', 'liked', 'accommodative', 'supports', 'charming', 'capable', 'luckier', 'wisdom', 'effusion', 'proven', 'sensitive', 'educated', 'jubilant', 'sagacity', 'viewable', 'masters', 'swanky', 'smartly', 'better-than-expected', 'well-balanced', 'ardently', 'aspire', 'rockstars', 'convienient', 'astonish', 'awestruck', 'humility', 'useful', 'bliss', 'trouble-free', 'ingeniously', 'stupendously', 'winning', 'cooperatively', 'defeat', 'homage', 'unequivocally', 'noiseless', 'world-famous', 'spellbinding', 'paramount', 'adaptable', 'pure', 'enrapture', 'celebrated', 'undisputed', 'raptureously', 'frugal', 'idolize', 'pep', 'prudence', 'miracle', 'ease', 'satisfactory', 'considerate', 'endorses', 'exceled', 'readable', 'unequivocal', 'bonuses', 'steadfastly', 'positively', 'a+', 'goodwill', 'halcyon', 'delightfully', 'marvelously', 'amicable', 'covenant', 'brilliantly', 'comprehensive', 'happily', 'purposeful', 'overjoyed', 'stimulative', 'appreciates', 'playfully', 'wieldy', 'proficiently', 'fashionable', 'beneficial', 'traction', 'heavenly', 'idolized', 'coherence', 'blissfully', 'smiles', 'quicker', 'radiance', 'fascinate', 'ingenuous', 'strikingly', 'realistic', 'salute', 'affluence', 'fertile', 'risk-free', 'rectifying', 'rewardingly', 'dazzled', 'delight', 'treasure', 'purify', 'succeed', 'meritorious', 'succes', 'pamper', 'holy', 'serene', 'undisputable', 'confidence', 'reaffirmation', 'loves', 'decisive', 'heroine', 'excel', 'abundance', 'soft', 'glisten', 'heal', 'goood', 'entrancing', 'loveliness', 'wonderous', 'well-known', 'mature', 'low-price', 'wholesome', 'nice', 'restored', 'trendy', 'cleanliness', 'assurances', 'matchless', 'flutter', 'gusto', 'awards', 'undisputably', 'exuberantly', 'examplar', 'promises', 'whoa', 'advantages', 'flatteringly', 'rejoicingly', 'patriotic', 'wise', 'optimism', 'accomplished', 'mercifully', 'tempting', 'civility', 'best', 'sweetly', 'lead', 'finer', 'comfortably', 'keenness', 'elatedly', 'flexible', 'benevolent', 'harmony', 'hottest', 'integral', 'popular', 'cleanly', 'fortune', 'pleasurably', 'unselfish', 'satisfies', 'steadfastness', 'amusing', 'enlighten', 'protect', 'slammin', 'fastest-growing', 'stupendous', 'variety', 'kid-friendly', 'trustingly', 'veritable', 'sexy', 'compassionate', 'impeccable', 'successes', 'cleanest', 'protective', 'timely', 'dumbfounding', 'earnestly', 'crisper', 'energy-saving', 'meticulous', 'improving', 'transparent', 'effusive', 'tender', 'sweetness', 'luxurious', 'sumptuously', 'generously', 'modern', 'suavely', 'hero', 'honor', 'indulgence', 'favor', 'intriguing', 'advocate', 'congratulatory', 'dirt-cheap', 'gush', 'rightful', 'beautifully', 'richer', 'legendary', 'spiritual', 'evaluative', 'extraordinarily', 'prowess', 'best-known', 'indulgent', 'vibrant', 'winnable', 'proves', 'alluring', 'meaningful', 'fabulous', 'improvements', 'gainful', 'encouraging', 'brighten', 'outperformed', 'well-intentioned', 'recomend', 'lucky', 'abound', 'congratulation', 'cleverly', 'god-given', 'skill', 'renown', 'creative', 'worth-while', 'comfort', 'straighten', 'light-hearted', 'successful', 'awarded', 'flatter', 'panoramic', 'wealthy', 'soundness', 'diligence', 'angel', 'majesty', 'won', 'agreeably', 'robust', 'enthusiast', 'stirringly', 'favored', 'gratification', 'pros', 'rectify', 'defeating', 'easier', 'irreplaceable', 'reassure', 'quieter', 'praiseworthy', 'refund', 'fast-paced', 'yay', 'masterpiece', 'entice', 'productively', 'outstrip', 'fulfillment', 'serenity', 'unlimited', 'calmness', 'awesomeness', 'classy', 'felicitate', 'patriot', 'tranquil', 'phenomenally', 'peace', 'silent', 'unbiased', 'gratefully', 'loved', 'flattering', 'vivid', 'diligently', 'efficacious', 'lavishly', 'hardier', 'fervidly', 'marveled', 'wins', 'handsome', 'unparalleled', 'wow', 'trusting', 'skillfully', 'ample', 'adulation', 'sensationally', 'prodigiously', 'promised', 'handsomely', 'first-rate', 'propitious', 'inestimable', 'superb', 'wonderful', 'desirable', 'sharper', 'truthfully', 'undamaged', 'plush', 'sustainable', 'strong', 'excited', 'mercy', 'audibly', 'upgraded', 'counter-attacks', 'affectation', 'led', 'sincere', 'adorer', 'quiet', 'affinity', 'problem-free', 'hale', 'gaiety', 'faster', 'win', 'fav', 'glory', 'greatest', 'thriving', 'avidly', 'exaltingly', 'understandable', 'beutifully', 'cherub', 'progress', 'freedom', 'obsession', 'openness', 'imaculate', 'idyllic', 'approve', 'reverent', 'delicacy', 'gooood', 'envious', 'smarter', 'adequate', 'famously', 'steady', 'tenaciously', 'retractable', 'insightfully', 'attractively', 'nicer', 'wellbeing', 'boom', 'fondly', 'well-being', 'talents', 'convincingly', 'enchanting', 'breathtaking', 'cozy', 'improve', 'handier', 'clean', 'incredible', 'humble', 'hallmarks', 'restful', 'illuminating', 'adorable', 'infallible', 'beauteous', 'complimentary', 'thumbs-up', 'assure', 'modest', 'gleeful', 'orderly', 'wondrous', 'reachable', 'warmly', 'sensible', 'principled', 'enjoy', 'enthusiastically', 'saint', 'appealing', 'achievable', 'assurance', 'advantage', 'affluent', 'bargain', 'pepping', 'reconciliation', 'impartial', 'rapport', 'feisty', 'worked', 'fervently', 'excitedness', 'high-spirited', 'unmatched', 'opulent', 'elate', 'great', 'enticingly', 'maneuverable', 'intriguingly', 'charm', 'intimate', 'ebullience', 'blockbuster', 'exemplar', 'gems', 'magnanimously', 'heroically', 'restructuring', 'judicious', 'invigorating', 'incredibly', 'prosper', 'easiness', 'pleasingly', 'fervor', 'supple', 'fantastically', 'lively', 'raptureous', 'foresight', 'delightfulness', 'blameless', 'recommend', 'cheer', 'adulate', 'easy', 'easygoing', 'simpler', 'beloved', 'preferring', 'gallantly', 'sumptuousness', 'appreciative', 'marvels', 'evenly', 'ecstatic', 'helping', 'amuse', 'favorite', 'divinely', 'long-lasting', 'woo', 'zeal', 'fairness', 'tantalize', 'distinction', 'suffice', 'smartest', 'wonders', 'harmonize', 'sweeten', 'rejoice', 'sprightly', 'audible', 'tremendously', 'wowed', 'deserving', 'grandeur', 'quaint', 'well-mannered', 'redeem', 'feat', 'lawfully', 'satisfy', 'prudent', 'sensation', 'useable', 'clearly', 'attraction', 'brotherly', 'affordably', 'breathtakingly', 'lyrical', 'picturesque', 'classic', 'mightily', 'dexterously', 'merry', 'lush', 'profusion', 'positives', 'stunned', 'abounds', 'correctly', 'peaceable', 'law-abiding', 'self-determination', 'irreproachable', 'leading', 'comfortable', 'complements', 'dominate', 'revolutionizes', 'thoughtfulness', 'lover', 'complementary', 'affirm', 'ergonomical', 'jubilantly', 'pleases', 'dedicated', 'fave', 'favorable', 'glow', 'gorgeous', 'joyously', 'credible', 'dynamic', 'jubiliant', 'compactly', 'stellarly', 'ideally', 'productive', 'exellent', 'sagely', 'better', 'improves', 'strongest', 'stimulate', 'stainless', 'cajole', 'compliant', 'self-sufficiency', 'exalting', 'worthiness', 'civilize', 'commend', 'chaste', 'beckon', 'fiery', 'faith', 'generosity', 'exquisite', 'insightful', 'decency', 'applaud', 'enterprising', 'record-setting', 'harmoniously', 'stylishly', 'promise', 'precisely', 'patiently', 'continuity', 'brilliant', 'brisk', 'issue-free', 'liberty', 'exquisitely', 'cost-saving', 'tenderly', 'benifits', 'rapture', 'high-quality', 'believable', 'luxuriously', 'thoughtful', 'warmer', 'amazement', 'contrasty', 'enhance', 'first-class', 'revelation', 'relent', 'ecstatically', 'providence', 'enjoying', 'fortitude', 'well-regarded', 'dependable', 'happy', 'masterfully', 'endorsed', 'flourishing', 'sturdy', 'congratulate', 'pamperedly', 'speedily', 'cleared', 'good', 'sufficiently', 'intricate', 'exultant', 'inventive', 'richly', 'examplary', 'exaltedly', 'keen', 'merriness', 'fortuitous', 'reverently', 'awsome', 'laudable', 'honoring', 'eager', 'pluses', 'well-connected', 'facilitate', 'monumentally', 'lovably', 'self-satisfaction', 'solace', 'benefit', 'adoringly', 'refinement', 'acclamation', 'subsidizing', 'astounding', 'felicity', 'savvy', 'fortunately', 'pride', 'slick', 'consistently', 'endearing', 'shimmering', 'endorse', 'endorsing', 'sane', 'brilliance', 'exemplary', 'top-quality', 'cheaper', 'attune', 'colorful', 'glistening', 'overtook', 'morality', 'overture', 'darling', 'invulnerable', 'swank', 'dashing', 'progressive', 'rectification', 'congratulations', 'steadiest', 'cute', 'cool', 'ameliorate', 'free', 'reasonably', 'inspiration', 'miraculousness', 'jubilation', 'impartiality', 'willing', 'trumpet', 'rosy', 'zenith', 'cost-effective', 'prize', 'exceeding', 'ready', 'respectful', 'healthy', 'rockstar', 'praise', 'achievible', 'impeccably', 'well-informed', 'magnificent', 'grand', 'succeeds', 'poeticize', 'breathlessness', 'worthwhile', 'stabilize', 'simplifying', 'exceedingly', 'sufficient', 'detachable', 'benevolence', 'celebrate', 'successfully', 'gladden', 'genius', 'radiant', 'elan', 'eulogize', 'luxuriant', 'desiring', 'brilliances', 'beneficiary', 'fortuitously', 'laudably', 'outshine', 'passionate', 'well-behaved', 'suave', 'virtue', 'loyal', 'ftw', 'conscientious', 'suitable', 'chic', 'accurately', 'awed', 'regally', 'glitz', 'helped', 'stimulates', 'gratified', 'warmth', 'usable', 'valiantly', 'astonishing', 'excallent', 'outsmart', 'ideal', 'fancinating', 'prefered', 'crisp', 'enhances', 'wonder', 'prosperity', 'amicability', 'magnificence', 'instantly', 'immaculately', 'pamperedness', 'abundant', 'beautify', 'advantageous', 'dreamland', 'breakthroughs', 'luckiest', 'empowerment', 'clever', 'infallibly', 'intrigue', 'commendable', 'intelligence', 'gratifies', 'positive', 'dauntless', 'reverence', 'tenacious', 'commitment', 'tough', 'excelled', 'dazzle', 'dead-on', 'goodness', 'booming', 'tolerable', 'fervent', 'triumph', 'righteously', 'enlightenment', 'undaunted', 'unquestionably', 'novelty', 'deservedly', 'accurate', 'frolic', 'palatial', 'smile', 'smoothest', 'saver', 'self-respect', 'vouch', 'groundbreaking', 'prudently', 'mighty', 'advanced', 'lustrous', 'plentiful', 'accomplish', 'piety', 'expertly', 'majestic', 'courageousness', 'non-violence', 'fearless', 'empathy', 'feature-rich', 'correct', 'hard-working', 'premier', 'afordable', 'profound', 'state-of-the-art', 'affection', 'ingenuously', 'eventful', 'faithful', 'swankiest', 'ingenuity', 'openly', 'advantageously', 'comforting', 'heartening', 'effective', 'motivated', 'sensational', 'entertain', 'immense', 'cohere', 'qualify', 'nicest', 'user-replaceable', 'passionately', 'leverage', 'assuredly', 'buoyant', 'harmonious', 'merrily', 'worth', 'nobly', 'healthful', 'effectively', 'inviolate', 'consistent', 'superbly', 'boost', 'sturdier', 'cooperative', 'pleasure', 'striving', 'nurturing', 'enviousness', 'phenomenal', 'toll-free', 'tougher', 'excellency', 'courageously', 'peppy', 'temptingly', 'safely', 'feasible', 'surpass', 'confident', 'enhancement', 'smoother', 'tenacity', 'honored', 'jovial', 'amiability', 'hallmark', 'hilarious', 'eyecatch', 'speedy', 'well-run', 'gains', 'rapturously', 'firmer', 'resourceful', 'tops', 'rewarding', 'kudos', 'user-friendly', 'champ', 'prefer', 'recommended', 'upheld', 'defeated', 'knowledgeable', 'luxury', 'accomplishment', 'skillful', 'lawful', 'spectacularly', 'dignified', 'dawn', 'charmingly', 'bonny', 'famed', 'fervid', 'responsive', 'advocates', 'agilely', 'likes', 'admiring', 'proper', 'pepped', 'richness', 'autonomous', 'brainiest', 'grin', 'youthful', 'self-sufficient', 'amazingly', 'dependably', 'reputation', 'catchy', 'pain-free', 'danke', 'masterful', 'humorous', 'effortlessly', 'sincerely', 'rejoicing', 'well-established', 'workable', 'charismatic', 'striking', 'easy-to-use', 'durable', 'paradise', 'articulate', 'safe', 'unrestricted', 'revives', 'favour', 'excellence', 'enviously', 'excitedly', 'supreme', 'low-risk', 'peerless', 'sleek', 'lionhearted', 'rich', 'straightforward', 'amaze', 'carefree', 'festive', 'friendliness', 'exalted', 'accolades', 'achievement', 'jaw-dropping', 'revival', 'priceless', 'best-selling', 'astoundingly', 'empathize', 'well-made', 'adroit', 'well', 'tickle', 'gainfully', 'solid', 'vigilant', 'thrive', 'compatible', 'dumbfounded', 'excitement', 'enviable', 'endorsement', 'warmhearted', 'comely', 'merriment', 'gold', 'preferes', 'impassioned', 'reconcile', 'astonished', 'agility', 'clarity', 'fairly', 'bless', 'profuse', 'peacefully', 'staunchness', 'courtly', 'modesty', 'simplest', 'miraculous', 'talented', 'ecstasies', 'fascinating', 'intuitive', 'reform', 'awesome', 'extraordinary', 'golden', 'originality', 'courage', 'smilingly', 'trophy', 'fast-growing', 'luxuriate', 'grace', 'unbound', 'beauty', 'adventuresome', 'commendably', 'pampers', 'accolade', 'reforms', 'soundly', 'influential', 'valiant', 'zest', 'exultingly', 'champion', 'ecenomical', 'mesmerizing', 'assuring', 'reputable', 'eagerness', 'ebullient', 'gentle', 'happiness', 'miracles', 'love', 'beckoned', 'savings', 'lavish', 'diligent', 'freedoms', 'conciliatory', 'powerfully', 'clearer', 'ebulliently', 'low-cost', 'supportive', 'sensations', 'expeditiously', 'success', 'adore', 'outdone', 'ecstasy', 'engaging', 'peps', 'whoooa', 'softer', 'diversified', 'excelent', 'adroitly', 'gentlest', 'prolific', 'lighter', 'inspiring', 'enthuse', 'honorable', 'supurbly', 'bright', 'stellar', 'unbeatable', 'survival', 'tranquility', 'rational', 'guidance', 'lower-priced', 'portable', 'soulful', 'daringly', 'affordable', 'restructure', 'counter-attack', 'plusses', 'enticed', 'prominence', 'blissful', 'fresh', 'seasoned', 'cherish', 'solidarity', 'snazzy', 'delicate', 'thankful', 'victorious', 'fans', 'fine', 'upscale', 'thrillingly', 'engrossing', 'outshone', 'inspirational', 'trusted', 'pleasant', 'brand-new', 'valuable', 'earnest', 'vivacious', 'brightest', 'gratitude', 'receptive', 'tingle', 'uncomplicated', 'eye-catching', 'acumen', 'meticulously', 'stronger', 'resilient', 'sporty', 'astutely', 'sumptuous', 'hotcakes', 'twinkly', 'delectable', 'altruistically', 'triumphantly', 'eases', 'witty', 'reclaim', 'exalt', 'adventurous', 'convenience', 'satisfactorily', 'affirmation', 'sweetheart', 'leads', 'top-notch', 'refreshed', 'eloquently', 'proving', 'approval', 'smiling', 'exceeded', 'economical', 'accessable', 'evocative', 'regal', 'hail', 'promptly', 'tantalizingly', 'scenic', 'agile', 'tempt', 'excellent', 'jollify', 'sweet', 'valor', 'romantic', 'impressive', 'liking', 'stimulating', 'titillatingly', 'dominated', 'clear-cut', 'enjoyable', 'loyalty', 'encouragingly', 'righteousness', 'securely', 'notably', 'afford', 'staunch', 'foremost', 'adored', 'peaceful', 'intelligent', 'heaven', 'integrated', 'eloquent', 'enjoyed', 'magic', 'handy', 'succeeding', 'fancy', 'gaily', 'entranced', 'exceptionally', 'appreciate', 'fair', 'flashy', 'wows', 'intelligible', 'galore', 'glitter', 'neatest', 'perfectly', 'cure', 'thrifty', 'constructive', 'electrify', 'non-violent', 'improvement', 'expansive', 'authoritative', 'unfazed', 'truthful', 'suffices', 'interesting', 'geeky', 'irresistible', 'amiable', 'conciliate', 'eased', 'admire', 'god-send', 'fragrant', 'venerate', 'bountiful', 'daring', 'backbone', 'momentous', 'proud', 'satisfying', 'illuminati', 'invincible', 'sociable', 'contentment', 'graceful', 'remarkably', 'togetherness', 'astonishment', 'roomy', 'respite', 'humourous', 'appreciated', 'prestigious', 'wowing', 'deginified', 'refreshing', 'outwit', 'upgradable', 'humour', 'envy', 'righten', 'poised', 'enviably', 'trustworthy', 'substantive', 'gladly', 'thrift', 'greatness', 'rapid', 'recommendations', 'skilled', 'fascinatingly', 'ardor', 'fascination', 'convient', 'personalized', 'astounded', 'authentic', 'obsessions', 'marvelled', 'euphorically', 'joyful', 'surmount', 'admirer', 'exultation', 'ilu', 'fine-looking', 'pleasantly', 'toughest', 'peacekeepers', 'congenial', 'important', 'neatly', 'outstanding', 'stately', 'wholeheartedly', 'fame', 'prefers', 'topnotch', 'sparkling', 'fantastic', 'hearten', 'painlessly', 'selective', 'bloom', 'eloquence', 'merciful', 'gratifying', 'energetic', 'freed', 'friendly', 'lucrative', 'eagerly', 'well-bred', 'fun', 'praising', 'smart', 'revel', 'dignify', 'navigable', 'compassion', 'jaw-droping', 'admiringly', 'cushy', 'gladness', 'attentive', 'pardon', 'properly', 'right', 'renewed', 'polished', 'trump', 'invigorate', 'reliable', 'support', 'accomplishments', 'enough', 'nifty', 'happier', 'exult', 'adjustable', 'excellant', 'ingenious', 'impressed', 'beckoning', 'overtaken', 'preferable', 'cohesive', 'glowing', 'thinner', 'uplift', 'faithfulness', 'deference', 'poignant', 'remedy', 'survivor', 'thrilled', 'splendid', 'euphoric', 'well-educated', 'proficient', 'versatility', 'astonishingly', 'stylized', 'gem', 'rock-star', 'flourish', 'danken', 'gorgeously', 'calming', 'hospitable', 'empower', 'glamorous', 'monumental', 'unaffected', 'welcome', 'chivalry', 'rapturous', 'solicitously', 'industrious', 'remarkable', 'gifted', 'cornerstone', 'prodigy', 'graciously', 'superior', 'achievements', 'stunningly', 'poetic', 'righteous', 'dummy-proof', 'charitable'}\n",
            "\n",
            "Negative words\n",
            "{'unbearable', 'profane', 'jam', 'bitingly', 'distrustful', 'intractable', 'malign', 'obstinate', 'noise', 'bewail', 'refutation', 'self-destructive', 'audaciously', 'inconvenience', 'vainly', 'gimmicks', 'craftily', 'mishandle', 'unwatchable', 'inattentive', 'tortured', 'nefariously', 'damning', 'infested', 'quitter', 'obese', 'disrespectfulness', 'bumped', 'negate', 'inconsistencies', 'belligerently', 'untouched', 'shameful', 'authoritarian', 'chatterbox', 'impropriety', 'shake', 'dictatorial', 'scandalized', 'warped', 'secretive', 'far-fetched', 'clogged', 'sneering', 'tingled', 'collapse', 'rebellious', 'eccentricity', 'banish', 'sufferer', 'apprehension', 'catastrophically', 'adamant', 'adamantly', 'treasonous', 'unseemly', 'disparage', 'bestial', 'transgress', 'superficially', 'gabble', 'foully', 'skeptic', 'ding', 'zealot', 'unknown', 'dislike', 'subordinate', 'tricked', 'irragularity', 'stern', 'vagrant', 'brainless', 'dictator', 'indecisively', 'rejection', 'stupify', 'overbearing', 'irrationalities', 'sneak', 'omission', 'misbecome', 'limitation', 'carelessness', 'one-sided', 'oppress', 'unproving', 'dehumanization', 'superstition', 'fell', 'forgetful', 'merciless', 'lapsed', 'dumped', 'pitiless', 'lesser-known', 'glitches', 'liable', 'offend', 'intolerablely', 'nastiness', 'somber', 'racism', 'stumbles', 'avariciously', 'huckster', 'perturb', 'slowwww', 'misconception', 'insensitively', 'miscellaneous', 'obsess', 'trash', 'scar', 'ugh', 'inhibition', 'feebleminded', 'impediment', 'drop-outs', 'thoughtless', 'caustically', 'involuntary', 'conspiracies', 'resent', 'restriction', 'naughty', 'squeals', 'cataclysmically', 'vain', 'uncertain', 'dizzing', 'crumpled', 'overshadow', 'touted', 'disaffirm', 'dishearteningly', 'depressed', 'vociferously', 'miser', 'inadequately', 'mischievously', 'direly', 'unsure', 'revengefully', 'calumniously', 'bereft', 'dings', 'fatigued', 'hazard', 'indignant', 'outsider', 'unmoved', 'adversary', 'clueless', 'foul', 'enervate', 'hazy', 'insult', 'clamor', 'leery', 'lure', 'scream', 'inopportune', 'criticize', 'steep', 'disable', 'tacky', 'deficient', 'chunky', 'overbearingly', 'insulting', 'losing', 'appalled', 'beguile', 'craven', 'risky', 'pugnacious', 'poisonously', 'cynicism', 'handicapped', 'flaking', 'discourteous', 'heartbreaking', 'stumps', 'villify', 'whores', 'inhospitable', 'tense', 'incessant', '2-faced', 'manipulative', 'accusation', 'polluter', 'insubstantial', 'self-interest', 'cussed', 'nasty', 'touchy', 'concen', 'unfit', 'thwart', 'limp', 'contempt', 'heckled', 'insanely', 'persecute', 'anti-occupation', 'devastate', 'excruciating', 'mess', 'sneer', 'deceivers', 'audacious', 'unsettling', 'ill-natured', 'fiendish', 'self-criticism', 'carnage', 'gossip', 'lame-duck', 'infirm', 'ranting', 'anti-', 'scary', 'aversion', 'fraught', 'cackle', 'beggarly', 'disinterest', 'bulkyness', 'demoralizingly', 'allergies', 'bullshit', 'exile', 'stab', 'worst', 'misrepresentation', 'revoke', 'blistering', 'uproariously', 'sags', 'defile', 'irritated', 'inactive', 'fatique', 'combative', 'grief', 'screech', 'uncollectible', 'corruptted', 'vexingly', 'clog', 'rile', 'slowly', 'tediously', 'zaps', 'insubordinate', 'dissatisfactory', 'negative', 'immorally', 'snare', 'bleeds', 'criticism', 'gruesome', 'hestitant', 'extremist', 'inequality', 'usurp', 'suck', 'fret', 'indignantly', 'undue', 'allegation', 'cruelness', 'dying', 'reprehensive', 'deceptive', 'risks', 'wrangle', 'heresy', 'mindlessly', 'frail', 'disappoint', 'stressfully', 'foreboding', 'onslaught', 'reprehensibly', 'vileness', 'preoccupy', 'shirker', 'maledict', 'demolish', 'dumps', 'darker', 'unfeeling', 'obstructs', 'villains', 'havoc', 'infuriatingly', 'botch', 'fist', 'murky', 'impeach', 'douchbag', 'unaccustomed', 'cringed', 'tauntingly', 'expire', 'defective', 'ill-designed', 'imprudence', 'gawky', 'wrinkle', 'gruesomely', 'unwilling', 'freezing', 'oversight', 'stump', 'uninsured', 'grind', 'commotions', 'distaste', 'underpaid', 'revengeful', 'backward', 'difficulty', 'hassle', 'inefficient', 'trouble', 'droop', 'corruption', 'odd', 'nauseating', 'unfaithful', 'indecency', 'irrecoverable', 'err', 'flares', 'grumpily', 'detriment', 'nosey', 'abort', 'misbehavior', 'overacted', 'leaking', 'pessimism', '2-faces', 'creak', 'vindictiveness', 'adulterate', 'unfavorable', 'disastrous', 'confusing', 'bitch', 'thumb-down', 'questionable', 'falter', 'furor', 'inequitable', 'flickers', 'forebodingly', 'diatribes', 'obscenely', 'allergic', 'screwed-up', 'facetiously', 'unlikely', 'lier', 'grievances', 'destitute', 'depressingly', 'meddle', 'recant', 'coward', 'dunce', 'hellion', 'lacking', 'mocks', 'wildly', 'unscrupulous', 'stiflingly', 'cliched', 'heartbreakingly', 'insignificant', 'torment', 'plight', 'hissing', 'scornfully', 'writhe', 'acridly', 'impossibly', 'scathingly', 'unprofitable', 'broken', 'odder', 'overlook', 'unaccessible', 'weep', 'sagging', 'furiously', 'heartbreaker', 'weariness', 'occluded', 'ambivalence', 'obscures', 'agonize', 'startlingly', 'swagger', 'daunting', 'effigy', 'heedless', 'misbecoming', 'hoodwink', 'invasive', 'balk', 'choleric', 'demonized', 'nightmarish', 'suffocate', 'untrustworthy', 'worryingly', 'disgusting', 'ignorance', 'over-awe', 'disconcertingly', 'fanatic', 'insurrection', 'weaknesses', 'apologists', 'hairloss', 'rail', 'sinister', 'exagerated', 'dizzy', 'delaying', 'indignity', 'ineptitude', 'bleakness', 'drowning', 'disappointed', 'desolation', 'dilly-dally', 'fatigue', 'jabber', 'mistakes', 'jittery', 'achey', 'disgruntle', 'fainthearted', 'disgraced', 'sunder', 'astray', 'condemns', 'deplorable', 'unjustified', 'subversion', 'arrogant', 'craze', 'flirt', 'outraged', 'culprit', 'defunct', 'violate', 'dauntingly', 'rascals', 'sickness', 'argumentative', 'inefficacious', 'misgivings', 'ambiguous', 'blandish', 'avaricious', 'failed', 'high-priced', 'inaptitude', 'mushy', 'zealous', 'ailing', 'displeasing', 'rape', 'ill-conceived', 'condescend', 'obliterate', 'devilish', 'tenderness', 'draining', 'pretentious', 'mangles', 'viciously', 'calamitously', 'inaudible', 'lukewarm', 'strident', 'sinful', 'imprecise', 'discomfititure', 'puppets', 'gape', 'downhearted', 'revoltingly', 'assault', 'infraction', 'smuttiest', 'dissatisfied', 'superfluous', 'fevers', 'ill-mannered', 'suspicions', 'overloaded', 'bore', 'flakieness', 'malcontent', 'ruinous', 'offensively', 'bloated', 'rremediable', 'longingly', 'overawe', 'belie', 'shrug', 'apathetic', 'risk', 'joker', 'costlier', 'aggressive', 'monstrous', 'payback', 'rusty', 'facetious', 'slooow', 'saggy', 'peeve', 'overbalanced', 'dissonance', 'offence', 'smoulder', 'strenuous', 'fried', 'challenging', 'hideous', 'licentiousness', 'uncreative', 'intimidate', 'unpleasantries', 'agonizingly', 'belittle', 'toll', 'slowww', 'vociferous', 'vicious', 'dilapidated', 'deformed', 'damaging', 'heck', 'paranoid', 'mediocrity', 'rigid', 'butcher', 'badly', 'coldly', 'screwed', 'ruthless', 'lowly', 'subdued', 'desecrate', 'frantically', 'bereave', 'emptiness', 'uproarously', 'unspeakable', 'joke', 'turbulent', 'unexpected', 'insular', 'impoverish', 'loud', 'outcry', 'unsupported', 'banal', 'hiss', 'debauch', 'smallish', 'hectic', 'bearish', 'grumpiest', 'unacceptable', 'incorrigibly', 'lied', 'disarray', 'interruptions', 'emaciated', 'crafty', 'perplex', 'divisive', 'downgrade', 'dangerousness', 'undercut', 'slur', 'creeps', 'afflictive', 'callous', 'disconsolately', 'unlawful', 'pervert', 'disapointing', 'ill-sorted', 'stole', 'deceiving', 'insupportable', 'anarchy', 'stampede', 'unaffordable', 'moronic', 'spew', 'fears', 'insidious', 'loss', 'perfidious', 'slime', 'brash', 'tangled', 'bribery', 'rejecting', 'asinine', 'snagged', 'squeaky', 'dismissive', 'bump', 'funky', 'eyesore', 'cruelest', 'blasphemous', 'disintegrates', 'preposterously', 'threat', 'headache', 'archaic', 'disapprove', 'brutalities', 'freak', 'disregardful', 'guilt', 'reprimand', 'discontented', 'sunk', 'creeping', 'tragically', 'scariest', 'oversize', 'relapse', 'conspirator', 'break', 'audiciously', 'abscond', 'eviscerate', 'impudently', 'complicit', 'tiringly', 'undetermined', 'defamations', 'traumatically', 'desiccate', 'dastardly', 'stubbornly', 'dissing', 'overthrows', 'boisterous', 'impair', 'ordeal', 'itchy', 'unwisely', 'repulsing', 'runaway', 'bemoaning', 'crushing', 'derisively', 'unwillingness', 'disquietingly', 'bashed', 'comical', 'frigid', 'incompatible', 'violator', 'insecurity', 'woe', 'aghast', 'dismaying', 'excuse', 'brittle', 'immobilized', 'irately', 'mockeries', 'brutalising', 'surrender', 'carp', 'snag', 'anti-american', 'viper', 'tanked', 'draconic', 'grumpier', 'mischief', 'sticky', 'lecherous', 'uncivilized', 'toxic', 'freeze', 'inexperience', 'compulsive', 'snappish', 'tease', 'fissures', 'sugar-coated', 'detested', 'harassment', 'deplorably', 'misbegotten', 'cliche', 'distastefully', 'misjudge', 'cracked', 'scolding', 'sloow', 'inferiority', 'dispirit', 'unimaginable', 'dishonorablely', 'estranged', 'exhort', 'exorbitantly', 'bemoan', 'plasticky', 'prohibitively', 'bash', 'confounded', 'disproportionate', 'imprisonment', 'wild', 'sully', 'radically', 'bruises', 'punishable', 'weary', 'sourly', 'disquietude', 'capriciousness', 'disaffect', 'brazen', 'dismayingly', 'craps', 'blockage', 'blind', 'exhausted', 'idiocies', 'sink', 'cannibal', 'tingling', 'dirty', 'overthrow', 'irksomeness', 'bid-rigging', 'ill-treated', 'losses', 'antithetical', 'revenge', 'misery', 'notoriety', 'squander', 'stubbornness', 'hatefulness', 'crept', 'irrationals', 'implacable', 'problem', 'unreliability', 'wane', 'inexcusable', 'disastrously', 'confess', 'incoherent', 'vibrate', 'fusty', 'harassed', 'glitch', 'doubts', 'derogatory', 'drastically', 'scrambled', 'knotted', 'hostile', 'tempest', 'weird', 'denying', 'disprove', 'condemnation', 'disappointment', 'embroil', 'dissolute', 'nitpick', 'tentative', 'deter', 'desperately', 'uproarous', 'exploit', 'desertion', 'dissed', 'hampered', 'thankless', 'mendacious', 'womanizing', 'exagerates', 'instigator', 'glib', 'vague', 'torturing', 'lamentably', 'alienated', 'resentment', 'repressive', 'mysterious', 'hostility', 'indoctrinate', 'bull----', 'misconceptions', 'unrest', 'vomited', 'unproved', 'misdirection', 'splitting', 'mortifying', 'freezes', 'insincerely', 'sabotage', 'unsupportive', 'scandals', 'wedge', 'unsafe', 'gritty', 'unsavory', 'hardhearted', 'anxiety', 'contort', 'oversimplify', 'touts', 'infamously', 'nauseates', 'obsessively', 'hopeless', 'jarring', 'polution', 'harden', 'junk', 'infidels', 'soapy', 'stalls', 'disinclination', 'maliciousness', 'vexing', 'embarrassment', 'cunt', 'hysterically', 'deprived', 'improperly', 'profanity', 'obscured', 'recalcitrant', 'acerbate', 'embroilment', 'dangerous', 'retract', 'proprietary', 'pillory', 'fool', 'pretend', 'revolt', 'stigma', 'frustrating', 'perversely', 'bungler', 'fat-cats', 'imminence', 'depressing', 'unexplained', 'adversity', 'complained', 'devious', 'faulty', 'hobble', 'molestation', 'pestilent', 'zealously', 'bored', 'problems', 'unqualified', 'horrible', 'erratic', 'outcast', 'impertinent', 'concerns', 'earsplitting', 'mislead', 'invader', 'satirical', 'downheartedly', 'tattered', 'disorient', 'franticly', 'uneasy', 'baseless', 'corrupts', 'posturing', 'blister', 'officious', 'inept', 'sloww', 'incapable', 'despotic', 'asperse', 'indecent', 'endanger', 'misaligned', 'batty', 'revert', 'beggar', 'back-woods', 'crude', 'defamation', 'disaffected', 'emphatically', 'catastrophic', 'squealing', 'worsen', 'sarcastic', 'squabble', 'bizarre', 'blather', 'overrated', 'pander', 'wrongly', 'detestable', 'laid-off', 'severe', 'difficult', 'greed', 'coercion', 'confession', 'crabby', 'dissention', 'imposition', 'irrecoverableness', 'downsides', 'stranger', 'unravel', 'hysteria', 'self-defeating', 'dispiritedly', 'hating', 'depress', 'salacious', 'aggression', 'resignation', 'sketchy', 'sugar-coat', 'devil', 'egomania', 'obscurity', 'sag', 'throb', 'unappealing', 'unpredictable', 'egotistically', 'downcast', 'irreparable', 'exasperating', 'uprising', 'degradation', 'slogged', 'harboring', 'mistrustful', 'scum', 'lechery', 'confused', 'fucking', 'extremists', 'puzzled', 'squeal', 'debaucher', 'stutters', 'unorthodox', 'killer', 'unproductive', 'aggrivation', 'rifts', 'unintelligile', 'licentiously', 'loathe', 'vomit', 'repulsed', 'choppy', 'undone', 'impede', 'misinform', 'cheapen', 'mistaken', 'malcontented', 'missed', 'nauseate', 'pratfall', 'wanton', 'soreness', 'aggrieved', 'pretense', 'upsets', 'snob', 'escapade', 'frustrated', 'complacent', 'stymied', 'terrorize', 'unthinkable', 'babble', 'besiege', 'struggling', 'blindside', 'forlorn', 'baffling', 'racist', 'undependable', 'growl', 'impunity', 'manipulators', 'exacerbate', 'outbreak', 'unsteady', 'messes', 'bias', 'stuffy', 'shrivel', 'interference', 'unjustifiably', 'domineer', 'subjugate', 'reluctance', 'cheaply', 'discontent', 'fallout', 'excruciatingly', 'ill-fated', 'blunder', 'debts', 'disinclined', 'moron', 'contrive', 'discouraging', 'disliked', 'harridan', 'incognizant', 'expensive', 'distrusting', 'injustices', 'misalign', 'needlessly', 'inextricably', 'limits', 'exasperate', 'humming', 'disarm', 'incomparably', 'inextricable', 'menacingly', 'illegally', 'miscalculate', 'harpy', 'cold', 'selfinterested', 'subversive', 'upbraid', 'rejected', 'scrambling', 'slut', 'confuse', 'felonious', 'sulk', 'slanderer', 'declining', 'hum', 'plebeian', 'anxious', 'discourage', 'picketed', 'haunt', 'irresponsibly', 'lack', 'leakages', 'shaky', 'dissonant', 'frighten', 'taboo', 'fawningly', 'intransigent', 'irretating', 'adulteration', 'ill-used', 'intrusion', 'deceiver', 'motionless', 'disconcerted', 'mope', 'contrariness', 'haters', 'radicals', 'regrettable', 'fuss', 'smelt', 'sucks', 'cripples', 'dented', 'excessively', 'indiscriminating', 'onerously', 'stagnant', 'liars', 'ill-tempered', 'checkered', 'inflationary', 'subvert', 'finicky', 'cracks', 'pout', 'pale', 'tricky', 'drab', 'belabor', 'aborted', 'dissonantly', 'inequitably', 'nonsense', 'ominous', 'scramble', 'shamefully', 'lethargic', 'disagreeable', 'sub-par', 'scandel', 'heretical', 'aborts', 'flairs', 'frigging', 'fatalistically', 'inferior', 'murder', 'blemish', 'overwhelmed', 'congestion', 'stalemate', 'crowdedness', 'reprehensible', 'rot', 'liability', 'stupid', 'infamous', 'bickering', 'dies', 'jobless', 'irrelevant', 'scandal', 'sleazy', 'diss', 'jolt', 'upset', 'spews', 'noxious', 'disabled', 'warlike', 'split', 'perplexing', 'haggle', 'flirty', 'prate', 'mistrustfully', 'undocumented', 'paradoxical', 'disputed', 'horrify', 'bravado', 'inexorable', 'sever', 'infiltrators', 'restrictive', 'urgent', 'goading', 'catastrophe', 'jumpy', 'overwhelm', 'fastidiously', 'irredeemably', 'deploringly', 'boiling', 'rascal', 'humid', 'disapointed', 'clique', 'slanderous', 'dissocial', 'disrespectful', 'mishap', 'disunity', 'indiscreet', 'unthinkably', 'vindictively', 'roadblocks', 'horrifies', 'cheats', 'belated', 'fictitious', 'smuttier', 'rattles', 'dropout', 'protesting', 'scams', 'fulminate', 'haze', 'wasteful', 'irritably', 'unneeded', 'crippled', 'rampage', 'dogmatic', 'petrified', 'freakish', 'puzzlement', 'confusion', 'shipwreck', 'incomprehension', 'askance', 'filth', 'sad', 'exorbitant', 'mortification', 'terror-genic', 'acrid', 'avenge', 'frets', 'heavyhearted', 'inelegance', 'spoon-fed', 'accusing', 'unhappy', 'distressed', 'inclement', 'feckless', 'threesome', 'devilry', 'sneakily', 'irredeemable', 'slow-moving', 'bungling', 'acrimony', 'quarrellously', 'mispronounce', 'ridiculously', 'accusingly', 'utterly', 'snarl', 'vent', 'spooky', 'uncaring', 'fabrication', 'worthlessness', 'skimpy', 'incompatability', 'broken-hearted', 'wretched', 'indiscriminate', 'hardliners', 'peeled', 'degeneration', 'smelling', 'dissatisfying', 'frenetic', 'spurious', 'troubled', 'troublemaker', 'unworthy', 'discomfit', 'neglected', 'irrecoverablenesses', 'rumours', 'decadence', 'slump', 'dehumanize', 'disruptive', 'fugitive', 'inconsolably', 'remorsefully', 'disturbingly', 'overdo', 'overzealous', 'repugnantly', 'lame', 'equivocal', 'disown', 'apocalypse', 'prisoner', 'frozen', 'obsessive', 'ruffian', 'maniacal', 'glaringly', 'disingenuously', 'strife', 'intolerance', 'flareup', 'difficulties', 'disbelieve', 'hopelessness', 'madness', 'isolation', 'shark', 'disrespect', 'pillage', 'eruptions', 'noisy', 'crummy', 'unwieldy', 'aweful', 'parody', 'wrestle', 'damaged', 'bland', 'reticent', 'villianously', 'hard-liner', 'nervously', 'blow', 'rabid', 'incorrectly', 'scam', 'crass', 'disorganized', 'chagrin', 'mistrust', 'cash-strapped', 'gracelessly', 'assult', 'intense', 'mashed', 'conspiratorial', 'careless', 'alarmed', 'felon', 'obstruction', 'feint', 'apologist', 'flounder', 'defects', 'foolishly', 'fleeting', 'indulge', 'taint', 'chatter', 'frustrates', 'subjugation', 'uneven', 'worn', 'undersized', 'lurch', 'standstill', 'persecution', 'nonresponsive', 'dissatisfy', 'scars', 'foolishness', 'slanders', 'bewilderment', 'ruins', 'stupidly', 'sedentary', 'funnily', 'faithless', 'crack', 'prohibit', 'gaudy', 'goof', 'pry', 'judder', 'suffered', 'wripped', 'unemployed', 'gloomy', 'angriness', 'deceitful', 'shockingly', 'unable', 'doubt', 'annihilation', 'mirage', 'underpowered', 'coupists', 'hardened', 'forged', 'sunken', 'long-winded', 'indeterminate', 'annoyance', 'inhumanity', 'jealousy', 'pinch', 'aggravate', 'deceit', 'morbidly', 'bulkiness', 'invisible', 'odor', 'flare', 'anemic', 'fragile', 'curse', 'niggle', 'offensive', 'picket', 'infringe', 'admonish', 'entanglement', 'smut', 'drained', 'nave', 'unconvincing', 'monstrosities', 'excoriate', 'maddening', 'inexplainable', 'pettifog', 'shamefulness', 'exclusion', 'treacherous', 'despicable', 'betrayal', 'distressingly', 'drips', 'uneasiness', 'moribund', 'disrespecting', 'scratch', 'irretrievable', 'dastard', 'begging', 'impulsive', 'intrude', 'criminal', 'kooky', 'debauchery', 'murderous', 'pretence', 'flees', 'fatefully', 'quarrels', 'grudging', 'divergent', 'distrust', 'indifferent', 'mockingly', 'sillily', 'caricature', 'traumatize', 'errant', 'bloody', 'fruitless', 'poorly', 'blame', 'disturb', 'fiend', 'guile', 'senile', 'confuses', 'fuck', 'conflict', 'damnable', 'recklessly', 'backaching', 'laconic', 'fidget', 'incautious', 'pedantic', 'thirst', 'hysterical', 'unease', 'depraved', 'insultingly', 'devoid', 'improbability', 'dishonestly', 'ruin', 'bugs', 'redundancy', 'over-balanced', 'burning', 'clouding', 'deteriorating', 'backache', 'sloooow', 'laughingstock', 'unacceptablely', 'corrupt', 'defrauding', 'outburst', 'breakdown', 'deceitfully', 'aloof', 'miff', 'displease', 'infringements', 'debility', 'stains', 'disgustingly', 'languor', 'indecisive', 'burns', 'coerce', 'defect', 'remorseless', 'appallingly', 'lewdness', 'sucked', 'ultimatum', 'evildoer', 'stealing', 'farcical-yet-provocative', 'discontinuous', 'evade', 'hatefully', 'plotters', 'hasseling', 'self-interested', 'sharply', 'unrelentingly', 'bowdlerize', 'sinisterly', 'explode', 'threats', 'unfinished', 'faint', 'bombard', 'bait', 'disadvantaged', 'breaks', 'guiltily', 'retarded', 'embarrassingly', 'complain', 'distorted', 'tarnish', 'water-down', 'disapproving', 'grate', 'reluctantly', 'chronic', 'fussy', 'rancor', 'absent-minded', 'domineering', 'snarky', 'incense', 'miss', 'beleaguer', 'tortures', 'bully', 'invalidate', 'biting', 'heartless', 'hysteric', 'perturbed', 'brutal', 'scratched', 'dejected', 'impurity', 'midget', 'unsuccessfully', 'tyrant', 'detracted', 'inadvisably', 'bunk', 'embarrassing', 'inconsiderately', 'hardball', 'inflexible', 'deride', 'trauma', 'regreted', 'spiteful', 'discord', 'ignorant', 'unuseably', 'shortness', 'testy', 'ugliness', 'indeterminably', 'inhumane', 'allege', 'deluded', 'dogged', 'discontinuity', 'stink', 'strangely', 'discordant', 'whore', 'despondency', 'hideously', 'slanderously', 'd*mn', 'setbacks', 'unraveled', 'hypocrite', 'hamper', 'ineffective', 'obnoxious', 'conspicuously', 'villian', 'instable', 'petrify', 'catastrophies', 'weaker', 'inconsistent', 'snobbish', 'absentee', 'despoiler', 'blameworthy', 'disquieting', 'humiliating', 'ineffectualness', 'objections', 'overzelous', 'evil', 'commotion', 'deploring', 'irreformable', 'martyrdom', 'idiotically', 'rude', 'uncompromising', 'resigned', 'seriousness', 'flabbergasted', 'unclear', 'afflict', 'loot', 'myth', 'acridness', 'flat-out', 'molest', 'tortuous', 'spoiled', 'demonic', 'deficiency', 'antiquated', 'craziness', 'fails', 'gloatingly', 'prejudicial', 'thoughtlessly', 'mispronounces', 'shit', 'dissemble', 'grouse', 'downturns', 'sobering', 'jeering', 'insensitive', 'flout', 'remorse', 'unauthentic', 'unavailable', 'bragger', 'jeer', 'precipitate', 'prejudge', 'unhealthy', 'amiss', 'calumniate', 'wrought', 'racy', 'effrontery', 'spoilages', 'tarnishing', 'toil', 'partiality', 'awfulness', 'harrow', 'fractious', 'deterrent', 'cowardly', 'gallingly', 'eccentric', 'misapprehend', 'chill', 'poor', 'disagreement', 'compulsion', 'barbarically', 'ineligible', 'overpayed', 'accursed', 'blatantly', 'traitorous', 'fallacies', 'poky', 'forbidding', 'timidly', 'unreadable', 'cloudy', 'galls', 'abyss', 'mawkishness', 'susceptible', 'inexperienced', 'nightmare', 'coarse', 'pernicious', 'savages', 'protested', 'sh*t', 'suspicious', 'viciousness', 'substandard', 'gutless', 'perish', 'torturous', 'jeers', 'incommensurate', 'exorbitantance', 'garish', 'ruts', 'grisly', 'gibe', 'dupe', 'unorthodoxy', 'lose', 'arduously', 'languid', 'outrageous', 'buzzing', 'complaint', 'enemy', 'knave', 'needless', 'whiny', 'fierce', 'sardonic', 'contemptuously', 'brute', 'hypocritical', 'imperfections', 'bleak', 'puppet', 'spinster', 'insinuation', 'irresolute', 'worrying', 'infuriate', 'addict', 'illogic', 'unrelenting', 'hinder', 'painfully', 'obsolete', 'mournful', 'reproachful', 'vomiting', 'fury', 'misinterpret', 'mispronounced', 'violation', 'ire', 'villianous', 'woeful', 'hostilities', 'grimace', 'monster', 'unnerving', 'subservience', 'heckle', 'needy', 'bluring', 'flicker', 'vindictive', 'forsaken', 'crashing', 'deadlock', 'accuse', 'deteriorate', 'incoherently', 'overstated', 'insatiable', 'paradoxically', 'pity', 'orphan', 'harasses', 'pleas', 'superficial', 'unequal', 'unnerved', 'raping', 'alienate', 'filthy', 'assassinate', 'confound', 'gangster', 'degenerately', 'sullen', 'credulous', 'heavy-handed', 'inanely', 'isolate', 'hell', 'jitter', 'blatant', 'decrement', 'conservative', 'denial', 'impinge', 'invalidity', 'draconian', 'killing', 'lousy', 'death', 'struggled', 'crumbling', 'overreach', 'bullies', 'fibber', 'cronyism', 'inescapably', 'jeopardize', 'ineffectiveness', 'repulse', 'objection', 'impetuously', 'hang', 'unwelcome', 'deficiencies', 'pricier', 'ill-usage', 'delayed', 'shun', 'swollen', 'oppressive', 'counter-productive', 'hassled', 'insensitivity', 'skinny', 'scorchingly', 'barbarously', 'crazily', 'imperil', 'despise', 'stormy', 'dull', 'gnawing', 'spoonfed', 'capriciously', 'combust', 'ruining', 'distracting', 'aground', 'ludicrous', 'nervous', 'din', 'mania', 'asininely', 'collusion', 'vibration', 'mobster', 'inexpert', 'guilty', 'sadden', 'spook', 'sporadic', 'disbeliever', 'sting', 'ramshackle', 'over-valuation', 'shameless', 'intolerable', 'undecided', 'brazenly', 'harried', 'plea', 'slashing', 'groundless', 'timidness', 'impermissible', 'deign', 'capsize', 'hard', 'imprudent', 'outlaw', 'tumultuous', 'problematic', 'catastrophes', 'cheat', 'ghetto', 'ruthlessly', 'scorn', 'unjustly', 'melodramatically', 'barbaric', 'overstatement', 'desperation', 'hallucinate', 'lag', 'stupified', 'inelegant', 'little-known', 'blackmail', 'insufficiency', 'fear', 'teasingly', 'streaky', 'acrimoniously', 'bulky', 'fallacy', 'recoil', 'refused', 'meaningless', 'ravage', 'rogue', 'diabolically', 'lackeys', 'apprehensive', 'scoffingly', 'irritating', 'scolded', 'delusion', 'steals', 'undermined', 'demon', 'naively', 'repulsive', 'savaged', 'denunciations', 'downturn', 'paltry', 'squeaks', 'immodest', 'dumbfound', 'reject', 'dearth', 'incompetent', 'affront', 'letch', 'layoff', 'genocide', 'frightful', 'irks', 'irreconcilable', 'discredit', 'faltered', 'irony', 'undid', 'dirts', 'wobble', 'deviation', 'incessantly', 'vibrated', 'inconceivably', 'mist', 'accost', 'apathetically', 'amputate', 'disreputable', 'squirm', 'unruly', 'indolent', 'rife', 'vexation', 'break-up', 'headaches', 'bores', 'remorseful', 'rift', 'snagging', 'unexpectedly', 'demise', 'breaking', 'denunciation', 'unsophisticated', 'brimstone', 'deprecate', 'traitor', 'spoil', 'traduce', 'warning', 'warp', 'turmoil', 'oblivious', 'outrageousness', 'bleakly', 'deny', 'ineloquent', 'rotten', 'tarnished', 'nuisance', 'unwell', 'impetuous', 'attacks', 'apprehensions', 'enraged', 'jutter', 'overstatements', 'longing', 'disasterous', 'mistress', 'bother', 'disvalue', 'fat-cat', 'adulterated', 'petty', 'disagreeing', 'pervasive', 'hurted', 'enemies', 'excuses', 'horrid', 'weirdly', 'conflicting', 'conceit', 'tout', 'judders', 'exaggeration', 'spookily', 'noisier', 'outmoded', 'pickets', 'terrible', 'iniquity', 'snub', 'snappishly', 'sneaky', 'unstable', 'frenzied', 'pales', 'pathetic', 'sued', 'overkill', 'worried', 'figurehead', 'crumple', 'run-down', 'ambivalent', 'undercutting', 'enfeeble', 'hateful', 'dislikes', 'repugnance', 'bombardment', 'lying', 'inoperable', 'unforgiving', 'admonition', 'imbecile', 'squeak', 'trashed', 'hastily', 'mudslinging', 'detracting', 'plagiarize', 'slowest', 'devastated', 'abominable', 'worrisome', 'perilously', 'oppose', 'ridicule', 'disobey', 'shirk', 'mordant', 'burden', 'devastatingly', 'bane', 'disconcert', 'reproach', 'obtuse', 'struck', 'alarming', 'bloodshed', 'devastating', 'horrified', 'imperfectly', 'rhetorical', 'shunned', 'stuttering', 'concern', 'ax', 'dullard', 'imprison', 'punk', 'unlucky', 'disbelief', 'gimmicked', 'head-aches', 'despondently', 'creepy', 'disaccord', 'drawback', 'servitude', 'doddering', 'occludes', 'die', 'mistake', 'unnoticed', 'angry', 'barbarity', 'disconcerting', 'harass', 'fabricate', 'indecision', 'resentful', 'damper', 'contagious', 'fatuously', 'recklessness', 'treason', 'zap', 'fall', 'lawlessness', 'cry', 'unpopular', 'imprecate', 'setback', 'useless', 'faze', 'rivalry', 'displaced', 'lone', 'sinking', 'detestably', 'dismayed', 'sack', 'slug', 'pandemonium', 'passive', 'aggrieve', 'recourses', 'friggin', 'admonishment', 'prattle', 'distraction', 'downfallen', 'defensive', 'malicious', 'tantrum', 'sloppy', 'depravedly', 'wickedness', 'shortage', 'unavoidably', 'criticizing', 'desolate', 'sucky', 'detesting', 'admonishingly', 'bitter', 'decline', 'illegal', 'impolitic', 'slowed', 'weakness', 'gutter', 'bonkers', 'glum', 'irrepressible', 'lurk', 'dissension', 'defiantly', 'lifeless', 'mystery', 'unhappiness', 'plague', 'unprove', 'perverted', 'delinquency', 'flimflam', 'failures', 'downfall', 'contravene', 'repudiation', 'poorer', 'died', 'flicering', 'concerned', 'decay', 'distraughtness', 'symptom', 'lecher', 'chide', 'flaws', 'intimidating', 'rollercoaster', 'disgrace', 'fearfully', 'bulkier', 'distortion', 'pointless', 'sidetrack', 'cruelly', 'diametrically', 'mediocre', 'inexorably', 'immoral', 'fallacious', 'unlawfully', 'frenzy', 'debase', 'kaput', 'dreadfulness', 'grouchy', 'over-hyped', 'untested', 'restricted', 'frazzle', 'oversights', 'haughtily', 'aspersions', 'damned', 'wayward', 'inconsequentially', 'restrict', 'whips', 'breakups', 'moody', 'startling', 'deadly', 'provocation', 'thug', 'unscrupulously', 'hoard', 'cuplrit', 'diatribe', 'crap', 'hesitant', 'impractical', 'banishment', 'measly', 'incomparable', 'pollute', 'illogical', 'destructive', 'leech', 'quarrel', 'tragedy', 'bewilder', 'chilly', 'complaints', 'cheesy', 'fatty', 'smack', 'stammer', 'irrelevance', 'starvation', 'interfere', 'misunderstood', 'dud', 'fidgety', 'buggy', 'mercilessly', 'regrettably', 'drags', 'maliciously', 'sluggish', 'troubles', 'sadness', 'burn', 'distraught', 'strangest', 'anarchist', 'condescension', 'fumes', 'worriedly', 'depression', 'meanness', 'rantingly', 'misbehave', 'unreasonably', 'f**k', 'falsely', 'frustrations', 'anomalous', 'unreliable', 'demoralizing', 'punitive', 'confined', 'grumpy', 'feeblely', 'delay', 'dragoon', 'injure', 'fatalistic', 'siege', 'congested', 'underestimate', 'reactionary', 'shatter', 'sadly', 'enslave', 'failing', 'scornful', 'puny', 'mocked', 'daze', 'inconceivable', 'vice', 'deadbeat', 'trick', 'unilateralism', 'bewilderingly', 'sarcasm', 'wobbles', 'appall', 'vibrating', 'pokey', 'delays', 'junky', 'intefere', 'rankle', 'superficiality', 'unobserved', 'contrived', 'involuntarily', 'opponent', 'lonely', 'poison', 'rash', 'pitifully', 'suspicion', 'idiotic', 'bemused', 'time-consuming', 'dragging', 'cruelty', 'enrage', 'hedonistic', 'long-time', 'slander', 'stunted', 'destroy', 'stubborn', 'gravely', 'jaded', 'uncompetitive', 'blurt', 'distains', 'scarred', 'grudges', 'lacked', 'taut', 'untimely', 'baffle', 'cons', 'frightfully', 'drop-out', 'injury', 'painfull', 'partisans', 'sorrow', 'irresolvable', 'wrinkles', 'corrosive', 'brusque', 'cancerous', 'god-awful', 'insufferably', 'inhibit', 'averse', 'offensiveness', 'tawdry', 'harms', 'strictly', 'adverse', 'stinks', 'creaks', 'blindingly', 'self-serving', 'unfounded', 'unsatisfactory', 'wretch', 'detest', 'relentless', 'whimper', 'erosion', 'twisted', 'desert', 'innuendo', 'indignation', 'spurn', 'sickeningly', 'annoyances', 'anti-white', 'cocky', 'bullying', 'annoy', 'ineloquently', 'prejudice', 'ungovernable', 'stench', 'vagueness', 'oppression', 'degrade', 'unlamentable', 'unsecure', 'forswear', 'superstitious', 'contaminating', 'flak', 'hustler', 'insupportably', 'life-threatening', 'traumatized', 'controversial', 'aimless', 'wasting', 'unkind', 'horrifys', 'implode', 'doom', 'tangle', 'sty', 'disintegrated', 'sensationalize', 'inevitable', 'marginal', 'bereavement', 'grudgingly', 'bashful', 'derisive', 'stagnate', 'despairingly', 'skeptically', 'dawdle', 'arduous', 'damages', 'cunts', 'devastation', 'antagonist', 'abomination', 'buckle', 'inconveniently', 'addicted', 'mourn', 'altercation', 'envious', 'irritations', 'predatory', 'unresponsive', 'immature', 'sucker', 'finagle', 'forlornly', 'futilely', 'misleading', 'uncomfy', 'drastic', 'unachievable', 'declaim', 'insincerity', 'forbidden', 'discoutinous', 'dismissively', 'coercive', 'commiserate', 'falsify', 'hater', 'diabolic', 'narrower', 'farcically', 'swelled', 'afraid', 'gloom', 'militancy', 'contortions', 'flabbergast', 'immaterial', 'rusts', 'short-lived', 'chaotic', 'refuses', 'disclaim', 'manipulate', 'spite', 'degenerate', 'spookier', 'hegemonistic', 'disappointments', 'misguide', 'refuted', 'left-leaning', 'stigmatize', 'unwise', 'mendacity', 'wary', 'impaired', 'vehement', 'tardy', 'critic', 'prickle', 'anomaly', 'undermines', 'blurring', 'blab', 'vilify', 'disaster', 'hates', 'back-wood', 'gall', 'protracted', 'backbite', 'barbarous', 'extremism', 'hoodium', 'indecorum', 'ho-hum', 'inevitably', 'jealousness', 'bungle', 'delirious', 'hysterics', 'sluts', 'dimmer', 'fascist', 'execrate', 'deadweight', 'peeved', 'spade', 'defy', 'womanizer', 'inveigle', 'musty', 'obstacle', 'tenuous', 'audaciousness', 'inaccuracy', 'lemon', 'retards', 'rumple', 'slogging', 'regress', 'mocking', 'dishonesty', 'struggles', 'timid', 'accidental', 'haste', 'scandalous', 'acrimonious', 'unskilled', 'dismay', 'meager', 'falls', 'awkward', 'flagging', 'wrongful', 'condescendingly', 'bedlamite', 'regression', 'madly', 'bitchy', 'betray', 'illegitimate', 'panicked', 'unreasonable', 'bumpy', 'frost', 'insolent', 'traped', 'bothersome', 'condemnable', 'silly', 'curt', 'grieving', 'condemn', 'importunate', 'unfulfilled', 'dungeons', 'exhorbitant', 'exasperatingly', 'troublingly', 'fiasco', 'futility', 'demeaning', 'erase', 'chastise', 'infernal', 'junkyard', 'suicide', 'dent', 'leaky', 'discourteously', 'burdensomely', 'impasse', 'vomits', 'vibrates', 'funny', 'panick', 'culpable', 'deform', 'shrew', 'iniquitous', 'reprove', 'suffering', 'manipulation', 'unlicensed', 'worthless', 'depressions', 'hypocrisy', 'foulness', 'seething', 'bent', 'braggart', 'contaminate', 'throttle', 'lawless', 'squash', 'unreachable', 'misinformed', 'thrash', 'improbable', 'lackluster', 'castrated', 'blurs', 'tainted', 'doomed', 'spendy', 'exhaustion', 'menacing', 'dissappointing', 'vex', 'regressive', 'antagonism', 'backwoods', 'giddy', 'broke', 'hells', 'contradict', 'indiscretion', 'loathing', 'undignified', 'shoddy', 'beware', 'bug', 'calumniation', 'invidiously', 'gimmicky', 'frantic', 'strict', 'unrealistic', 'prik', 'denounce', 'rocky', 'abnormal', 'irrational', 'preposterous', 'brashness', 'bruise', 'flaw', 'famished', 'fumble', 'calamitous', 'divisively', 'harmed', 'jealously', 'liar', 'dissembler', 'louder', 'neurotically', 'set-up', 'chore', 'frighteningly', 'tenuously', 'alarm', 'fateful', 'overemphasize', 'stupor', 'wrest', 'insinuating', 'pariah', 'obscene', 'polarisation', 'maladjustment', 'stingingly', 'tamper', 'addicts', 'brainwash', 'disconsolate', 'dissent', 'irksomenesses', 'ironic', 'backaches', 'shortsightedness', 'wariness', 'wallow', 'insubstantially', 'downhill', 'fooled', 'damage', 'unfamiliar', 'numb', 'omit', 'inordinate', 'rumbling', 'flagrant', 'blabber', 'unsuccessful', 'lunatic', 'ignore', 'prejudices', 'pricey', 'hoax', 'tumbled', 'darkness', 'severity', 'downside', 'smug', 'drain', 'semi-retarded', 'sore', 'insecure', 'incompetently', 'subjected', 'flimsy', 'stooge', 'cancer', 'splatter', 'litigious', 'indelicate', 'miserly', 'revolting', 'intermittent', 'recession', 'snags', 'panic', 'pique', 'maniac', 'unhelpful', 'haggard', 'indigent', 'over-priced', 'anxiously', 'lambast', 'pugnacity', 'disruption', 'undermining', 'slothful', 'offenses', 'scarcely', 'garbage', 'lech', 'sober', 'uneasily', 'bitterness', 'monotonous', 'hacks', 'maltreatment', 'disdainful', 'outrage', 'uncompromisingly', 'muddle', 'madder', 'inconsiderate', 'pitiable', 'uncouth', 'obsessiveness', 'sick', 'suspiciously', 'disapproval', 'doubtfully', 'confront', 'damnation', 'dissatisfaction', 'latency', 'debaser', 'malaise', 'drippy', 'inundate', 'overpriced', 'despised', 'destabilisation', 'rhetoric', 'selfishness', 'traumatic', 'penalize', 'perversity', 'oppositions', 'tramp', 'complicated', 'subpoenas', 'unsustainable', 'confounding', 'misses', 'cautionary', 'errors', 'stagnation', 'delirium', 'drunk', 'hedge', 'disservice', 'unfunded', 'mire', 'audacity', 'disallow', 'incomplete', 'cheater', 'atrocious', 'lumpy', 'deplete', 'listless', 'smokescreen', 'irksome', 'awfully', 'disputable', 'bust', 'attack', 'disadvantageous', 'traitorously', 'boycott', 'unpleasant', 'livid', 'so-cal', 'crooks', 'scoff', 'hell-bent', 'mystify', 'freaking', 'hurtful', 'impotent', 'disintegrate', 'mad', 'corrode', 'diffidence', 'smutty', 'shrill', 'graft', 'insolently', 'lies', 'crash', 'lawbreaker', 'anxiousness', 'slaughter', 'sorry', 'chastisement', 'steal', 'wack', 'gimmick', 'incongruously', 'crooked', 'dirt', 'perverse', 'disingenuous', 'disfavor', 'erratically', 'messed', 'dick', 'extravagance', 'nebulous', 'deaf', 'deviousness', 'disagrees', 'inexpiable', 'pertinacity', 'rough', 'phobia', 'lonesome', 'inimically', 'queer', 'procrastinate', 'frustration', 'unconfirmed', 'scandalize', 'wastefulness', 'extort', 'scold', 'oppressively', 'revulsive', 'overzealously', 'retard', 'truant', 'nonexistent', 'poverty', 'stale', 'disadvantages', 'strangle', 'bondage', 'nervousness', 'mourner', 'derision', 'motley', 'unsuspecting', 'inexcusably', 'war-like', 'pugnaciously', 'cloud', 'impiety', 'sweaty', 'thoughtlessness', 'uproar', 'crazy', 'detraction', 'regretful', 'troublesomely', 'anger', 'insufficient', 'pitilessly', 'impudence', 'disintegration', 'famine', 'fustigate', 'unsettle', 'ironical', 'waning', 'prosecute', 'shortchange', 'unsettlingly', 'prideful', 'last-ditch', 'arbitrary', 'concens', 'flaunt', 'jealous', 'rebuff', 'untruthful', 'disagreed', 'hated', 'inaccurately', 'kook', 'drains', 'bankrupt', 'pauper', 'stereotype', 'swipe', 'strain', 'languorously', 'demonizing', 'destains', 'critical', 'calumny', 'unclean', 'nettlesome', 'fundamentalism', 'mudslinger', 'imposers', 'dismal', 'despot', 'rant', 'agonies', 'defiler', 'entangle', 'pessimistic', 'lapses', 'skeletons', 'bugging', 'shiver', 'worsening', 'tank', 'upsettingly', 'dubitable', 'devilishly', 'harangue', 'bafflement', 'ridicules', 'unipolar', 'anarchistic', 'wretchedness', 'hurting', 'fat', 'imminently', 'overweight', 'uninformed', 'stiff', 'imperiously', 'abolish', 'antagonistic', 'disillusion', 'dismally', 'venomously', 'loner', 'cringes', 'cheating', 'cranky', 'incivility', 'frightening', 'intoxicate', 'bothered', 'leaks', 'presumptuous', 'shimmer', 'torrent', 'cheap', 'concession', 'puzzling', 'ripped', 'denies', 'unwanted', 'radicalization', 'ugly', 'occluding', 'insignificantly', 'dispiriting', 'pointlessly', 'spank', 'despicably', 'opinionated', 'quack', 'unspecified', 'perfunctory', 'warily', 'confrontation', 'peril', 'disgracefully', 'demoralize', 'downer', 'outrages', 'quarrellous', 'inarticulate', 'sour', 'unethical', 'irritate', 'frenetically', 'dust', 'seedy', 'trickery', 'scuff', 'dead', 'complication', 'massacres', 'temper', 'scaly', 'affliction', 'breakup', 'maladjusted', 'immoderate', 'protests', 'floundering', 'fatcat', 'regrets', 'repel', 'staid', 'regretted', 'niggles', 'tetchily', 'sputter', 'noises', 'halfhearted', 'throbbing', 'taunting', 'two-faced', 'crashed', 'murderer', 'melancholy', 'cutthroat', 'stuck', 'discriminatory', 'less-developed', 'despoil', 'disoobedient', 'ambiguity', 'dissapointed', 'agony', 'furious', 'incapably', 'gaff', 'stressful', 'egocentric', 'hardheaded', 'acerbic', 'clamorous', 'demean', 'trashy', 'disobedient', 'matte', 'provoke', 'repugn', 'taxing', 'inefficacy', 'lunaticism', 'non-confidence', 'alarmingly', 'disillusioned', 'egotism', 'fever', 'remorselessness', 'tired', 'crippling', 'hasty', 'overtaxed', 'ail', 'fright', 'brutalizing', 'mismanage', 'sceptical', 'passe', 'irked', 'disorder', 'hurts', 'defamatory', 'neglect', 'sickening', 'spilling', 'entrapment', 'unimportant', 'irking', 'shortcoming', 'insidiously', 'donside', 'disgraceful', 'undefined', 'implication', 'licentious', 'implicate', 'ultimatums', 'dazed', 'deprive', 'instigate', 'busts', 'glower', 'malevolent', 'glut', 'immoderately', 'arcane', 'shortsighted', 'befoul', 'dents', 'wrong', 'incredulously', 'unnerve', 'unconstitutional', 'reprovingly', 'subpoena', 'battering', 'indefensible', 'lamentable', 'conspire', 'inappropriate', 'exasperation', 'grievously', 'sorrowful', 'terrorism', 'misfortune', 'evasion', 'misaligns', 'awkwardness', 'negligent', 'skittishly', 'unbelievable', 'enflame', 'stall', 'low-rated', 'hatred', 'criticisms', 'galling', 'smoke', 'intrusive', 'leer', 'bruised', 'disconsolation', 'sneeringly', 'absurdness', 'woebegone', 'scare', 'distract', 'discontinued', 'debasement', 'grievous', 'hardliner', 'farcical', 'irritable', 'grumble', 'inadequate', 'limitations', 'nastily', 'provocative', 'stricken', 'thumbs-down', 'unhappily', 'insufficiently', 'unsteadiness', 'lambaste', 'raving', 'isolated', 'agonizing', 'disgustedly', 'dispirited', 'fruitlessly', 'disillusions', 'disobedience', 'illusory', 'dusty', 'controversy', 'blunt', 'blurred', 'loneliness', 'picketing', 'disrespectablity', 'infections', 'throbbed', 'penalty', 'disregard', 'dumb', 'mangle', 'gripes', 'loathsomely', 'spitefulness', 'bedlam', 'illusions', 'misunderstand', 'scoldingly', 'uncomfortably', 'desultory', 'abominably', 'bull****', 'complains', 'loser', 'smudges', 'impose', 'frown', 'solicitude', 'chasten', 'decrepitude', 'dirtbag', 'ominously', 'bristle', 'impatient', 'stereotypically', 'deject', 'uneventful', 'erroneously', 'infringement', 'ricer', 'fanaticism', 'despairing', 'nightmarishly', 'stunt', 'unfairly', 'shambles', 'belittled', 'rival', 'dissolution', 'bastards', 'ferociously', 'ripoff', 'betraying', 'contamination', 'hypocrites', 'miserable', 'oppressiveness', 'showdown', 'strike', 'vengeance', 'pitiful', 'sinfully', 'smelly', 'rhapsodize', 'tangles', 'fascism', 'messing', 'strut', 'condemned', 'intimidatingly', 'unwarranted', 'overdone', 'forceful', 'full-blown', 'obliterated', 'smell', 'tentatively', 'unforeseen', 'disdain', 'relentlessness', 'clash', 'swamped', 'hegemony', 'unfortunate', 'forgetfulness', 'skittish', 'drunken', 'sly', 'debt', 'scandalously', 'sass', 'disrespectfully', 'virulently', 'wretchedly', 'weakening', 'incomprehensible', 'indeterminable', 'killed', 'sorely', 'hooligan', 'syndrome', 'indiscreetly', 'improper', 'retaliatory', 'languorous', 'sagged', 'straining', 'underdog', 'waste', 'simplistically', 'stringently', 'blaspheme', 'inaccurate', 'offending', 'hangs', 'detracts', 'insolvent', 'redundant', 'top-heavy', 'displeased', 'ungrateful', 'irregular', 'contradiction', 'shimmy', 'atrophy', 'succumb', 'avarice', 'smoldering', 'violators', 'ineptly', 'repugnant', 'fuzzy', 'accusations', 'obscure', 'cursed', 'confessions', 'deviate', 'gawk', 'uproarious', 'wrath', 'fib', 'scrambles', 'demonize', 'miscreant', 'squabbling', 'hack', 'horrendous', 'straggler', 'abuse', 'undercuts', 'bloodthirsty', 'tiresome', 'perversion', 'burdensome', 'retreat', 'fudge', 'tanks', 'detract', 'malevolence', 'shocked', 'gimmicking', 'fastuous', 'oddities', 'hapless', 'fickle', 'foe', 'disrupt', 'disorderly', 'dishonor', 'embattled', 'issue', 'cramped', 'exasperated', 'repudiate', 'snobish', 'injudicious', 'exterminate', 'maddeningly', 'burned', 'insanity', 'spoilage', 'clunky', 'flawed', 'unfortunately', 'obtrusive', 'disadvantage', 'stiffness', 'brutish', 'starkly', 'evasive', 'disquiet', 'mistified', 'disappointingly', 'prohibitive', 'conceded', 'costly', 'overact', 'annoys', 'misgiving', 'exhausts', 'oddity', 'malice', 'dripping', 'painful', 'unlamentably', 'improbably', 'unjustifiable', 'ingratitude', 'foolhardy', 'hopelessly', 'erode', 'inappropriately', 'emasculate', 'incendiary', 'fretful', 'raked', 'malady', 'tragic', 'nagging', 'dreary', 'ill-advised', 'detests', 'repulsively', 'ironically', 'ostracize', 'morons', 'unusually', 'virulence', 'lagging', 'childish', 'crumples', 'inconsistency', 'entrap', 'negligence', 'topple', 'dense', 'disavowal', 'haunting', 'brood', 'plaything', 'irate', 'rage', 'smash', 'extraneous', 'struggle', 'devastates', 'inflammatory', 'ambush', 'grapple', 'layoff-happy', 'slower', 'tyrannically', 'panicky', 'ranted', 'adulterier', 'corrupted', 'hallucination', 'virulent', 'pains', 'lull', 'apprehensively', 'clogs', 'fearful', 'imperfect', 'picky', 'overdue', 'poisonous', 'unconvincingly', 'grossly', 'insulted', 'smelled', 'cannibalize', 'stark', 'trivial', 'calamities', 'dissenter', 'slaughtered', 'sugarcoated', 'smells', 'nemesis', 'debacle', 'emergency', 'gaffe', 'despondent', 'repression', 'irrationally', 'taunts', 'lewdly', 'overwhelms', 'expropriate', 'polemize', 'disloyalty', 'interrupt', 'retreated', 'stresses', 'debilitating', 'pest', 'wickedly', 'unworkable', 'ruthlessness', 'encroach', 'cramp', 'slumpping', 'marginally', 'crush', 'suppression', 'expulse', 'hard-hit', 'angrily', 'fathomless', 'fallaciousness', 'kills', 'scandels', 'corrupting', 'obscenity', 'mar', 'hardship', 'uncooperative', 'vengefully', 'mawkish', 'reprehension', 'indiscernible', 'faults', 'implausible', 'bad', 'wounds', 'powerless', 'shady', 'impoverished', 'ache', 'destroyer', 'ill-treatment', 'macabre', 'dishearten', 'knock', 'neurotic', 'gripe', 'assail', 'denigrate', 'gross', 'uneconomical', 'thorny', 'sloooooooooooooow', 'unsound', 'gauche', 'pig', 'greasy', 'inadverent', 'fracture', 'ruffle', 'cave', 'imposing', 'impious', 'backwood', 'lackadaisical', 'negatives', 'stereotypical', 'wimpy', 'complaining', 'darkened', 'contaminates', 'horrifying', 'disloyal', 'predicament', 'ragged', 'reluctant', 'unresolved', 'mock', 'unfaithfully', 'perplexed', 'explosive', 'abysmally', 'stinging', 'dissidents', 'overstate', 'wreck', 'hype', 'distressing', 'brat', 'egotistical', 'boggle', 'blinding', 'pittance', 'spiritless', 'troublesome', 'halfheartedly', 'unimaginably', 'arrogance', 'wripping', 'rattled', 'wail', 'slogs', 'monotony', 'asunder', 'insincere', 'lazy', 'procrastinates', 'caustic', 'lengthy', 'aggravation', 'paranoia', 'sufferers', 'second-tier', 'stew', 'fanatically', 'spitefully', 'ignominiously', 'undermine', 'demonizes', 'sob', 'obstructing', 'dispensable', 'irritant', 'plunder', 'stringent', 'loathly', 'refuse', 'nag', 'vestiges', 'humiliate', 'bombastic', 'pigs', 'bashing', 'back-logged', 'stodgy', 'vanity', 'regretfully', 'unprepared', 'insensible', 'anti-us', 'prison', 'scummy', 'desititute', 'freaks', 'imbroglio', 'wiles', 'contradictory', 'tin-y', 'discomfort', 'infest', 'limit', 'deception', 'enviousness', 'extermination', 'intransigence', 'scapegoat', 'wince', 'discouragement', 'backbiting', 'exaggerate', 'procrastination', 'annoying', 'abused', 'scant', 'inadvisable', 'disordered', 'bs', 'itching', 'uglier', 'concede', 'expel', 'fume', 'paralyzed', 'stuttered', 'unacceptably', 'meltdown', 'retaliate', 'passiveness', 'restlessness', 'dizzingly', 'fiction', 'sardonically', 'impending', 'gibber', 'simplistic', 'upseting', 'presumptuously', 'backwardness', 'despair', 'worry', 'moan', 'shrouded', 'suicidal', 'anxieties', 'slumping', 'bullyingly', 'notoriously', 'shriek', 'ignominious', 'unattractive', 'cramping', 'stress', 'poorest', 'discrimination', 'dispute', 'monstrosity', 'fanciful', 'twist', 'dubiously', 'malodorous', 'rigidness', 'commonplace', 'punch', 'overwhelming', 'farfetched', 'blurry', 'hassles', 'incompliant', 'lurking', 'stumbled', 'travesties', 'incompatibility', 'lethargy', 'hothouse', 'despondence', 'overpower', 'unjust', 'contend', 'dump', 'mists', 'cruel', 'mindless', 'smugly', 'absurdly', 'egregious', 'scoundrel', 'impedance', 'slog', 'stooges', 'unnaturally', 'reviled', 'punish', 'criticized', 'oddest', 'fatcats', 'precariously', 'savagery', 'discouragingly', 'avalanche', 'belligerence', 'aches', 'atrocity', 'heathen', 'scared', 'embarrass', 'belligerent', 'abrasive', 'barren', 'douchebag', 'leakage', 'sin', 'doldrums', 'menace', 'dodgey', 'fastidious', 'die-hard', 'harm', 'delude', 'forbid', 'killjoy', 'repulsiveness', 'inexpertly', 'diappointed', 'disgustful', 'villainously', 'flair', 'slow', 'peculiar', 'stain', 'distorts', 'sanctimonious', 'unleash', 'incitement', 'loathsome', 'battered', 'dishonorable', 'inadverently', 'smouldering', 'un-viewable', 'overplay', 'contention', 'evils', 'toughness', 'betrayer', 'peevishly', 'paucity', 'bothering', 'nitpicking', 'itch', 'ruined', 'unspeakablely', 'censure', 'discriminate', 'flake', 'objectionable', 'scarier', 'inaction', 'spewing', 'resurgent', 'abusive', 'obstinately', 'terror', 'ulterior', 'swindle', 'chaos', 'hawkish', 'restless', 'desiccated', 'perilous', 'devilment', 'hard-line', 'mangling', 'tumble', 'wheedle', 'mawkishly', 'complex', 'inequalities', 'lagged', 'capitulate', 'infamy', 'bicker', 'confrontational', 'qualm', 'renounce', 'unbearablely', 'baffled', 'calumnies', 'biases', 'expired', 'nefarious', 'opportunistic', 'confusions', 'repetitive', 'convoluted', 'suffer', 'blockhead', 'frazzled', 'trivialize', 'overblown', 'collude', 'fraudulent', 'impolitely', 'suppress', 'rut', 'false', 'upsetting', 'ultra-hardline', 'jeopardy', 'hung', 'impulsively', 'discrepant', 'offender', 'distraughtly', 'overwhelmingly', 'inconsequently', 'illiterate', 'enviously', 'propagandize', 'banalize', 'enraging', 'lacks', 'cheerless', 'dissident', 'exagerate', 'disdainfully', 'ghosting', 'shabby', 'bastard', 'hardships', 'raped', 'smolder', 'glare', 'trapped', 'irascible', 'declines', 'disapprobation', 'inefficiently', 'uncomfortable', 'alienation', 'submissive', 'parasite', 'invidiousness', 'graceless', 'nepotism', 'indiscriminately', 'irreversible', 'self-coup', 'unproves', 'hurt', 'terribly', 'dropouts', 'forfeit', 'mournfully', 'dissuade', 'static', 'sues', 'zombie', 'threaten', 'unyielding', 'issues', 'virus', 'contentious', 'incite', 'ghastly', 'inundated', 'overpaid', 'raging', 'miserably', 'insurmountable', 'disrepute', 'extortion', 'fanatics', 'flakey', 'deviously', 'deceptively', 'mysteriously', 'brutalize', 'injustice', 'damnably', 'wilt', 'ignoble', 'prevaricate', 'creaking', 'discountenance', 'irksomely', 'chintzy', 'disgust', 'stupidity', 'dubious', 'appal', 'inculcate', 'laggy', 'grievance', 'smudge', 'wrip', 'fearsome', 'loveless', 'sermonize', 'denied', 'annoyed', 'vengefulness', 'muscle-flexing', 'hubris', 'spoon-feed', 'wound', 'idiot', 'distasteful', 'abrupt', 'bomb', 'lapse', 'deceive', 'renunciation', 'antagonize', 'conspicuous', 'victimize', 'freakishly', 'goon', 'jagged', 'anti-israeli', 'dread', 'two-faces', 'dissatisfies', 'obstruct', 'panicking', 'weed', 'impossible', 'concessions', 'beg', 'perfidity', 'fluster', 'fatal', 'disappoints', 'crowded', 'illness', 'miserableness', 'shamelessly', 'dreadfully', 'worrier', 'cartoonish', 'deprave', 'scarily', 'fanatical', 'stumped', 'treachery', 'embroiled', 'smear', 'trample', 'adversarial', 'mulish', 'drawbacks', 'fatuity', 'inimical', 'bewildering', 'solemn', 'austere', 'disavow', 'tension', 'unbelievably', 'scratches', 'extinguish', 'jeeringly', 'deceitfulness', 'undesirable', 'abruptly', 'derisiveness', 'debatable', 'falsehood', 'dejectedly', 'frustratingly', 'frustrate', 'grating', 'protest', 'rumors', 'bewitch', 'blunders', 'beseech', 'autocratic', 'decadent', 'greedy', 'ineffectively', 'misread', 'partisan', 'frictions', 'refuting', 'disliking', 'grainy', 'skepticism', 'overrun', 'cataclysmal', 'whine', 'despotism', 'negation', 'mistakenly', 'quash', 'skulk', 'butchery', 'perverts', 'negativity', 'dishonest', 'injurious', 'unviewable', 'disappointing', 'mockery', 'inordinately', 'dreadful', 'deplore', 'incoherence', 'inconstant', 'panders', 'rampant', 'blotchy', 'stifling', 'gainsayer', 'cynical', 'disheartening', 'horde', 'loses', 'remorselessly', 'shemale', 'destitution', 'extravagant', 'impersonal', 'disparaging', 'notorious', 'aspersion', 'horrific', 'unuseable', 'nettle', 'underlings', 'drones', 'snobs', 'capricious', 'demolisher', 'intimidation', 'shock', 'castigate', 'thicker', 'unkindly', 'insignificance', 'shamelessness', 'phobic', 'resistance', 'browbeat', 'disdained', 'incredulous', 'zapped', 'prick', 'fake', 'strange', 'rattle', 'bitterly', 'plunderer', 'anarchism', 'busybody', 'quibble', 'swelling', 'disgustfully', 'anguish', 'quarrelsome', 'conceited', 'polluters', 'unnecessary', 'darken', 'upheaval', 'bullshyt', 'selfish', 'unfriendly', 'volatile', 'dark', 'absurd', 'multi-polarization', 'crime', 'distort', 'incorrigible', 'fractiously', 'racists', 'anti-proliferation', 'insane', 'spookiest', 'unsteadily', 'accuses', 'ugliest', 'anti-semites', 'flareups', 'stingy', 'blundering', 'brazenness', 'atrocities', 'conscons', 'crook', 'tepid', 'biased', 'dim', 'stifle', 'cuss', 'aggressiveness', 'madden', 'disagree', 'feeble', 'mangled', 'bogus', 'rupture', 'loose', 'inconsequent', 'pompous', 'meddlesome', 'fallaciously', 'infuriating', 'self-humiliation', 'lovelorn', 'divisiveness', 'imaginary', 'aggravating', 'helplessness', 'irrecoverably', 'lost', 'heretic', 'slap', 'sloppily', 'massacre', 'aching', 'break-ups', 'asinininity', 'defiance', 'epidemic', 'jitters', 'messy', 'hothead', 'inane', 'illicit', 'lags', 'misunderstandings', 'qualms', 'hate', 'grouch', 'taunt', 'disrespectable', 'tumbles', 'precarious', 'stun', 'defame', 'tyrannical', 'hindrance', 'imperialist', 'insufferable', 'interruption', 'gasp', 'leak', 'miscalculation', 'bothers', 'dragged', 'indistinguishable', 'scourge', 'boastful', 'mortify', 'terribleness', 'nauseatingly', 'lanky', 'futile', 'debilitate', 'oblique', 'wrinkled', 'slave', 'animosity', 'falling', 'hostage', 'quibbles', 'idle', 'ridiculous', 'rants', 'torturously', 'stridently', 'dwindling', 'hollow', 'lurid', 'shallow', 'outrageously', 'invidious', 'damn', 'haphazard', 'overturn', 'selfishly', 'vengeful', 'murderously', 'scorching', 'irrationality', 'suffers', 'allergy', 'desolately', 'phony', 'woefully', 'discompose', 'eschew', 'laughably', 'disses', 'glibly', 'misfit', 'randomly', 'uncontrolled', 'unusable', 'usurper', 'trap', 'oversimplified', 'senseless', 'starve', 'oddly', 'hissed', 'languish', 'dissidence', 'beset', 'obnoxiously', 'fleeing', 'sap', 'bleed', 'harbors', 'twists', 'untrue', 'opposition', 'cumbersome', 'disinterested', 'job-killing', 'heinous', 'enjoin', 'ignominy', 'lascivious', 'wily', 'jerky', 'hotheaded', 'inflict', 'grotesque', 'wearisome', 'geezer', 'onerous', 'stumble', 'absurdity', 'excessive', 'temptation', 'disgusted', 'flee', 'temerity', 'bewildered', 'ironies', 'subversively', 'autocrat', 'disgruntled', 'snobby', 'brutality', 'shocking', 'misreading', 'mundane', 'elimination', 'crushed', 'miseries', 'douchebags', 'irk', 'jutters', 'danger', 'addicting', 'pretentiously', 'imprecision', 'displace', 'downbeat', 'disoriented', 'tedious', 'whining', 'dripped', 'ineffectual', 'insolence', 'misstatement', 'exhaust', 'inhospitality', 'shame', 'inflame', 'unlawfulness', 'acerbically', 'feverish', 'object', 'cheated', 'gibberish', 'ailment', 'undependability', 'corrosion', 'harmful', 'fleer', 'illogically', 'idiots', 'betrays', 'breach', 'drag', 'sidetracked', 'fatuous', 'wasted', 'inadequacy', 'uproot', 'gainsay', 'foolish', 'insurmountably', 'mislike', 'precipitous', 'riled', 'rumor', 'sicken', 'dismalness', 'relentlessly', 'imbalance', 'warned', 'ludicrously', 'emphatic', 'crumble', 'invective', 'weaken', 'premeditated', 'villainous', 'arrogantly', 'impudent', 'deluge', 'delinquent', 'peculiarly', 'revulsion', 'vulgar', 'fraud', 'misrepresent', 'grudge', 'peevish', 'indecently', 'bruising', 'enmity', 'apocalyptic', 'boil', 'dungeon', 'corrosions', 'haywire', 'daunt', 'patronize', 'inflammed', 'erodes', 'washed-out', 'limited', 'instability', 'disturbance', 'dinky', 'prickles', 'imperious', 'mortified', 'insinuate', 'rip', 'transgression', 'cripple', 'blasted', 'weak', 'blah', 'lethal', 'malignant', 'smudged', 'impatiently', 'awful', 'refute', 'sham', 'counterproductive', 'overbalance', 'floored', 'inaccuracies', 'annihilate', 'slack', 'misjudgment', 'error', 'ill-formed', 'recessionary', 'second-class', 'blur', 'morbid', 'threatening', 'loath', 'primitive', 'inflated', 'degradingly', 'untenable', 'pan', 'displeasure', 'berate', 'creep', 'implausibly', 'worthlessly', 'forgetfully', 'ill-favored', 'goad', 'propaganda', 'annoyingly', 'refusing', 'failure', 'indifference', 'scuffs', 'unproven', 'inhuman', 'shadowy', 'drought', 'hideousness', 'over-acted', 'contaminated', 'scathing', 'insociable', 'sloth', 'stutter', 'bumpping', 'incongruous', 'shortcomings', 'repress', 'ill-defined', 'pimple', 'beastly', 'inflammation', 'doomsday', 'wreaks', 'drunkard', 'lividly', 'fail', 'cataclysm', 'fallen', 'feign', 'fetid', 'forsake', 'impossiblity', 'lewd', 'outbursts', 'grumpish', 'desperate', 'pathetically', 'egregiously', 'malevolently', 'ploy', 'ineffectually', 'rebuke', 'obstructed', 'admonisher', 'indoctrination', 'byzantine', 'infuriated', 'dire', 'brutally', 'chaff', 'encroachment', 'volatility', 'manic', 'smother', 'cataclysmic', 'lorn', 'totalitarian', 'unwillingly', 'denunciate', 'dissuasive', 'delusions', 'impugn', 'miscreants', 'goofy', 'crappy', 'rust', 'wobbled', 'humiliation', 'misguidance', 'heckles', 'defiant', 'wicked', 'fleed', 'fictional', 'decayed', 'contemptible', 'droops', 'menial', 'haughty', 'scrap', 'election-rigger', 'inescapable', 'tiring', 'gruff', 'oversimplification', 'timidity', 'juddering', 'misunderstanding', 'spotty', 'abuses', 'disturbing', 'scarcity', 'steeply', 'stolen', 'cringe', 'pain', 'interferes', 'imperfection', 'inconsequential', 'ferocity', 'misleadingly', 'erroneous', 'hefty', 'inessential', 'lament', 'subservient', 'suspect', 'treacherously', 'worse', 'discontentedly', 'condescending', 'bleeding', 'conflicted', 'inteferes', 'disillusionment', 'discordance', 'melodramatic', 'expropriation', 'betrayals', 'spewed', 'vehemently', 'perplexity', 'dejection', 'rejects', 'troubling', 'loophole', 'rigidity', 'paralize', 'irregularity', 'monstrously', 'diabolical', 'decry', 'impolite', 'unnatural', 'critics', 'horrendously', 'besmirch', 'satirize', 'exploitation', 'infiltrator', 'disapointment', 'fatally', 'dilemma', 'irritation', 'berserk', 'lackey', 'stupidest', 'spoils', 'impure', 'infection', 'flaky', 'anti-social', 'venomous', 'blasphemy', 'sarcastically', 'lie', 'harshly', 'friction', 'pertinaciously', 'crueler', 'unusual', 'bum', 'sorrowfully', 'consternation', 'barbarian', 'immorality', 'hypocricy', 'fragmented', 'mordantly', 'mischievous', 'senselessly', 'instigators', 'immovable', 'invalid', 'screwy', 'irresponsible', 'froze', 'rubbish', 'shroud', 'assassin', 'startle', 'destruction', 'engulf', 'moot', 'dissappointed', 'cruelties', 'boring', 'muddy', 'symptoms', 'tormented', 'madman', 'strained', 'yawn', 'subjection', 'delusional', 'watered-down', 'subtract', 'unusably', 'infidel', 'tyranny', 'get-rich', 'flighty', 'slaves', 'loopholes', 'screw-up', 'ashamed', 'flagrantly', 'skeptical', 'fault', 'seethe', 'disparagingly', 'abysmal', 'inefficiency', 'idiocy', 'travesty', 'importune', 'naive', 'doggedly', 'retardedness', 'nebulously', 'bellicose', 'testily', 'violent', 'unintelligible', 'impatience', 'refusal', 'inequities', 'vile', 'inconsistence', 'throbs', 'impenitent', 'vulnerable', 'unnervingly', 'undissolved', 'paupers', 'apathy', 'degrading', 'hegemonism', 'radical', 'unsettled', 'hazardous', 'helpless', 'insouciance', 'inability', 'sueing', 'chafe', 'lawbreaking', 'regret', 'hotbeds', 'incompetence', 'venom', 'inapt', 'aggressor', 'dumping', 'extravagantly', 'direness', 'lugubrious', 'shrilly', 'plot', 'flickering', 'smudging', 'wreaked', 'kill', 'abrade', 'quandary', 'absence', 'choke', 'revile', 'clumsy', 'brashly', 'wreak', 'worries', 'boredom', 'dirtbags', 'farce', 'martyrdom-seeking', 'detrimental', 'ingrate', 'abominate', 'irreplacible', 'tetchy', 'reckless', 'conspiracy', 'imprecisely', 'bumps', 'calumnious', 'oppressors', 'hogs', 'sacrificed', 'scowl', 'belittling', 'cravenly', 'allegations', 'gullible', 'hypocritically', 'scratchy', 'discombobulate', 'infected', 'bigotries', 'insults', 'misuse', 'sue', 'scarce', 'harsh', 'refutes', 'savage', 'crashes', 'misguided', 'doubtful', 'tarnishes', 'rip-off', 'dope', 'helplessly', 'rue', 'appalling', 'jaundiced', 'curses', 'losers', 'jerk', 'overstates', 'overheat', 'conflicts', 'incorrect', 'sickly', 'torture', 'bigotry', 'occlude', 'dislocated', 'spoilled', 'disagreeably', 'ached', 'antipathy', 'hiliarious', 'laughable', 'calamity', 'decrepit', 'contemptuous', 'craftly', 'straggle', 'grieve', 'inconsolable', 'deterioration', 'uncivil', 'casualty', 'violently', 'knife', 'expunge', 'grim', 'illusion', 'inglorious', 'pandering', 'pessimistically', 'distress', 'disturbed', 'bumping', 'covetous', 'pertinacious', 'crisis'}\n"
          ]
        }
      ]
    },
    {
      "cell_type": "markdown",
      "metadata": {
        "id": "HzWuXxEq9INJ"
      },
      "source": [
        "The words in the list are general, but we can add some domain-specific word (\"`|`\" is the \"set union\" operator)"
      ]
    },
    {
      "cell_type": "code",
      "metadata": {
        "id": "XHAevZFs9INK"
      },
      "source": [
        "airline_pos_words = hu_liu_pos | {\"upgrade\"}\n",
        "airline_neg_words = hu_liu_neg | {\"wtf\", \"wait\", \"waiting\", \"epicfail\", \"mechanical\"}"
      ],
      "execution_count": 17,
      "outputs": []
    },
    {
      "cell_type": "markdown",
      "metadata": {
        "id": "-w7GIElE9INL"
      },
      "source": [
        "_Performance note:_ we use sets here (denoted with braces: `{...}`) rather than lists (with square brackets: `[...]`) to make lookup faster"
      ]
    },
    {
      "cell_type": "code",
      "metadata": {
        "colab": {
          "base_uri": "https://localhost:8080/"
        },
        "id": "Oy45mfQ79INL",
        "outputId": "8508667e-b7d7-47c3-e101-87282221d700"
      },
      "source": [
        "%%timeit -n 1000000 \n",
        "# -n represents the number of loops, i.e. the number of times the code will be executed\n",
        "# 5 is the test repeat count; the tests are repeated several times. The fastest time of those 5 is then taken.\n",
        "\n",
        "\"e\" in [\"a\", \"b\", \"c\", \"d\", \"e\"]   # list"
      ],
      "execution_count": 18,
      "outputs": [
        {
          "output_type": "stream",
          "name": "stdout",
          "text": [
            "1000000 loops, best of 5: 106 ns per loop\n"
          ]
        }
      ]
    },
    {
      "cell_type": "code",
      "metadata": {
        "colab": {
          "base_uri": "https://localhost:8080/"
        },
        "id": "ADOFvNSD9INN",
        "outputId": "0d02edd5-85de-4694-ed83-280cca1df239"
      },
      "source": [
        "%%timeit -n 1000000\n",
        "\"e\" in {\"a\", \"b\", \"c\", \"d\", \"e\"}   # set"
      ],
      "execution_count": 19,
      "outputs": [
        {
          "output_type": "stream",
          "name": "stdout",
          "text": [
            "1000000 loops, best of 5: 39.5 ns per loop\n"
          ]
        }
      ]
    },
    {
      "cell_type": "markdown",
      "metadata": {
        "id": "h8XH_H6d9INP"
      },
      "source": [
        "### Text tokenization\n",
        "\n",
        "We have to decompose tweets into the single words they contain in order to search for the opinion words within it\n",
        "\n",
        "A _tokenization_ algorithm splits a text string into a sequence of _tokens_ each representing a single word (or other entities such as numbers and punctuation)"
      ]
    },
    {
      "cell_type": "markdown",
      "metadata": {
        "id": "mSDplc_P9INP"
      },
      "source": [
        "A simple tokenization algorithm can consist in removing all characters different from letters and spaces from text, than splitting text in words using spaces as boundaries"
      ]
    },
    {
      "cell_type": "code",
      "metadata": {
        "id": "TJORMSRs9INP"
      },
      "source": [
        "import re\n",
        "\n",
        "# Considering \"This isn't a test, or is it?\" sentence as text\n",
        "# re.sub(\"[^A-Za-z ]\", \"\", text) will transform it as 'This isnt a test or is it'. \n",
        "# In general, it removes (that is equivalent to: substitute with \"\") every character that is not a upperase/lowercase letter or space\n",
        "def my_tokenizer(text):\n",
        "    return re.sub(\"[^A-Za-z ]\", \"\", text).split(\" \") # split(\" \") is used to split the sentence in a list of strings using the space \" \" as separator"
      ],
      "execution_count": 20,
      "outputs": []
    },
    {
      "cell_type": "markdown",
      "metadata": {
        "id": "Lw9xbtIU9INQ"
      },
      "source": [
        "An example usage is..."
      ]
    },
    {
      "cell_type": "code",
      "metadata": {
        "colab": {
          "base_uri": "https://localhost:8080/"
        },
        "id": "3W6juY_S9INR",
        "outputId": "c8b8660d-f38f-40d3-d602-d30dcac98c7f"
      },
      "source": [
        "my_tokenizer(\"This isn't a test, or is it?\")"
      ],
      "execution_count": 21,
      "outputs": [
        {
          "output_type": "execute_result",
          "data": {
            "text/plain": [
              "['This', 'isnt', 'a', 'test', 'or', 'is', 'it']"
            ]
          },
          "metadata": {},
          "execution_count": 21
        }
      ]
    },
    {
      "cell_type": "markdown",
      "metadata": {
        "id": "YFoRFRJM9INS"
      },
      "source": [
        "NLTK provides a finer tokenization algorithm, based on a knowledge model of the English language: in order to make it work, we have first to download the model"
      ]
    },
    {
      "cell_type": "code",
      "metadata": {
        "colab": {
          "base_uri": "https://localhost:8080/"
        },
        "id": "nnBPTc5E9INT",
        "outputId": "6a69750b-603a-47ad-9272-d4997b1a9c2f"
      },
      "source": [
        "nltk.download(\"punkt\")"
      ],
      "execution_count": 22,
      "outputs": [
        {
          "output_type": "stream",
          "name": "stdout",
          "text": [
            "[nltk_data] Downloading package punkt to /root/nltk_data...\n",
            "[nltk_data]   Unzipping tokenizers/punkt.zip.\n"
          ]
        },
        {
          "output_type": "execute_result",
          "data": {
            "text/plain": [
              "True"
            ]
          },
          "metadata": {},
          "execution_count": 22
        }
      ]
    },
    {
      "cell_type": "markdown",
      "metadata": {
        "id": "pS5JsR0E9INU"
      },
      "source": [
        "We can then use the `word_tokenize` function"
      ]
    },
    {
      "cell_type": "code",
      "metadata": {
        "colab": {
          "base_uri": "https://localhost:8080/"
        },
        "id": "Su1bApvb9INU",
        "outputId": "82b041e5-67f9-42bf-88b3-a3c18510ca9e"
      },
      "source": [
        "nltk.word_tokenize(\"This isn't a test, or is it?\")"
      ],
      "execution_count": 23,
      "outputs": [
        {
          "output_type": "execute_result",
          "data": {
            "text/plain": [
              "['This', 'is', \"n't\", 'a', 'test', ',', 'or', 'is', 'it', '?']"
            ]
          },
          "metadata": {},
          "execution_count": 23
        }
      ]
    },
    {
      "cell_type": "markdown",
      "metadata": {
        "id": "ftuN515Y9INW"
      },
      "source": [
        "Other than keeping punctuation marks as separate tokens, NLTK was able to correctly split \"isn't\" into its two component words"
      ]
    },
    {
      "cell_type": "markdown",
      "metadata": {
        "id": "trAmVK-69INX"
      },
      "source": [
        "### Sentiment scoring\n",
        "\n",
        "We define a function to compute the \"sentiment score\" of some text, computed as the difference between counts of positive and negative opinion words contained in it. Notice we have to convert all words in lowercase to be sure to find them in the lists."
      ]
    },
    {
      "cell_type": "code",
      "metadata": {
        "id": "walyIml89INX"
      },
      "source": [
        "def sentiment_score(text, pos_words, neg_words):\n",
        "    words = nltk.word_tokenize(text)\n",
        "    # count 1 for each word present in the positive words list\n",
        "    pos_matches = sum(1 for word in words if word.lower() in pos_words)\n",
        "    # same count with the negative words list\n",
        "    neg_matches = sum(1 for word in words if word.lower() in neg_words)\n",
        "    # return the difference between the two counts\n",
        "    return pos_matches - neg_matches"
      ],
      "execution_count": 24,
      "outputs": []
    },
    {
      "cell_type": "markdown",
      "metadata": {
        "id": "OEiDe6fv9INZ"
      },
      "source": [
        "This functions accept the lists of positive and negative words as input, we can wrap it in a version specific for the \"airline\" opinion words lists"
      ]
    },
    {
      "cell_type": "code",
      "metadata": {
        "id": "njkdCZha9INZ"
      },
      "source": [
        "def airline_sentiment_score(text):\n",
        "    return sentiment_score(text, airline_pos_words, airline_neg_words)"
      ],
      "execution_count": 25,
      "outputs": []
    },
    {
      "cell_type": "markdown",
      "metadata": {
        "id": "gwKz63o99INb"
      },
      "source": [
        "Example: a sentence with one positive word..."
      ]
    },
    {
      "cell_type": "code",
      "metadata": {
        "colab": {
          "base_uri": "https://localhost:8080/"
        },
        "id": "KsCtI9SU9INb",
        "outputId": "92b49cdb-81ef-4124-ae37-861b765b043c"
      },
      "source": [
        "airline_sentiment_score(\"This is an awesome test!\")"
      ],
      "execution_count": 26,
      "outputs": [
        {
          "output_type": "execute_result",
          "data": {
            "text/plain": [
              "1"
            ]
          },
          "metadata": {},
          "execution_count": 26
        }
      ]
    },
    {
      "cell_type": "markdown",
      "metadata": {
        "id": "-aQ1fUrK9INd"
      },
      "source": [
        "Let's consider a small set of sample sentences to evaluate"
      ]
    },
    {
      "cell_type": "code",
      "metadata": {
        "id": "DvZj3Qg59INd"
      },
      "source": [
        "sample = [\n",
        "    \"You're awesome and I love you\",\n",
        "    \"I hate and hate and hate. So angry. Die!\",\n",
        "    \"Impressed and amazed: you are peerless in your achievement of unparalleled mediocrity.\"\n",
        "]"
      ],
      "execution_count": 27,
      "outputs": []
    },
    {
      "cell_type": "markdown",
      "metadata": {
        "id": "ZVxGd4jj9INf"
      },
      "source": [
        "We can use `map` to apply the scoring function to each of the samples and get the sequence of corresponding scores wrapped in a list"
      ]
    },
    {
      "cell_type": "code",
      "metadata": {
        "id": "8hzGXMsQ9INf"
      },
      "source": [
        "sample_scores = list(map(airline_sentiment_score, sample))"
      ],
      "execution_count": 28,
      "outputs": []
    },
    {
      "cell_type": "code",
      "metadata": {
        "colab": {
          "base_uri": "https://localhost:8080/"
        },
        "id": "wJ5dPnud9INh",
        "outputId": "f4b79f53-d6fb-416f-f64e-be80a7276024"
      },
      "source": [
        "sample_scores"
      ],
      "execution_count": 29,
      "outputs": [
        {
          "output_type": "execute_result",
          "data": {
            "text/plain": [
              "[2, -5, 4]"
            ]
          },
          "metadata": {},
          "execution_count": 29
        }
      ]
    },
    {
      "cell_type": "markdown",
      "metadata": {
        "id": "I306cBAA9INj"
      },
      "source": [
        "Using a pandas DataFrame, we can get a table of sample sentences matched with scores"
      ]
    },
    {
      "cell_type": "code",
      "metadata": {
        "colab": {
          "base_uri": "https://localhost:8080/",
          "height": 158
        },
        "id": "kWoqjh6f9INk",
        "outputId": "19bf9f93-12fb-411e-8744-feb732f34a04"
      },
      "source": [
        "pd.DataFrame({\"score\": sample_scores, \"text\": sample})"
      ],
      "execution_count": 30,
      "outputs": [
        {
          "output_type": "execute_result",
          "data": {
            "text/plain": [
              "   score  \\\n",
              "0      2   \n",
              "1     -5   \n",
              "2      4   \n",
              "\n",
              "                                                                                     text  \n",
              "0                                                           You're awesome and I love you  \n",
              "1                                                I hate and hate and hate. So angry. Die!  \n",
              "2  Impressed and amazed: you are peerless in your achievement of unparalleled mediocrity.  "
            ],
            "text/html": [
              "\n",
              "  <div id=\"df-6415824d-bbe8-40a1-9dfc-2fa65ce807d9\">\n",
              "    <div class=\"colab-df-container\">\n",
              "      <div>\n",
              "<style scoped>\n",
              "    .dataframe tbody tr th:only-of-type {\n",
              "        vertical-align: middle;\n",
              "    }\n",
              "\n",
              "    .dataframe tbody tr th {\n",
              "        vertical-align: top;\n",
              "    }\n",
              "\n",
              "    .dataframe thead th {\n",
              "        text-align: right;\n",
              "    }\n",
              "</style>\n",
              "<table border=\"1\" class=\"dataframe\">\n",
              "  <thead>\n",
              "    <tr style=\"text-align: right;\">\n",
              "      <th></th>\n",
              "      <th>score</th>\n",
              "      <th>text</th>\n",
              "    </tr>\n",
              "  </thead>\n",
              "  <tbody>\n",
              "    <tr>\n",
              "      <th>0</th>\n",
              "      <td>2</td>\n",
              "      <td>You're awesome and I love you</td>\n",
              "    </tr>\n",
              "    <tr>\n",
              "      <th>1</th>\n",
              "      <td>-5</td>\n",
              "      <td>I hate and hate and hate. So angry. Die!</td>\n",
              "    </tr>\n",
              "    <tr>\n",
              "      <th>2</th>\n",
              "      <td>4</td>\n",
              "      <td>Impressed and amazed: you are peerless in your achievement of unparalleled mediocrity.</td>\n",
              "    </tr>\n",
              "  </tbody>\n",
              "</table>\n",
              "</div>\n",
              "      <button class=\"colab-df-convert\" onclick=\"convertToInteractive('df-6415824d-bbe8-40a1-9dfc-2fa65ce807d9')\"\n",
              "              title=\"Convert this dataframe to an interactive table.\"\n",
              "              style=\"display:none;\">\n",
              "        \n",
              "  <svg xmlns=\"http://www.w3.org/2000/svg\" height=\"24px\"viewBox=\"0 0 24 24\"\n",
              "       width=\"24px\">\n",
              "    <path d=\"M0 0h24v24H0V0z\" fill=\"none\"/>\n",
              "    <path d=\"M18.56 5.44l.94 2.06.94-2.06 2.06-.94-2.06-.94-.94-2.06-.94 2.06-2.06.94zm-11 1L8.5 8.5l.94-2.06 2.06-.94-2.06-.94L8.5 2.5l-.94 2.06-2.06.94zm10 10l.94 2.06.94-2.06 2.06-.94-2.06-.94-.94-2.06-.94 2.06-2.06.94z\"/><path d=\"M17.41 7.96l-1.37-1.37c-.4-.4-.92-.59-1.43-.59-.52 0-1.04.2-1.43.59L10.3 9.45l-7.72 7.72c-.78.78-.78 2.05 0 2.83L4 21.41c.39.39.9.59 1.41.59.51 0 1.02-.2 1.41-.59l7.78-7.78 2.81-2.81c.8-.78.8-2.07 0-2.86zM5.41 20L4 18.59l7.72-7.72 1.47 1.35L5.41 20z\"/>\n",
              "  </svg>\n",
              "      </button>\n",
              "      \n",
              "  <style>\n",
              "    .colab-df-container {\n",
              "      display:flex;\n",
              "      flex-wrap:wrap;\n",
              "      gap: 12px;\n",
              "    }\n",
              "\n",
              "    .colab-df-convert {\n",
              "      background-color: #E8F0FE;\n",
              "      border: none;\n",
              "      border-radius: 50%;\n",
              "      cursor: pointer;\n",
              "      display: none;\n",
              "      fill: #1967D2;\n",
              "      height: 32px;\n",
              "      padding: 0 0 0 0;\n",
              "      width: 32px;\n",
              "    }\n",
              "\n",
              "    .colab-df-convert:hover {\n",
              "      background-color: #E2EBFA;\n",
              "      box-shadow: 0px 1px 2px rgba(60, 64, 67, 0.3), 0px 1px 3px 1px rgba(60, 64, 67, 0.15);\n",
              "      fill: #174EA6;\n",
              "    }\n",
              "\n",
              "    [theme=dark] .colab-df-convert {\n",
              "      background-color: #3B4455;\n",
              "      fill: #D2E3FC;\n",
              "    }\n",
              "\n",
              "    [theme=dark] .colab-df-convert:hover {\n",
              "      background-color: #434B5C;\n",
              "      box-shadow: 0px 1px 3px 1px rgba(0, 0, 0, 0.15);\n",
              "      filter: drop-shadow(0px 1px 2px rgba(0, 0, 0, 0.3));\n",
              "      fill: #FFFFFF;\n",
              "    }\n",
              "  </style>\n",
              "\n",
              "      <script>\n",
              "        const buttonEl =\n",
              "          document.querySelector('#df-6415824d-bbe8-40a1-9dfc-2fa65ce807d9 button.colab-df-convert');\n",
              "        buttonEl.style.display =\n",
              "          google.colab.kernel.accessAllowed ? 'block' : 'none';\n",
              "\n",
              "        async function convertToInteractive(key) {\n",
              "          const element = document.querySelector('#df-6415824d-bbe8-40a1-9dfc-2fa65ce807d9');\n",
              "          const dataTable =\n",
              "            await google.colab.kernel.invokeFunction('convertToInteractive',\n",
              "                                                     [key], {});\n",
              "          if (!dataTable) return;\n",
              "\n",
              "          const docLinkHtml = 'Like what you see? Visit the ' +\n",
              "            '<a target=\"_blank\" href=https://colab.research.google.com/notebooks/data_table.ipynb>data table notebook</a>'\n",
              "            + ' to learn more about interactive tables.';\n",
              "          element.innerHTML = '';\n",
              "          dataTable['output_type'] = 'display_data';\n",
              "          await google.colab.output.renderOutput(dataTable, element);\n",
              "          const docLink = document.createElement('div');\n",
              "          docLink.innerHTML = docLinkHtml;\n",
              "          element.appendChild(docLink);\n",
              "        }\n",
              "      </script>\n",
              "    </div>\n",
              "  </div>\n",
              "  "
            ]
          },
          "metadata": {},
          "execution_count": 30
        }
      ]
    },
    {
      "cell_type": "markdown",
      "metadata": {
        "id": "O4iDxy-y9INl"
      },
      "source": [
        "As we can see, the scoring function correctly evaluates straightforward sentences, although it fails to detect more elaborate text (e.g. using sarcasm)"
      ]
    },
    {
      "cell_type": "markdown",
      "metadata": {
        "id": "hAPiIBPC9INl"
      },
      "source": [
        "Let's apply the scoring functions to all tweets for one of the companies, e.g. Delta. We wrap scores in a pandas Series so we can use its functionalities."
      ]
    },
    {
      "cell_type": "code",
      "metadata": {
        "id": "UHfh_kQf9INm"
      },
      "source": [
        "delta_scores = pd.Series(map(airline_sentiment_score, tweets[\"text\"][tweets[\"airline\"] == \"delta\"]))"
      ],
      "execution_count": 31,
      "outputs": []
    },
    {
      "cell_type": "code",
      "metadata": {
        "colab": {
          "base_uri": "https://localhost:8080/"
        },
        "id": "XANhbzGVgva_",
        "outputId": "1700a31e-ef67-46be-e0b9-29d017872420"
      },
      "source": [
        "delta_scores"
      ],
      "execution_count": 32,
      "outputs": [
        {
          "output_type": "execute_result",
          "data": {
            "text/plain": [
              "0       1\n",
              "1       0\n",
              "2       0\n",
              "3      -1\n",
              "4       0\n",
              "       ..\n",
              "1140   -1\n",
              "1141   -1\n",
              "1142    0\n",
              "1143    0\n",
              "1144    0\n",
              "Length: 1145, dtype: int64"
            ]
          },
          "metadata": {},
          "execution_count": 32
        }
      ]
    },
    {
      "cell_type": "markdown",
      "metadata": {
        "id": "yTqV-3Y19INn"
      },
      "source": [
        "We can get for example the mean score of tweets..."
      ]
    },
    {
      "cell_type": "code",
      "metadata": {
        "colab": {
          "base_uri": "https://localhost:8080/"
        },
        "id": "7SX8uoX49INo",
        "outputId": "bba17036-0711-4582-c055-bb3875a8b425"
      },
      "source": [
        "delta_scores.mean()"
      ],
      "execution_count": 33,
      "outputs": [
        {
          "output_type": "execute_result",
          "data": {
            "text/plain": [
              "0.23406113537117904"
            ]
          },
          "metadata": {},
          "execution_count": 33
        }
      ]
    },
    {
      "cell_type": "markdown",
      "metadata": {
        "id": "JFAM9PgZ9INp"
      },
      "source": [
        "...and even plot an histogram of the distribution of scores"
      ]
    },
    {
      "cell_type": "code",
      "metadata": {
        "colab": {
          "base_uri": "https://localhost:8080/",
          "height": 284
        },
        "id": "IdnDfrX49INq",
        "outputId": "54a52d07-1ffd-4adf-b0ff-2b33e608082b"
      },
      "source": [
        "delta_scores.plot.hist()"
      ],
      "execution_count": 34,
      "outputs": [
        {
          "output_type": "execute_result",
          "data": {
            "text/plain": [
              "<matplotlib.axes._subplots.AxesSubplot at 0x7f248b267c90>"
            ]
          },
          "metadata": {},
          "execution_count": 34
        },
        {
          "output_type": "display_data",
          "data": {
            "text/plain": [
              "<Figure size 432x288 with 1 Axes>"
            ],
            "image/png": "[encoded data removed]"
          },
          "metadata": {
            "needs_background": "light"
          }
        }
      ]
    },
    {
      "cell_type": "markdown",
      "metadata": {
        "id": "_0TSBjii9INr"
      },
      "source": [
        "Let's now work with the whole collection of tweets related to all airlines\n",
        "\n",
        "We compute sentiment scores for each tweet by applying the `airline_sentiment_score` function to the `text` columns; scores are saved in a `score` column added to a copy of the `tweets` DataFrame"
      ]
    },
    {
      "cell_type": "code",
      "metadata": {
        "id": "-DsQ0Pd39INr"
      },
      "source": [
        "tweets_with_scores = tweets.copy()\n",
        "tweets_with_scores[\"score\"] = tweets_with_scores[\"text\"].apply(airline_sentiment_score)"
      ],
      "execution_count": 35,
      "outputs": []
    },
    {
      "cell_type": "markdown",
      "metadata": {
        "id": "GOG2mmQe9INs"
      },
      "source": [
        "Let's see some random rows from it..."
      ]
    },
    {
      "cell_type": "code",
      "metadata": {
        "colab": {
          "base_uri": "https://localhost:8080/",
          "height": 228
        },
        "id": "O6sqT54S9INt",
        "outputId": "bc59d530-0f7b-49fe-9015-ec271277f4af"
      },
      "source": [
        "tweets_with_scores.sample(5)"
      ],
      "execution_count": 36,
      "outputs": [
        {
          "output_type": "execute_result",
          "data": {
            "text/plain": [
              "     airline  \\\n",
              "3281  united   \n",
              "690    delta   \n",
              "3873  united   \n",
              "681    delta   \n",
              "190    delta   \n",
              "\n",
              "                                                                                                     text  \\\n",
              "3281   @united I know, but it doesn't mean I have to like it! What chance if some change in the rules? :)   \n",
              "690                                                                             @tom_hart @Delta or pants   \n",
              "3873                      Packed flight delayed because of a \"printer issue.\" Come on @united, it's 2013.   \n",
              "681   It would be nice if @Delta or @USAirways could find our luggage. I likes this outfit, but not en...   \n",
              "190   RT @NYDailyNews: 9-year-old boy who sneaked onto @Delta flight has rap sheet: report. http://t.c...   \n",
              "\n",
              "      score  \n",
              "3281      1  \n",
              "690       0  \n",
              "3873     -2  \n",
              "681       3  \n",
              "190       0  "
            ],
            "text/html": [
              "\n",
              "  <div id=\"df-86c9099a-fccd-49ae-a1a1-3274c5086f89\">\n",
              "    <div class=\"colab-df-container\">\n",
              "      <div>\n",
              "<style scoped>\n",
              "    .dataframe tbody tr th:only-of-type {\n",
              "        vertical-align: middle;\n",
              "    }\n",
              "\n",
              "    .dataframe tbody tr th {\n",
              "        vertical-align: top;\n",
              "    }\n",
              "\n",
              "    .dataframe thead th {\n",
              "        text-align: right;\n",
              "    }\n",
              "</style>\n",
              "<table border=\"1\" class=\"dataframe\">\n",
              "  <thead>\n",
              "    <tr style=\"text-align: right;\">\n",
              "      <th></th>\n",
              "      <th>airline</th>\n",
              "      <th>text</th>\n",
              "      <th>score</th>\n",
              "    </tr>\n",
              "  </thead>\n",
              "  <tbody>\n",
              "    <tr>\n",
              "      <th>3281</th>\n",
              "      <td>united</td>\n",
              "      <td>@united I know, but it doesn't mean I have to like it! What chance if some change in the rules? :)</td>\n",
              "      <td>1</td>\n",
              "    </tr>\n",
              "    <tr>\n",
              "      <th>690</th>\n",
              "      <td>delta</td>\n",
              "      <td>@tom_hart @Delta or pants</td>\n",
              "      <td>0</td>\n",
              "    </tr>\n",
              "    <tr>\n",
              "      <th>3873</th>\n",
              "      <td>united</td>\n",
              "      <td>Packed flight delayed because of a \"printer issue.\" Come on @united, it's 2013.</td>\n",
              "      <td>-2</td>\n",
              "    </tr>\n",
              "    <tr>\n",
              "      <th>681</th>\n",
              "      <td>delta</td>\n",
              "      <td>It would be nice if @Delta or @USAirways could find our luggage. I likes this outfit, but not en...</td>\n",
              "      <td>3</td>\n",
              "    </tr>\n",
              "    <tr>\n",
              "      <th>190</th>\n",
              "      <td>delta</td>\n",
              "      <td>RT @NYDailyNews: 9-year-old boy who sneaked onto @Delta flight has rap sheet: report. http://t.c...</td>\n",
              "      <td>0</td>\n",
              "    </tr>\n",
              "  </tbody>\n",
              "</table>\n",
              "</div>\n",
              "      <button class=\"colab-df-convert\" onclick=\"convertToInteractive('df-86c9099a-fccd-49ae-a1a1-3274c5086f89')\"\n",
              "              title=\"Convert this dataframe to an interactive table.\"\n",
              "              style=\"display:none;\">\n",
              "        \n",
              "  <svg xmlns=\"http://www.w3.org/2000/svg\" height=\"24px\"viewBox=\"0 0 24 24\"\n",
              "       width=\"24px\">\n",
              "    <path d=\"M0 0h24v24H0V0z\" fill=\"none\"/>\n",
              "    <path d=\"M18.56 5.44l.94 2.06.94-2.06 2.06-.94-2.06-.94-.94-2.06-.94 2.06-2.06.94zm-11 1L8.5 8.5l.94-2.06 2.06-.94-2.06-.94L8.5 2.5l-.94 2.06-2.06.94zm10 10l.94 2.06.94-2.06 2.06-.94-2.06-.94-.94-2.06-.94 2.06-2.06.94z\"/><path d=\"M17.41 7.96l-1.37-1.37c-.4-.4-.92-.59-1.43-.59-.52 0-1.04.2-1.43.59L10.3 9.45l-7.72 7.72c-.78.78-.78 2.05 0 2.83L4 21.41c.39.39.9.59 1.41.59.51 0 1.02-.2 1.41-.59l7.78-7.78 2.81-2.81c.8-.78.8-2.07 0-2.86zM5.41 20L4 18.59l7.72-7.72 1.47 1.35L5.41 20z\"/>\n",
              "  </svg>\n",
              "      </button>\n",
              "      \n",
              "  <style>\n",
              "    .colab-df-container {\n",
              "      display:flex;\n",
              "      flex-wrap:wrap;\n",
              "      gap: 12px;\n",
              "    }\n",
              "\n",
              "    .colab-df-convert {\n",
              "      background-color: #E8F0FE;\n",
              "      border: none;\n",
              "      border-radius: 50%;\n",
              "      cursor: pointer;\n",
              "      display: none;\n",
              "      fill: #1967D2;\n",
              "      height: 32px;\n",
              "      padding: 0 0 0 0;\n",
              "      width: 32px;\n",
              "    }\n",
              "\n",
              "    .colab-df-convert:hover {\n",
              "      background-color: #E2EBFA;\n",
              "      box-shadow: 0px 1px 2px rgba(60, 64, 67, 0.3), 0px 1px 3px 1px rgba(60, 64, 67, 0.15);\n",
              "      fill: #174EA6;\n",
              "    }\n",
              "\n",
              "    [theme=dark] .colab-df-convert {\n",
              "      background-color: #3B4455;\n",
              "      fill: #D2E3FC;\n",
              "    }\n",
              "\n",
              "    [theme=dark] .colab-df-convert:hover {\n",
              "      background-color: #434B5C;\n",
              "      box-shadow: 0px 1px 3px 1px rgba(0, 0, 0, 0.15);\n",
              "      filter: drop-shadow(0px 1px 2px rgba(0, 0, 0, 0.3));\n",
              "      fill: #FFFFFF;\n",
              "    }\n",
              "  </style>\n",
              "\n",
              "      <script>\n",
              "        const buttonEl =\n",
              "          document.querySelector('#df-86c9099a-fccd-49ae-a1a1-3274c5086f89 button.colab-df-convert');\n",
              "        buttonEl.style.display =\n",
              "          google.colab.kernel.accessAllowed ? 'block' : 'none';\n",
              "\n",
              "        async function convertToInteractive(key) {\n",
              "          const element = document.querySelector('#df-86c9099a-fccd-49ae-a1a1-3274c5086f89');\n",
              "          const dataTable =\n",
              "            await google.colab.kernel.invokeFunction('convertToInteractive',\n",
              "                                                     [key], {});\n",
              "          if (!dataTable) return;\n",
              "\n",
              "          const docLinkHtml = 'Like what you see? Visit the ' +\n",
              "            '<a target=\"_blank\" href=https://colab.research.google.com/notebooks/data_table.ipynb>data table notebook</a>'\n",
              "            + ' to learn more about interactive tables.';\n",
              "          element.innerHTML = '';\n",
              "          dataTable['output_type'] = 'display_data';\n",
              "          await google.colab.output.renderOutput(dataTable, element);\n",
              "          const docLink = document.createElement('div');\n",
              "          docLink.innerHTML = docLinkHtml;\n",
              "          element.appendChild(docLink);\n",
              "        }\n",
              "      </script>\n",
              "    </div>\n",
              "  </div>\n",
              "  "
            ]
          },
          "metadata": {},
          "execution_count": 36
        }
      ]
    },
    {
      "cell_type": "markdown",
      "metadata": {
        "id": "Id6S53XS9INu"
      },
      "source": [
        "### Summarizing sentiment for each company\n",
        "\n",
        "Let’s focus our analysis only on very negative (score <= 2) and very positive (score >= 2) tweets, adding columns which identify them"
      ]
    },
    {
      "cell_type": "code",
      "metadata": {
        "id": "UNKPLeHv9INu"
      },
      "source": [
        "tweets_with_scores[\"very_pos\"] = tweets_with_scores[\"score\"] >= 2\n",
        "tweets_with_scores[\"very_neg\"] = tweets_with_scores[\"score\"] <= -2"
      ],
      "execution_count": 37,
      "outputs": []
    },
    {
      "cell_type": "markdown",
      "metadata": {
        "id": "FUiKdp6G9INx"
      },
      "source": [
        "We group the frame by companies, keeping just the columns indicating very positive or negative tweets and counting the number of them for each group"
      ]
    },
    {
      "cell_type": "code",
      "metadata": {
        "id": "BLlyCc2u9INx"
      },
      "source": [
        "twitter_score = tweets_with_scores.groupby(\"airline\")[[\"very_pos\", \"very_neg\"]].sum().sort_index()"
      ],
      "execution_count": 38,
      "outputs": []
    },
    {
      "cell_type": "markdown",
      "metadata": {
        "id": "RsmBFK-U9INz"
      },
      "source": [
        "Let's view the obtained grouped table..."
      ]
    },
    {
      "cell_type": "code",
      "metadata": {
        "colab": {
          "base_uri": "https://localhost:8080/",
          "height": 263
        },
        "id": "KEzM87Un9IN0",
        "outputId": "2423a120-0cbc-4a1f-ccdd-2b64a2bc17cf"
      },
      "source": [
        "twitter_score"
      ],
      "execution_count": 39,
      "outputs": [
        {
          "output_type": "execute_result",
          "data": {
            "text/plain": [
              "              very_pos  very_neg\n",
              "airline                         \n",
              "americanair        118        31\n",
              "delta              116        55\n",
              "jetblue             10         2\n",
              "southwestair       122        34\n",
              "united             116        99"
            ],
            "text/html": [
              "\n",
              "  <div id=\"df-5be80cc1-ed73-4090-ac3d-6b8026276809\">\n",
              "    <div class=\"colab-df-container\">\n",
              "      <div>\n",
              "<style scoped>\n",
              "    .dataframe tbody tr th:only-of-type {\n",
              "        vertical-align: middle;\n",
              "    }\n",
              "\n",
              "    .dataframe tbody tr th {\n",
              "        vertical-align: top;\n",
              "    }\n",
              "\n",
              "    .dataframe thead th {\n",
              "        text-align: right;\n",
              "    }\n",
              "</style>\n",
              "<table border=\"1\" class=\"dataframe\">\n",
              "  <thead>\n",
              "    <tr style=\"text-align: right;\">\n",
              "      <th></th>\n",
              "      <th>very_pos</th>\n",
              "      <th>very_neg</th>\n",
              "    </tr>\n",
              "    <tr>\n",
              "      <th>airline</th>\n",
              "      <th></th>\n",
              "      <th></th>\n",
              "    </tr>\n",
              "  </thead>\n",
              "  <tbody>\n",
              "    <tr>\n",
              "      <th>americanair</th>\n",
              "      <td>118</td>\n",
              "      <td>31</td>\n",
              "    </tr>\n",
              "    <tr>\n",
              "      <th>delta</th>\n",
              "      <td>116</td>\n",
              "      <td>55</td>\n",
              "    </tr>\n",
              "    <tr>\n",
              "      <th>jetblue</th>\n",
              "      <td>10</td>\n",
              "      <td>2</td>\n",
              "    </tr>\n",
              "    <tr>\n",
              "      <th>southwestair</th>\n",
              "      <td>122</td>\n",
              "      <td>34</td>\n",
              "    </tr>\n",
              "    <tr>\n",
              "      <th>united</th>\n",
              "      <td>116</td>\n",
              "      <td>99</td>\n",
              "    </tr>\n",
              "  </tbody>\n",
              "</table>\n",
              "</div>\n",
              "      <button class=\"colab-df-convert\" onclick=\"convertToInteractive('df-5be80cc1-ed73-4090-ac3d-6b8026276809')\"\n",
              "              title=\"Convert this dataframe to an interactive table.\"\n",
              "              style=\"display:none;\">\n",
              "        \n",
              "  <svg xmlns=\"http://www.w3.org/2000/svg\" height=\"24px\"viewBox=\"0 0 24 24\"\n",
              "       width=\"24px\">\n",
              "    <path d=\"M0 0h24v24H0V0z\" fill=\"none\"/>\n",
              "    <path d=\"M18.56 5.44l.94 2.06.94-2.06 2.06-.94-2.06-.94-.94-2.06-.94 2.06-2.06.94zm-11 1L8.5 8.5l.94-2.06 2.06-.94-2.06-.94L8.5 2.5l-.94 2.06-2.06.94zm10 10l.94 2.06.94-2.06 2.06-.94-2.06-.94-.94-2.06-.94 2.06-2.06.94z\"/><path d=\"M17.41 7.96l-1.37-1.37c-.4-.4-.92-.59-1.43-.59-.52 0-1.04.2-1.43.59L10.3 9.45l-7.72 7.72c-.78.78-.78 2.05 0 2.83L4 21.41c.39.39.9.59 1.41.59.51 0 1.02-.2 1.41-.59l7.78-7.78 2.81-2.81c.8-.78.8-2.07 0-2.86zM5.41 20L4 18.59l7.72-7.72 1.47 1.35L5.41 20z\"/>\n",
              "  </svg>\n",
              "      </button>\n",
              "      \n",
              "  <style>\n",
              "    .colab-df-container {\n",
              "      display:flex;\n",
              "      flex-wrap:wrap;\n",
              "      gap: 12px;\n",
              "    }\n",
              "\n",
              "    .colab-df-convert {\n",
              "      background-color: #E8F0FE;\n",
              "      border: none;\n",
              "      border-radius: 50%;\n",
              "      cursor: pointer;\n",
              "      display: none;\n",
              "      fill: #1967D2;\n",
              "      height: 32px;\n",
              "      padding: 0 0 0 0;\n",
              "      width: 32px;\n",
              "    }\n",
              "\n",
              "    .colab-df-convert:hover {\n",
              "      background-color: #E2EBFA;\n",
              "      box-shadow: 0px 1px 2px rgba(60, 64, 67, 0.3), 0px 1px 3px 1px rgba(60, 64, 67, 0.15);\n",
              "      fill: #174EA6;\n",
              "    }\n",
              "\n",
              "    [theme=dark] .colab-df-convert {\n",
              "      background-color: #3B4455;\n",
              "      fill: #D2E3FC;\n",
              "    }\n",
              "\n",
              "    [theme=dark] .colab-df-convert:hover {\n",
              "      background-color: #434B5C;\n",
              "      box-shadow: 0px 1px 3px 1px rgba(0, 0, 0, 0.15);\n",
              "      filter: drop-shadow(0px 1px 2px rgba(0, 0, 0, 0.3));\n",
              "      fill: #FFFFFF;\n",
              "    }\n",
              "  </style>\n",
              "\n",
              "      <script>\n",
              "        const buttonEl =\n",
              "          document.querySelector('#df-5be80cc1-ed73-4090-ac3d-6b8026276809 button.colab-df-convert');\n",
              "        buttonEl.style.display =\n",
              "          google.colab.kernel.accessAllowed ? 'block' : 'none';\n",
              "\n",
              "        async function convertToInteractive(key) {\n",
              "          const element = document.querySelector('#df-5be80cc1-ed73-4090-ac3d-6b8026276809');\n",
              "          const dataTable =\n",
              "            await google.colab.kernel.invokeFunction('convertToInteractive',\n",
              "                                                     [key], {});\n",
              "          if (!dataTable) return;\n",
              "\n",
              "          const docLinkHtml = 'Like what you see? Visit the ' +\n",
              "            '<a target=\"_blank\" href=https://colab.research.google.com/notebooks/data_table.ipynb>data table notebook</a>'\n",
              "            + ' to learn more about interactive tables.';\n",
              "          element.innerHTML = '';\n",
              "          dataTable['output_type'] = 'display_data';\n",
              "          await google.colab.output.renderOutput(dataTable, element);\n",
              "          const docLink = document.createElement('div');\n",
              "          docLink.innerHTML = docLinkHtml;\n",
              "          element.appendChild(docLink);\n",
              "        }\n",
              "      </script>\n",
              "    </div>\n",
              "  </div>\n",
              "  "
            ]
          },
          "metadata": {},
          "execution_count": 39
        }
      ]
    },
    {
      "cell_type": "markdown",
      "metadata": {
        "id": "In3HBOxx9IN2"
      },
      "source": [
        "`airline` is now the _index_ of the frame: values of the index identify each row (much like a primary key in a database)"
      ]
    },
    {
      "cell_type": "markdown",
      "metadata": {
        "id": "TQLL_qnb9IN2"
      },
      "source": [
        "For every company, we compute the sum of very positive and very negative tweets..."
      ]
    },
    {
      "cell_type": "code",
      "metadata": {
        "id": "c8cE82zg9IN2"
      },
      "source": [
        "twitter_score[\"all_count\"] = twitter_score.very_pos + twitter_score.very_neg"
      ],
      "execution_count": 40,
      "outputs": []
    },
    {
      "cell_type": "markdown",
      "metadata": {
        "id": "ZFcIG4YN9IN4"
      },
      "source": [
        "...then we compute a \"global sentiment score\" as the percentage between the count of positive tweets and the total count of tweets above"
      ]
    },
    {
      "cell_type": "code",
      "metadata": {
        "id": "1UwlgKs19IN5"
      },
      "source": [
        "twitter_score[\"score\"] = 100 * twitter_score.very_pos / twitter_score.all_count"
      ],
      "execution_count": 41,
      "outputs": []
    },
    {
      "cell_type": "markdown",
      "metadata": {
        "id": "QNz_-VSt9IN7"
      },
      "source": [
        "Let's now list the companies ranked by their score"
      ]
    },
    {
      "cell_type": "code",
      "metadata": {
        "colab": {
          "base_uri": "https://localhost:8080/",
          "height": 263
        },
        "id": "KlEyMUuX9IN7",
        "outputId": "2ae25095-1874-4d76-e273-e93aa124fa73"
      },
      "source": [
        "twitter_score.sort_values(\"score\", ascending=False)"
      ],
      "execution_count": 42,
      "outputs": [
        {
          "output_type": "execute_result",
          "data": {
            "text/plain": [
              "              very_pos  very_neg  all_count   score\n",
              "airline                                            \n",
              "jetblue             10         2         12  83.333\n",
              "americanair        118        31        149  79.195\n",
              "southwestair       122        34        156  78.205\n",
              "delta              116        55        171  67.836\n",
              "united             116        99        215  53.953"
            ],
            "text/html": [
              "\n",
              "  <div id=\"df-8f4f9a29-7fec-45b9-bc4b-3d0821b67ee0\">\n",
              "    <div class=\"colab-df-container\">\n",
              "      <div>\n",
              "<style scoped>\n",
              "    .dataframe tbody tr th:only-of-type {\n",
              "        vertical-align: middle;\n",
              "    }\n",
              "\n",
              "    .dataframe tbody tr th {\n",
              "        vertical-align: top;\n",
              "    }\n",
              "\n",
              "    .dataframe thead th {\n",
              "        text-align: right;\n",
              "    }\n",
              "</style>\n",
              "<table border=\"1\" class=\"dataframe\">\n",
              "  <thead>\n",
              "    <tr style=\"text-align: right;\">\n",
              "      <th></th>\n",
              "      <th>very_pos</th>\n",
              "      <th>very_neg</th>\n",
              "      <th>all_count</th>\n",
              "      <th>score</th>\n",
              "    </tr>\n",
              "    <tr>\n",
              "      <th>airline</th>\n",
              "      <th></th>\n",
              "      <th></th>\n",
              "      <th></th>\n",
              "      <th></th>\n",
              "    </tr>\n",
              "  </thead>\n",
              "  <tbody>\n",
              "    <tr>\n",
              "      <th>jetblue</th>\n",
              "      <td>10</td>\n",
              "      <td>2</td>\n",
              "      <td>12</td>\n",
              "      <td>83.333</td>\n",
              "    </tr>\n",
              "    <tr>\n",
              "      <th>americanair</th>\n",
              "      <td>118</td>\n",
              "      <td>31</td>\n",
              "      <td>149</td>\n",
              "      <td>79.195</td>\n",
              "    </tr>\n",
              "    <tr>\n",
              "      <th>southwestair</th>\n",
              "      <td>122</td>\n",
              "      <td>34</td>\n",
              "      <td>156</td>\n",
              "      <td>78.205</td>\n",
              "    </tr>\n",
              "    <tr>\n",
              "      <th>delta</th>\n",
              "      <td>116</td>\n",
              "      <td>55</td>\n",
              "      <td>171</td>\n",
              "      <td>67.836</td>\n",
              "    </tr>\n",
              "    <tr>\n",
              "      <th>united</th>\n",
              "      <td>116</td>\n",
              "      <td>99</td>\n",
              "      <td>215</td>\n",
              "      <td>53.953</td>\n",
              "    </tr>\n",
              "  </tbody>\n",
              "</table>\n",
              "</div>\n",
              "      <button class=\"colab-df-convert\" onclick=\"convertToInteractive('df-8f4f9a29-7fec-45b9-bc4b-3d0821b67ee0')\"\n",
              "              title=\"Convert this dataframe to an interactive table.\"\n",
              "              style=\"display:none;\">\n",
              "        \n",
              "  <svg xmlns=\"http://www.w3.org/2000/svg\" height=\"24px\"viewBox=\"0 0 24 24\"\n",
              "       width=\"24px\">\n",
              "    <path d=\"M0 0h24v24H0V0z\" fill=\"none\"/>\n",
              "    <path d=\"M18.56 5.44l.94 2.06.94-2.06 2.06-.94-2.06-.94-.94-2.06-.94 2.06-2.06.94zm-11 1L8.5 8.5l.94-2.06 2.06-.94-2.06-.94L8.5 2.5l-.94 2.06-2.06.94zm10 10l.94 2.06.94-2.06 2.06-.94-2.06-.94-.94-2.06-.94 2.06-2.06.94z\"/><path d=\"M17.41 7.96l-1.37-1.37c-.4-.4-.92-.59-1.43-.59-.52 0-1.04.2-1.43.59L10.3 9.45l-7.72 7.72c-.78.78-.78 2.05 0 2.83L4 21.41c.39.39.9.59 1.41.59.51 0 1.02-.2 1.41-.59l7.78-7.78 2.81-2.81c.8-.78.8-2.07 0-2.86zM5.41 20L4 18.59l7.72-7.72 1.47 1.35L5.41 20z\"/>\n",
              "  </svg>\n",
              "      </button>\n",
              "      \n",
              "  <style>\n",
              "    .colab-df-container {\n",
              "      display:flex;\n",
              "      flex-wrap:wrap;\n",
              "      gap: 12px;\n",
              "    }\n",
              "\n",
              "    .colab-df-convert {\n",
              "      background-color: #E8F0FE;\n",
              "      border: none;\n",
              "      border-radius: 50%;\n",
              "      cursor: pointer;\n",
              "      display: none;\n",
              "      fill: #1967D2;\n",
              "      height: 32px;\n",
              "      padding: 0 0 0 0;\n",
              "      width: 32px;\n",
              "    }\n",
              "\n",
              "    .colab-df-convert:hover {\n",
              "      background-color: #E2EBFA;\n",
              "      box-shadow: 0px 1px 2px rgba(60, 64, 67, 0.3), 0px 1px 3px 1px rgba(60, 64, 67, 0.15);\n",
              "      fill: #174EA6;\n",
              "    }\n",
              "\n",
              "    [theme=dark] .colab-df-convert {\n",
              "      background-color: #3B4455;\n",
              "      fill: #D2E3FC;\n",
              "    }\n",
              "\n",
              "    [theme=dark] .colab-df-convert:hover {\n",
              "      background-color: #434B5C;\n",
              "      box-shadow: 0px 1px 3px 1px rgba(0, 0, 0, 0.15);\n",
              "      filter: drop-shadow(0px 1px 2px rgba(0, 0, 0, 0.3));\n",
              "      fill: #FFFFFF;\n",
              "    }\n",
              "  </style>\n",
              "\n",
              "      <script>\n",
              "        const buttonEl =\n",
              "          document.querySelector('#df-8f4f9a29-7fec-45b9-bc4b-3d0821b67ee0 button.colab-df-convert');\n",
              "        buttonEl.style.display =\n",
              "          google.colab.kernel.accessAllowed ? 'block' : 'none';\n",
              "\n",
              "        async function convertToInteractive(key) {\n",
              "          const element = document.querySelector('#df-8f4f9a29-7fec-45b9-bc4b-3d0821b67ee0');\n",
              "          const dataTable =\n",
              "            await google.colab.kernel.invokeFunction('convertToInteractive',\n",
              "                                                     [key], {});\n",
              "          if (!dataTable) return;\n",
              "\n",
              "          const docLinkHtml = 'Like what you see? Visit the ' +\n",
              "            '<a target=\"_blank\" href=https://colab.research.google.com/notebooks/data_table.ipynb>data table notebook</a>'\n",
              "            + ' to learn more about interactive tables.';\n",
              "          element.innerHTML = '';\n",
              "          dataTable['output_type'] = 'display_data';\n",
              "          await google.colab.output.renderOutput(dataTable, element);\n",
              "          const docLink = document.createElement('div');\n",
              "          docLink.innerHTML = docLinkHtml;\n",
              "          element.appendChild(docLink);\n",
              "        }\n",
              "      </script>\n",
              "    </div>\n",
              "  </div>\n",
              "  "
            ]
          },
          "metadata": {},
          "execution_count": 42
        }
      ]
    },
    {
      "cell_type": "markdown",
      "metadata": {
        "id": "pav5BKXF9IN8"
      },
      "source": [
        "To simplify subsequent tests, we create a function which, given a series of scores for tweets, executes the steps above to extract summary scores for each airline"
      ]
    },
    {
      "cell_type": "code",
      "metadata": {
        "id": "VNj8OLsF9IN8"
      },
      "source": [
        "def get_summary_scores(tweet_scores):\n",
        "    very_pos_tweets = tweet_scores >= 2\n",
        "    very_neg_tweets = tweet_scores <= -2\n",
        "    very_pos = very_pos_tweets.groupby(tweets[\"airline\"]).sum()\n",
        "    very_neg = very_neg_tweets.groupby(tweets[\"airline\"]).sum()\n",
        "    total = very_pos + very_neg\n",
        "    return 100 * (very_pos / total)"
      ],
      "execution_count": 43,
      "outputs": []
    },
    {
      "cell_type": "markdown",
      "metadata": {
        "id": "7Img7WOX9IN-"
      },
      "source": [
        "### Comparing results with known customer satisfaction\n",
        "\n",
        "We can extract known information about the general satisfaction of airline companies from the ACSI (_American Customer Satisfaction Index_) website\n",
        "\n",
        "A table of the satisfaction index by year about airline companies is available at http://www.theacsi.org/index.php?option=com_content&view=article&id=147&catid=&Itemid=212&i=Airlines\n",
        "\n",
        "We can import such data and use it to validate the satisfaction score extracted from Twitter"
      ]
    },
    {
      "cell_type": "markdown",
      "metadata": {
        "id": "gWYVF1x09IN-"
      },
      "source": [
        "pandas provides the `read_html` function to get DataFrames by scraping tables from a Web page (the `lxml` and `BeautifulSoup4` packages must be installed)"
      ]
    },
    {
      "cell_type": "code",
      "metadata": {
        "id": "PzQcr8ci9IN-"
      },
      "source": [
        "import ssl\n",
        "# it overrides the default function for context creation with the function to create an unverified context\n",
        "ssl._create_default_https_context = ssl._create_unverified_context\n",
        "\n",
        "# acsi_table = pd.read_html(\n",
        "#    \"https://web.archive.org/web/20200203093734/https://www.theacsi.org/index.php?option=com_content&view=article&id=147&catid=&Itemid=212&i=Airlines\",\n",
        "#    header=0, index_col=0)[0]\n",
        "\n",
        "acsi_table = pd.read_html(\"https://www.dropbox.com/s/xgkqtcd9bu6jres/acsi_arlines.html?raw=1\",\n",
        "    header=0, index_col=0)[0]"
      ],
      "execution_count": 169,
      "outputs": []
    },
    {
      "cell_type": "code",
      "metadata": {
        "colab": {
          "base_uri": "https://localhost:8080/",
          "height": 403
        },
        "id": "_-CPi6_M9IOA",
        "outputId": "9e723f7b-383a-478b-9ba1-d41a24e47d43"
      },
      "source": [
        "acsi_table.iloc[:10,-5:] "
      ],
      "execution_count": 170,
      "outputs": [
        {
          "output_type": "execute_result",
          "data": {
            "text/plain": [
              "            15    16    17    18  PreviousYear%Change\n",
              "Southwest   78  80.0  80.0  80.0                  0.0\n",
              "Alaska      75  77.0  78.0  79.0                  1.3\n",
              "JetBlue     81  80.0  82.0  79.0                 -3.7\n",
              "American    66  72.0  76.0  74.0                 -2.6\n",
              "Allegiant   65  65.0  71.0  74.0                  4.2\n",
              "Delta       71  71.0  76.0  74.0                 -2.6\n",
              "Airlines    69  72.0  75.0  73.0                 -2.7\n",
              "All Others  73  74.0  74.0  73.0                 -1.4\n",
              "United      60  68.0  70.0  67.0                 -4.3\n",
              "Frontier    58  66.0  63.0  62.0                 -1.6"
            ],
            "text/html": [
              "\n",
              "  <div id=\"df-57e36085-9c66-4a15-90be-bbebbe2016be\">\n",
              "    <div class=\"colab-df-container\">\n",
              "      <div>\n",
              "<style scoped>\n",
              "    .dataframe tbody tr th:only-of-type {\n",
              "        vertical-align: middle;\n",
              "    }\n",
              "\n",
              "    .dataframe tbody tr th {\n",
              "        vertical-align: top;\n",
              "    }\n",
              "\n",
              "    .dataframe thead th {\n",
              "        text-align: right;\n",
              "    }\n",
              "</style>\n",
              "<table border=\"1\" class=\"dataframe\">\n",
              "  <thead>\n",
              "    <tr style=\"text-align: right;\">\n",
              "      <th></th>\n",
              "      <th>15</th>\n",
              "      <th>16</th>\n",
              "      <th>17</th>\n",
              "      <th>18</th>\n",
              "      <th>PreviousYear%Change</th>\n",
              "    </tr>\n",
              "  </thead>\n",
              "  <tbody>\n",
              "    <tr>\n",
              "      <th>Southwest</th>\n",
              "      <td>78</td>\n",
              "      <td>80.0</td>\n",
              "      <td>80.0</td>\n",
              "      <td>80.0</td>\n",
              "      <td>0.0</td>\n",
              "    </tr>\n",
              "    <tr>\n",
              "      <th>Alaska</th>\n",
              "      <td>75</td>\n",
              "      <td>77.0</td>\n",
              "      <td>78.0</td>\n",
              "      <td>79.0</td>\n",
              "      <td>1.3</td>\n",
              "    </tr>\n",
              "    <tr>\n",
              "      <th>JetBlue</th>\n",
              "      <td>81</td>\n",
              "      <td>80.0</td>\n",
              "      <td>82.0</td>\n",
              "      <td>79.0</td>\n",
              "      <td>-3.7</td>\n",
              "    </tr>\n",
              "    <tr>\n",
              "      <th>American</th>\n",
              "      <td>66</td>\n",
              "      <td>72.0</td>\n",
              "      <td>76.0</td>\n",
              "      <td>74.0</td>\n",
              "      <td>-2.6</td>\n",
              "    </tr>\n",
              "    <tr>\n",
              "      <th>Allegiant</th>\n",
              "      <td>65</td>\n",
              "      <td>65.0</td>\n",
              "      <td>71.0</td>\n",
              "      <td>74.0</td>\n",
              "      <td>4.2</td>\n",
              "    </tr>\n",
              "    <tr>\n",
              "      <th>Delta</th>\n",
              "      <td>71</td>\n",
              "      <td>71.0</td>\n",
              "      <td>76.0</td>\n",
              "      <td>74.0</td>\n",
              "      <td>-2.6</td>\n",
              "    </tr>\n",
              "    <tr>\n",
              "      <th>Airlines</th>\n",
              "      <td>69</td>\n",
              "      <td>72.0</td>\n",
              "      <td>75.0</td>\n",
              "      <td>73.0</td>\n",
              "      <td>-2.7</td>\n",
              "    </tr>\n",
              "    <tr>\n",
              "      <th>All Others</th>\n",
              "      <td>73</td>\n",
              "      <td>74.0</td>\n",
              "      <td>74.0</td>\n",
              "      <td>73.0</td>\n",
              "      <td>-1.4</td>\n",
              "    </tr>\n",
              "    <tr>\n",
              "      <th>United</th>\n",
              "      <td>60</td>\n",
              "      <td>68.0</td>\n",
              "      <td>70.0</td>\n",
              "      <td>67.0</td>\n",
              "      <td>-4.3</td>\n",
              "    </tr>\n",
              "    <tr>\n",
              "      <th>Frontier</th>\n",
              "      <td>58</td>\n",
              "      <td>66.0</td>\n",
              "      <td>63.0</td>\n",
              "      <td>62.0</td>\n",
              "      <td>-1.6</td>\n",
              "    </tr>\n",
              "  </tbody>\n",
              "</table>\n",
              "</div>\n",
              "      <button class=\"colab-df-convert\" onclick=\"convertToInteractive('df-57e36085-9c66-4a15-90be-bbebbe2016be')\"\n",
              "              title=\"Convert this dataframe to an interactive table.\"\n",
              "              style=\"display:none;\">\n",
              "        \n",
              "  <svg xmlns=\"http://www.w3.org/2000/svg\" height=\"24px\"viewBox=\"0 0 24 24\"\n",
              "       width=\"24px\">\n",
              "    <path d=\"M0 0h24v24H0V0z\" fill=\"none\"/>\n",
              "    <path d=\"M18.56 5.44l.94 2.06.94-2.06 2.06-.94-2.06-.94-.94-2.06-.94 2.06-2.06.94zm-11 1L8.5 8.5l.94-2.06 2.06-.94-2.06-.94L8.5 2.5l-.94 2.06-2.06.94zm10 10l.94 2.06.94-2.06 2.06-.94-2.06-.94-.94-2.06-.94 2.06-2.06.94z\"/><path d=\"M17.41 7.96l-1.37-1.37c-.4-.4-.92-.59-1.43-.59-.52 0-1.04.2-1.43.59L10.3 9.45l-7.72 7.72c-.78.78-.78 2.05 0 2.83L4 21.41c.39.39.9.59 1.41.59.51 0 1.02-.2 1.41-.59l7.78-7.78 2.81-2.81c.8-.78.8-2.07 0-2.86zM5.41 20L4 18.59l7.72-7.72 1.47 1.35L5.41 20z\"/>\n",
              "  </svg>\n",
              "      </button>\n",
              "      \n",
              "  <style>\n",
              "    .colab-df-container {\n",
              "      display:flex;\n",
              "      flex-wrap:wrap;\n",
              "      gap: 12px;\n",
              "    }\n",
              "\n",
              "    .colab-df-convert {\n",
              "      background-color: #E8F0FE;\n",
              "      border: none;\n",
              "      border-radius: 50%;\n",
              "      cursor: pointer;\n",
              "      display: none;\n",
              "      fill: #1967D2;\n",
              "      height: 32px;\n",
              "      padding: 0 0 0 0;\n",
              "      width: 32px;\n",
              "    }\n",
              "\n",
              "    .colab-df-convert:hover {\n",
              "      background-color: #E2EBFA;\n",
              "      box-shadow: 0px 1px 2px rgba(60, 64, 67, 0.3), 0px 1px 3px 1px rgba(60, 64, 67, 0.15);\n",
              "      fill: #174EA6;\n",
              "    }\n",
              "\n",
              "    [theme=dark] .colab-df-convert {\n",
              "      background-color: #3B4455;\n",
              "      fill: #D2E3FC;\n",
              "    }\n",
              "\n",
              "    [theme=dark] .colab-df-convert:hover {\n",
              "      background-color: #434B5C;\n",
              "      box-shadow: 0px 1px 3px 1px rgba(0, 0, 0, 0.15);\n",
              "      filter: drop-shadow(0px 1px 2px rgba(0, 0, 0, 0.3));\n",
              "      fill: #FFFFFF;\n",
              "    }\n",
              "  </style>\n",
              "\n",
              "      <script>\n",
              "        const buttonEl =\n",
              "          document.querySelector('#df-57e36085-9c66-4a15-90be-bbebbe2016be button.colab-df-convert');\n",
              "        buttonEl.style.display =\n",
              "          google.colab.kernel.accessAllowed ? 'block' : 'none';\n",
              "\n",
              "        async function convertToInteractive(key) {\n",
              "          const element = document.querySelector('#df-57e36085-9c66-4a15-90be-bbebbe2016be');\n",
              "          const dataTable =\n",
              "            await google.colab.kernel.invokeFunction('convertToInteractive',\n",
              "                                                     [key], {});\n",
              "          if (!dataTable) return;\n",
              "\n",
              "          const docLinkHtml = 'Like what you see? Visit the ' +\n",
              "            '<a target=\"_blank\" href=https://colab.research.google.com/notebooks/data_table.ipynb>data table notebook</a>'\n",
              "            + ' to learn more about interactive tables.';\n",
              "          element.innerHTML = '';\n",
              "          dataTable['output_type'] = 'display_data';\n",
              "          await google.colab.output.renderOutput(dataTable, element);\n",
              "          const docLink = document.createElement('div');\n",
              "          docLink.innerHTML = docLinkHtml;\n",
              "          element.appendChild(docLink);\n",
              "        }\n",
              "      </script>\n",
              "    </div>\n",
              "  </div>\n",
              "  "
            ]
          },
          "metadata": {},
          "execution_count": 170
        }
      ]
    },
    {
      "cell_type": "markdown",
      "metadata": {
        "id": "-4mE8sbW9IOB"
      },
      "source": [
        "We select the column \"13\" for the year when tweets were extracted (use \"21\" in case you are analyzing current tweets) and the rows related to analyzed companies"
      ]
    },
    {
      "cell_type": "code",
      "metadata": {
        "id": "8jJfNKq39IOB"
      },
      "source": [
        "airline_names = [\"Southwest\", \"JetBlue\", \"American\", \"Delta\", \"United\"]\n",
        "acsi_score = acsi_table.loc[airline_names, \"13\"].astype(float).sort_index() # loc() function let us select only certain columns"
      ],
      "execution_count": 52,
      "outputs": []
    },
    {
      "cell_type": "code",
      "metadata": {
        "colab": {
          "base_uri": "https://localhost:8080/"
        },
        "id": "kkg7Ug9C9IOE",
        "outputId": "3f825dc4-bb4f-45cf-83ca-b272137438db"
      },
      "source": [
        "acsi_score"
      ],
      "execution_count": 53,
      "outputs": [
        {
          "output_type": "execute_result",
          "data": {
            "text/plain": [
              "American     65.0\n",
              "Delta        68.0\n",
              "JetBlue      83.0\n",
              "Southwest    81.0\n",
              "United       62.0\n",
              "Name: 13, dtype: float64"
            ]
          },
          "metadata": {},
          "execution_count": 53
        }
      ]
    },
    {
      "cell_type": "markdown",
      "metadata": {
        "id": "E5F0584r9IOF"
      },
      "source": [
        "In case you miss the required libraries, here are two alternative instructions to create the ACSI scores series without using the `read_html` function"
      ]
    },
    {
      "cell_type": "code",
      "metadata": {
        "id": "wroivXas9IOF"
      },
      "source": [
        "# 2021 (current_tweets)\n",
        "acsi_score = pd.Series(\n",
        "          [      79.0 ,     77.0 ,      75.0 ,   79.0 ,    75.0 ],\n",
        "    index=[\"Southwest\", \"JetBlue\", \"American\", \"Delta\", \"United\"]\n",
        ").sort_index()"
      ],
      "execution_count": 54,
      "outputs": []
    },
    {
      "cell_type": "code",
      "metadata": {
        "colab": {
          "base_uri": "https://localhost:8080/"
        },
        "id": "lpIwLxb39IOG",
        "outputId": "ca9a6787-ad59-47af-b71a-301fb34dbaf5"
      },
      "source": [
        "# 2013 (archive_tweets)\n",
        "acsi_score = pd.Series(\n",
        "          [      81.0 ,     83.0 ,      65.0 ,   68.0 ,    62.0 ],\n",
        "    index=[\"Southwest\", \"JetBlue\", \"American\", \"Delta\", \"United\"]\n",
        ").sort_index()\n",
        "\n",
        "acsi_score"
      ],
      "execution_count": 55,
      "outputs": [
        {
          "output_type": "execute_result",
          "data": {
            "text/plain": [
              "American     65.0\n",
              "Delta        68.0\n",
              "JetBlue      83.0\n",
              "Southwest    81.0\n",
              "United       62.0\n",
              "dtype: float64"
            ]
          },
          "metadata": {},
          "execution_count": 55
        }
      ]
    },
    {
      "cell_type": "markdown",
      "metadata": {
        "id": "iOIy6Cvd9IOH"
      },
      "source": [
        "We extracted a single column of the table along with the index containing company names: we change names in order to match the index from `twitter_scores`"
      ]
    },
    {
      "cell_type": "code",
      "metadata": {
        "id": "-B_8edSA9IOH"
      },
      "source": [
        "acsi_score.index = (acsi_score.index\n",
        "                    .str.lower()\n",
        "                    .str.replace(\"american\", \"americanair\")\n",
        "                    .str.replace(\"southwest\", \"southwestair\"))"
      ],
      "execution_count": 56,
      "outputs": []
    },
    {
      "cell_type": "code",
      "metadata": {
        "colab": {
          "base_uri": "https://localhost:8080/"
        },
        "id": "rJTUitHH9IOI",
        "outputId": "5a76ace3-1b95-48b8-8471-bee611ab97bf"
      },
      "source": [
        "acsi_score"
      ],
      "execution_count": 57,
      "outputs": [
        {
          "output_type": "execute_result",
          "data": {
            "text/plain": [
              "americanair     65.0\n",
              "delta           68.0\n",
              "jetblue         83.0\n",
              "southwestair    81.0\n",
              "united          62.0\n",
              "dtype: float64"
            ]
          },
          "metadata": {},
          "execution_count": 57
        }
      ]
    },
    {
      "cell_type": "markdown",
      "metadata": {
        "id": "dDcu3Kfx9IOJ"
      },
      "source": [
        "We have now the `acsi_score` series and the `score` column of the `twitter_score` frame indexed with the same labels, but in different order: we can merge them into a new frame to align the series"
      ]
    },
    {
      "cell_type": "code",
      "metadata": {
        "colab": {
          "base_uri": "https://localhost:8080/",
          "height": 228
        },
        "id": "hhtsXGno9IOJ",
        "outputId": "c70bf993-aea0-49dc-95d5-a12c715057ad"
      },
      "source": [
        "pd.DataFrame({\"twitter\": twitter_score[\"score\"], \"acsi\": acsi_score})"
      ],
      "execution_count": 58,
      "outputs": [
        {
          "output_type": "execute_result",
          "data": {
            "text/plain": [
              "              twitter  acsi\n",
              "americanair    79.195  65.0\n",
              "delta          67.836  68.0\n",
              "jetblue        83.333  83.0\n",
              "southwestair   78.205  81.0\n",
              "united         53.953  62.0"
            ],
            "text/html": [
              "\n",
              "  <div id=\"df-973be6f9-0ec9-42b4-8a0a-3900ea5cc60a\">\n",
              "    <div class=\"colab-df-container\">\n",
              "      <div>\n",
              "<style scoped>\n",
              "    .dataframe tbody tr th:only-of-type {\n",
              "        vertical-align: middle;\n",
              "    }\n",
              "\n",
              "    .dataframe tbody tr th {\n",
              "        vertical-align: top;\n",
              "    }\n",
              "\n",
              "    .dataframe thead th {\n",
              "        text-align: right;\n",
              "    }\n",
              "</style>\n",
              "<table border=\"1\" class=\"dataframe\">\n",
              "  <thead>\n",
              "    <tr style=\"text-align: right;\">\n",
              "      <th></th>\n",
              "      <th>twitter</th>\n",
              "      <th>acsi</th>\n",
              "    </tr>\n",
              "  </thead>\n",
              "  <tbody>\n",
              "    <tr>\n",
              "      <th>americanair</th>\n",
              "      <td>79.195</td>\n",
              "      <td>65.0</td>\n",
              "    </tr>\n",
              "    <tr>\n",
              "      <th>delta</th>\n",
              "      <td>67.836</td>\n",
              "      <td>68.0</td>\n",
              "    </tr>\n",
              "    <tr>\n",
              "      <th>jetblue</th>\n",
              "      <td>83.333</td>\n",
              "      <td>83.0</td>\n",
              "    </tr>\n",
              "    <tr>\n",
              "      <th>southwestair</th>\n",
              "      <td>78.205</td>\n",
              "      <td>81.0</td>\n",
              "    </tr>\n",
              "    <tr>\n",
              "      <th>united</th>\n",
              "      <td>53.953</td>\n",
              "      <td>62.0</td>\n",
              "    </tr>\n",
              "  </tbody>\n",
              "</table>\n",
              "</div>\n",
              "      <button class=\"colab-df-convert\" onclick=\"convertToInteractive('df-973be6f9-0ec9-42b4-8a0a-3900ea5cc60a')\"\n",
              "              title=\"Convert this dataframe to an interactive table.\"\n",
              "              style=\"display:none;\">\n",
              "        \n",
              "  <svg xmlns=\"http://www.w3.org/2000/svg\" height=\"24px\"viewBox=\"0 0 24 24\"\n",
              "       width=\"24px\">\n",
              "    <path d=\"M0 0h24v24H0V0z\" fill=\"none\"/>\n",
              "    <path d=\"M18.56 5.44l.94 2.06.94-2.06 2.06-.94-2.06-.94-.94-2.06-.94 2.06-2.06.94zm-11 1L8.5 8.5l.94-2.06 2.06-.94-2.06-.94L8.5 2.5l-.94 2.06-2.06.94zm10 10l.94 2.06.94-2.06 2.06-.94-2.06-.94-.94-2.06-.94 2.06-2.06.94z\"/><path d=\"M17.41 7.96l-1.37-1.37c-.4-.4-.92-.59-1.43-.59-.52 0-1.04.2-1.43.59L10.3 9.45l-7.72 7.72c-.78.78-.78 2.05 0 2.83L4 21.41c.39.39.9.59 1.41.59.51 0 1.02-.2 1.41-.59l7.78-7.78 2.81-2.81c.8-.78.8-2.07 0-2.86zM5.41 20L4 18.59l7.72-7.72 1.47 1.35L5.41 20z\"/>\n",
              "  </svg>\n",
              "      </button>\n",
              "      \n",
              "  <style>\n",
              "    .colab-df-container {\n",
              "      display:flex;\n",
              "      flex-wrap:wrap;\n",
              "      gap: 12px;\n",
              "    }\n",
              "\n",
              "    .colab-df-convert {\n",
              "      background-color: #E8F0FE;\n",
              "      border: none;\n",
              "      border-radius: 50%;\n",
              "      cursor: pointer;\n",
              "      display: none;\n",
              "      fill: #1967D2;\n",
              "      height: 32px;\n",
              "      padding: 0 0 0 0;\n",
              "      width: 32px;\n",
              "    }\n",
              "\n",
              "    .colab-df-convert:hover {\n",
              "      background-color: #E2EBFA;\n",
              "      box-shadow: 0px 1px 2px rgba(60, 64, 67, 0.3), 0px 1px 3px 1px rgba(60, 64, 67, 0.15);\n",
              "      fill: #174EA6;\n",
              "    }\n",
              "\n",
              "    [theme=dark] .colab-df-convert {\n",
              "      background-color: #3B4455;\n",
              "      fill: #D2E3FC;\n",
              "    }\n",
              "\n",
              "    [theme=dark] .colab-df-convert:hover {\n",
              "      background-color: #434B5C;\n",
              "      box-shadow: 0px 1px 3px 1px rgba(0, 0, 0, 0.15);\n",
              "      filter: drop-shadow(0px 1px 2px rgba(0, 0, 0, 0.3));\n",
              "      fill: #FFFFFF;\n",
              "    }\n",
              "  </style>\n",
              "\n",
              "      <script>\n",
              "        const buttonEl =\n",
              "          document.querySelector('#df-973be6f9-0ec9-42b4-8a0a-3900ea5cc60a button.colab-df-convert');\n",
              "        buttonEl.style.display =\n",
              "          google.colab.kernel.accessAllowed ? 'block' : 'none';\n",
              "\n",
              "        async function convertToInteractive(key) {\n",
              "          const element = document.querySelector('#df-973be6f9-0ec9-42b4-8a0a-3900ea5cc60a');\n",
              "          const dataTable =\n",
              "            await google.colab.kernel.invokeFunction('convertToInteractive',\n",
              "                                                     [key], {});\n",
              "          if (!dataTable) return;\n",
              "\n",
              "          const docLinkHtml = 'Like what you see? Visit the ' +\n",
              "            '<a target=\"_blank\" href=https://colab.research.google.com/notebooks/data_table.ipynb>data table notebook</a>'\n",
              "            + ' to learn more about interactive tables.';\n",
              "          element.innerHTML = '';\n",
              "          dataTable['output_type'] = 'display_data';\n",
              "          await google.colab.output.renderOutput(dataTable, element);\n",
              "          const docLink = document.createElement('div');\n",
              "          docLink.innerHTML = docLinkHtml;\n",
              "          element.appendChild(docLink);\n",
              "        }\n",
              "      </script>\n",
              "    </div>\n",
              "  </div>\n",
              "  "
            ]
          },
          "metadata": {},
          "execution_count": 58
        }
      ]
    },
    {
      "cell_type": "markdown",
      "metadata": {
        "id": "eZhczxte9IOK"
      },
      "source": [
        "We can now evaluate the degree of agreement between the two scores: we may do it graphically using a _scatter plot_..."
      ]
    },
    {
      "cell_type": "code",
      "metadata": {
        "colab": {
          "base_uri": "https://localhost:8080/",
          "height": 279
        },
        "id": "pFLxT67U9IOK",
        "outputId": "38f4fc36-dd0f-4fc5-e099-36c559f795ac"
      },
      "source": [
        "plt.scatter(twitter_score[\"score\"], acsi_score, s=50) # plt.scatter() function is used to plot points. 's' parameters can be use to set the point dimension\n",
        "plt.plot([50, 100], [50, 100], \"r--\")  # plot a x=y segment. First two parameters represents the coordinates of the segment, while the third one let us draw red dashes\n",
        "plt.xlabel(\"Twitter score\")\n",
        "plt.ylabel(\"ACSI score\");"
      ],
      "execution_count": 59,
      "outputs": [
        {
          "output_type": "display_data",
          "data": {
            "text/plain": [
              "<Figure size 432x288 with 1 Axes>"
            ],
            "image/png": "[encoded data removed]"
          },
          "metadata": {
            "needs_background": "light"
          }
        }
      ]
    },
    {
      "cell_type": "markdown",
      "metadata": {
        "id": "DL-_tWRJ9IOL"
      },
      "source": [
        "Each point indicates the scores of a company, the dashed line indicates where scores match: the most the points are close to the line, the most the scores agree"
      ]
    },
    {
      "cell_type": "markdown",
      "metadata": {
        "id": "ZJ8Q-miJ9IOM"
      },
      "source": [
        "To properly verify the agreement of the two scores, we measure the _Pearson's correlation coefficient_"
      ]
    },
    {
      "cell_type": "code",
      "metadata": {
        "colab": {
          "base_uri": "https://localhost:8080/"
        },
        "id": "7fLMeuQd9IOM",
        "outputId": "73398d95-86ae-4650-97f6-a24924f0e5ac"
      },
      "source": [
        "from scipy.stats import pearsonr\n",
        "pearson_coeff, pvalue = pearsonr(twitter_score[\"score\"], acsi_score)\n",
        "pearson_coeff, pvalue"
      ],
      "execution_count": 60,
      "outputs": [
        {
          "output_type": "execute_result",
          "data": {
            "text/plain": [
              "(0.722923515861678, 0.16761172800845608)"
            ]
          },
          "metadata": {},
          "execution_count": 60
        }
      ]
    },
    {
      "cell_type": "markdown",
      "metadata": {
        "id": "igRoHtv-9ION"
      },
      "source": [
        "The first value is the Pearson's coefficient, while the second value is the associated p-value, i.e. the probability that the correlation between the two series was obtained by chance."
      ]
    },
    {
      "cell_type": "markdown",
      "metadata": {
        "id": "p1wEVYlPl1Wh"
      },
      "source": [
        "To decide if the two ACSI distributions and ours are equivalent it is necessary\n",
        "1. set a confidence level, for example $0.80$\n",
        "2. check if $pvalue < (1-0.80) = 0.20$; \n",
        "\n",
        "\n",
        "In this case pvalue is $< 0.20$ so we decide that the difference between the two distributions is the result of chance, i.e. the difference is not statistically significant, in other words they are equivalent."
      ]
    },
    {
      "cell_type": "code",
      "metadata": {
        "colab": {
          "base_uri": "https://localhost:8080/"
        },
        "id": "Ps1-Zgh-lkMw",
        "outputId": "415ffca8-749e-4749-ab1b-585eee106997"
      },
      "source": [
        "confidence_level = 0.80\n",
        "alpha = (1 - confidence_level)\n",
        "\n",
        "if pvalue < alpha:\n",
        "  print(\"Our distribution and ACSI one are equivalent!\")\n",
        "else:\n",
        "  print(\"Our distribution and ACSI one are different!\")"
      ],
      "execution_count": 61,
      "outputs": [
        {
          "output_type": "stream",
          "name": "stdout",
          "text": [
            "Our distribution and ACSI one are equivalent!\n"
          ]
        }
      ]
    },
    {
      "cell_type": "markdown",
      "metadata": {
        "id": "_x0CVCda9ION"
      },
      "source": [
        "### Exercise 1: interpreting negations\n",
        "\n",
        "In the `sentiment_score` function, when we look for positive or negative words, we do not consider whether they are negated\n",
        "\n",
        "**A)** The `sentiment_score_neg` function below implements the same logic of `sentiment_score` so that it can be more easily changed: modify it in order to count any positive word immediately preceded by \"not\" (case-insensitive) as negative and vice versa"
      ]
    },
    {
      "cell_type": "code",
      "metadata": {
        "id": "7_ebKPt09IOP"
      },
      "source": [
        "def sentiment_score_neg(text, pos_words, neg_words):\n",
        "    words = nltk.word_tokenize(text)\n",
        "    score = 0\n",
        "    for i in range(len(words)):\n",
        "        word_score = 0\n",
        "        if words[i] in pos_words:\n",
        "            word_score = 1\n",
        "        elif words[i] in neg_words:\n",
        "            word_score = -1\n",
        "        score += word_score\n",
        "    return score"
      ],
      "execution_count": 62,
      "outputs": []
    },
    {
      "cell_type": "markdown",
      "metadata": {
        "id": "eozF1o_R9IOQ"
      },
      "source": [
        "**B)** Create a series `tweet_scores_neg` (using the `sentiment_score_neg` function developed in the previous point) with scores of tweets in `tweets[\"text\"]`"
      ]
    },
    {
      "cell_type": "markdown",
      "metadata": {
        "id": "GYBWW05y9IOQ"
      },
      "source": [
        "**C)** Compute the mean absolute difference between this previous score and the new score of each tweet"
      ]
    },
    {
      "cell_type": "markdown",
      "metadata": {
        "id": "v8wVHZ-R9IOQ"
      },
      "source": [
        "**D)** Use the `get_summary_scores` defined above to get a series `twitter_score_neg` with summary scores for each airline"
      ]
    },
    {
      "cell_type": "markdown",
      "metadata": {
        "id": "g9sRf63e9IOQ"
      },
      "source": [
        "**E)** Verify the correlation between the new Twitter score and the ACSI score using a scatter plot and Pearson's coefficient as above"
      ]
    },
    {
      "cell_type": "markdown",
      "metadata": {
        "id": "yygvv94X9IOQ"
      },
      "source": [
        "## Activity 2: Sentiment Analysis at sentence and feature level\n",
        "\n",
        "We reuse techniques seen above to perform sentiment analysis at sentence and feature level on reviews of hotels\n",
        "\n",
        "TripAdvisor used to provide a summary of hotel ratings against 6 different features: **Location, Sleep Quality, Rooms, Service, Value, Cleanliness**"
      ]
    },
    {
      "cell_type": "markdown",
      "metadata": {
        "id": "ZwNfCgBU9IOR"
      },
      "source": [
        "### Activity plan\n",
        "\n",
        "1. Define lists of opinion and feature words\n",
        "  - for opinion words, we reuse the lists of Hu and Liu from above\n",
        "2. Break reviews into sentences\n",
        "3. Detect sentences dealing with a specific feature and score its sentiment\n",
        "4. Summarize evaluation of each hotel and each feature\n",
        "5. Compare features of each hotel\n",
        "6. Compare results with scores on TripAdvisor"
      ]
    },
    {
      "cell_type": "markdown",
      "metadata": {
        "id": "Hf0Kw1v49IOR"
      },
      "source": [
        "### Loading reviews\n",
        "\n",
        "We provide a ZIP file with reviews of 6 different Hotels in Chicago, in a format similar to that of airline tweets used above (one file per hotel, one review per line)"
      ]
    },
    {
      "cell_type": "code",
      "metadata": {
        "id": "kOhA6CRF9IOR"
      },
      "source": [
        "download(\"hotel-reviews.zip\", \"https://github.com/unibodatascience/BBS-TextMining/raw/3ad6643b698f652f200dfbf463a3cb49de8c0e9f/05%20-%20Opinion%20Mining%20with%20Python%20(part%201)/data/hotel-reviews.zip\")"
      ],
      "execution_count": 63,
      "outputs": []
    },
    {
      "cell_type": "code",
      "metadata": {
        "colab": {
          "base_uri": "https://localhost:8080/"
        },
        "id": "WMYKO7r39IOT",
        "outputId": "c33f0985-0b0e-4a9f-8442-a6dc32ccb0e6"
      },
      "source": [
        "from zipfile import ZipFile\n",
        "import re\n",
        "\n",
        "all_reviews = {} # Init an empty dictionary that will be used to collect all the reviews\n",
        "\n",
        "# Define the regular expression that matches the reviews filenames.\n",
        "filename_pattern = re.compile(\"usa_illinois_chicago_([a-z_]+).txt\") # ([a-z_]+) means: \"one or more groups of alphabetic characters followed by an underscore\"\n",
        "\n",
        "with ZipFile(\"hotel-reviews.zip\") as zip: # open the zip file and read the files inside\n",
        "\n",
        "    for filename in zip.namelist(): # we repeat the following statements for each file inside the zip in order to collect the text of each hotel. 1 file --> 1 hotel\n",
        "        print(filename)\n",
        "        # match() returns a match object if one or more characters at the beginning of string match this regular expression, None otherwise. \n",
        "        # Then we call the group() method on the match object: group(1) returns the matched content of the first parenthesized subgroup in the regular expression\n",
        "        hotel = filename_pattern.match(filename).group(1) \n",
        "\n",
        "        print(hotel)\n",
        "\n",
        "        with zip.open(filename) as f: # open each txt file to read its content (i.e the reviews texts)\n",
        "            # for each file: decode each line of the file to UTF-8 encoding (to properly read the string), delete spaces at beginning/end of the string using strip()\n",
        "            # put each transformed line in a list using list()\n",
        "            # put the list of lines of the current file in a new entry of all_reviews dictionary\n",
        "            all_reviews[hotel] = list(line.decode(errors=\"ignore\").strip() for line in f) "
      ],
      "execution_count": 64,
      "outputs": [
        {
          "output_type": "stream",
          "name": "stdout",
          "text": [
            "usa_illinois_chicago_affinia_chicago.txt\n",
            "affinia_chicago\n",
            "usa_illinois_chicago_hyatt_regency_chicago.txt\n",
            "hyatt_regency_chicago\n",
            "usa_illinois_chicago_intercontinental_chicago.txt\n",
            "intercontinental_chicago\n",
            "usa_illinois_chicago_james_chicago.txt\n",
            "james_chicago\n",
            "usa_illinois_chicago_swissotel_chicago.txt\n",
            "swissotel_chicago\n",
            "usa_illinois_chicago_the_palmer_house_hilton.txt\n",
            "the_palmer_house_hilton\n"
          ]
        }
      ]
    },
    {
      "cell_type": "markdown",
      "metadata": {
        "id": "9aGIOvin9IOU"
      },
      "source": [
        "As an example, we will use reviews for the Intercontinental hotel"
      ]
    },
    {
      "cell_type": "code",
      "metadata": {
        "id": "DjuPCyyq9IOV"
      },
      "source": [
        "reviews_interc = all_reviews[\"intercontinental_chicago\"]"
      ],
      "execution_count": 65,
      "outputs": []
    },
    {
      "cell_type": "code",
      "metadata": {
        "colab": {
          "base_uri": "https://localhost:8080/",
          "height": 39
        },
        "id": "WHYJMRsK9IOX",
        "outputId": "847bb9a7-d611-439b-e9d4-1530c285292a"
      },
      "source": [
        "reviews_interc[0]"
      ],
      "execution_count": 66,
      "outputs": [
        {
          "output_type": "execute_result",
          "data": {
            "text/plain": [
              "'A great spot! We have always been pleased with our stays at Intercontinental hotels. Chicago was especially pleasant with a helpful staff.'"
            ],
            "application/vnd.google.colaboratory.intrinsic+json": {
              "type": "string"
            }
          },
          "metadata": {},
          "execution_count": 66
        }
      ]
    },
    {
      "cell_type": "markdown",
      "metadata": {
        "id": "ZbemiaFE9IOY"
      },
      "source": [
        "### Lists of feature words\n",
        "\n",
        "To detect sentences dealing with a specific feature, we search for feature-related keywords\n",
        "\n",
        "Using only the names of the 6 features as keywords, would produce few results: lists of _feature words_ which are synonyms or anyhow else related to each feature is created (manually in this case)"
      ]
    },
    {
      "cell_type": "code",
      "metadata": {
        "id": "S-3DBtSl9IOZ"
      },
      "source": [
        "feature_words = {\n",
        "    'location': {'location', 'airport', 'center', 'island', 'lake', 'ocean',\n",
        "                 'sea', 'around', 'university', 'romantic', 'coast', 'beach',\n",
        "                 'disco', 'nightlife'},\n",
        "    'sleepquality': {'silence','sleep','night','noise','nightlife'},\n",
        "    'rooms': {'room', 'rooms', 'space', 'bed', 'bath', 'bathroom', 'toilet',\n",
        "              'degrade', 'disorder','shower','jacuzzi','frigo'},\n",
        "    'service': {'service','pet','friendly','swimming', 'pool', 'pools', 'spa',\n",
        "                'waiters', 'severs', 'waiter', 'manservant', 'cordial',\n",
        "                'hearty', 'restorative', 'disagreeable', 'unpleasant',\n",
        "                'restaurant', 'food', 'breakfast', 'lunch', 'dinner', 'bar'},\n",
        "    'value': {'cheap','affordable','afford','woth', 'price', 'value', 'cost',\n",
        "              'expensive', 'economical', 'depreciate', 'discount', 'luxury',\n",
        "              'hall', 'meal'},\n",
        "    'cleanliness': {'clean', 'cleanliness', 'place', 'neatness', 'sweeping',\n",
        "                    'dirty', 'soiled', 'grubby', 'foul', 'mucky'}\n",
        "}"
      ],
      "execution_count": 67,
      "outputs": []
    },
    {
      "cell_type": "markdown",
      "metadata": {
        "id": "aa3tsTGX9IOa"
      },
      "source": [
        "### Breaking reviews into sentences\n",
        "\n",
        "We break reviews into single sentences, assuming that each sentence deals with (at most) one of the features\n",
        "\n",
        "Breaking text into sentences (_sentence tokenization_) is not straightforward: sentences usually end with a period (\".\"), but may also end with other punctuation (\"!\", \"?\")"
      ]
    },
    {
      "cell_type": "markdown",
      "metadata": {
        "id": "MLGtjlvH9IOa"
      },
      "source": [
        "This is an example of function for sentence tokenization, which splits text on \".\", \"?\" and \"!\""
      ]
    },
    {
      "cell_type": "code",
      "metadata": {
        "id": "GtYfbWuB9IOa"
      },
      "source": [
        "def my_sent_tokenizer(text):\n",
        "    return re.split(\"[\\\\.\\\\?!]\", text) #\\\\ operator escapes the dot and question mark characters. This is needed because '.' and '?' are special characters in regex syntax"
      ],
      "execution_count": 68,
      "outputs": []
    },
    {
      "cell_type": "code",
      "metadata": {
        "colab": {
          "base_uri": "https://localhost:8080/"
        },
        "id": "w-qawU1O9IOb",
        "outputId": "2698a546-1b5b-436a-f08a-470d5309a4cf"
      },
      "source": [
        "my_sent_tokenizer(reviews_interc[0])"
      ],
      "execution_count": 69,
      "outputs": [
        {
          "output_type": "execute_result",
          "data": {
            "text/plain": [
              "['A great spot',\n",
              " ' We have always been pleased with our stays at Intercontinental hotels',\n",
              " ' Chicago was especially pleasant with a helpful staff',\n",
              " '']"
            ]
          },
          "metadata": {},
          "execution_count": 69
        }
      ]
    },
    {
      "cell_type": "markdown",
      "metadata": {
        "id": "Vsr537m99IOe"
      },
      "source": [
        "However this function fails when these characters are used in the middle of a sentence, e.g. in an ellipsis"
      ]
    },
    {
      "cell_type": "code",
      "metadata": {
        "colab": {
          "base_uri": "https://localhost:8080/"
        },
        "id": "sOwOjGfT9IOe",
        "outputId": "d04fbc57-1f20-4fd6-8cb2-fcce03a024b8"
      },
      "source": [
        "my_sent_tokenizer(\"This works... or not? Maybe not.\")"
      ],
      "execution_count": 70,
      "outputs": [
        {
          "output_type": "execute_result",
          "data": {
            "text/plain": [
              "['This works', '', '', ' or not', ' Maybe not', '']"
            ]
          },
          "metadata": {},
          "execution_count": 70
        }
      ]
    },
    {
      "cell_type": "markdown",
      "metadata": {
        "id": "fGF6ez9s9IOf"
      },
      "source": [
        "Similarly to the word tokenizer used above, NLTK provides a sentence tokenizer based on knowledge of English language to detect such exceptions"
      ]
    },
    {
      "cell_type": "code",
      "metadata": {
        "colab": {
          "base_uri": "https://localhost:8080/"
        },
        "id": "2urU6hiB9IOg",
        "outputId": "9af569cf-693d-4dc7-b288-c9e673843518"
      },
      "source": [
        "nltk.sent_tokenize(\"This works... or not? Maybe not.\")"
      ],
      "execution_count": 71,
      "outputs": [
        {
          "output_type": "execute_result",
          "data": {
            "text/plain": [
              "['This works... or not?', 'Maybe not.']"
            ]
          },
          "metadata": {},
          "execution_count": 71
        }
      ]
    },
    {
      "cell_type": "markdown",
      "metadata": {
        "id": "FFIWabkV9IOh"
      },
      "source": [
        "Using this tokenization function, we turn the list of reviews into a list of single sentences"
      ]
    },
    {
      "cell_type": "code",
      "metadata": {
        "id": "Hz-aaqP39IOh"
      },
      "source": [
        "sentences_interc = [sent for review in reviews_interc for sent in nltk.sent_tokenize(review)]"
      ],
      "execution_count": 72,
      "outputs": []
    },
    {
      "cell_type": "markdown",
      "metadata": {
        "id": "QWUuSZu49IOi"
      },
      "source": [
        "### Detecting features and opinions in sentences\n",
        "\n",
        "We define a function which counts, for each feature, the number of sentences in a given list expressing a positive or negative judgement about it"
      ]
    },
    {
      "cell_type": "code",
      "metadata": {
        "id": "1Qxb70Fj9IOi"
      },
      "source": [
        "def feature_pos_neg_counts(sentences, feature_words, pos_words, neg_words):\n",
        "    # initialize to 0 counts of positive and negative sentences per feature\n",
        "    pos_counts = {feat: 0 for feat in feature_words.keys()}\n",
        "    neg_counts = {feat: 0 for feat in feature_words.keys()} \n",
        "    # {\n",
        "    #  \"value\": 0,\n",
        "    #  \"service\": 0,\n",
        "    #  ...\n",
        "    # }\n",
        "\n",
        "    for sent in sentences: # analyze each sentence in the sentences list passed as argument to this function\n",
        "\n",
        "        # evaluate sentiment of sentence\n",
        "        word_list = nltk.word_tokenize(sent) # e.g. nltk.word_tokenize(\"This isn't a test, or is it?\") --> ['This', 'is', \"n't\", 'a', 'test', ',', 'or', 'is', 'it', '?']\n",
        "        pos_word_count = sum(1 for word in word_list if word in pos_words) # Sum 1 for each positive word found in the sentence. E.g. 2\n",
        "        neg_word_count = sum(1 for word in word_list if word in neg_words) # Sum 1 for each negative word found in the sentence. E.g. 3\n",
        "        sent_score = pos_word_count - neg_word_count # E.g. 2 - 3 = -1\n",
        "\n",
        "        # detect features in sentence\n",
        "        word_set = set(word_list) # e.g. {'this', 'is', \"n't\", \"a\", \"test\", \",\", \"or\", \"it\", \"?\"}   No words are repeated since we use a set!\n",
        "        for feat, keywords in feature_words.items(): # loop over each feature (e.g. value, service, ...) to analyze features in the current sentence (i.e. the variable named 'sent')\n",
        "            if word_set & keywords: # if the intersection between the sentence word set and the feature keywords is not empty (i.e. the sentence contains at least one of the current feature keywords)\n",
        "                if sent_score > 0: # if the sentence polarity is positive\n",
        "                    pos_counts[feat] += 1 # increment by one the positive counter of the current feature we are analyzing\n",
        "                elif sent_score < 0: # if the sentence polarity is negative\n",
        "                    neg_counts[feat] += 1 # increment by one the negative counter of the current feature we are analyzing\n",
        "\n",
        "    # At the end of the positive/negative counts for each feature, we create a new dataframe containing the features as rows and the two counters as columns\n",
        "    return pd.DataFrame({\"pos_count\": pos_counts, \"neg_count\": neg_counts})"
      ],
      "execution_count": 73,
      "outputs": []
    },
    {
      "cell_type": "markdown",
      "metadata": {
        "id": "5qmR31Yb9IOj"
      },
      "source": [
        "For each list of sentences, the function returns a DataFrame with counts of positive and negative sentences for each feature\n",
        "\n",
        "Let's apply it for example to reviews of Intercontinental"
      ]
    },
    {
      "cell_type": "code",
      "metadata": {
        "id": "Sl6kJjaF9IOk"
      },
      "source": [
        "scores_interc = feature_pos_neg_counts(sentences_interc, feature_words, hu_liu_pos, hu_liu_neg)"
      ],
      "execution_count": 74,
      "outputs": []
    },
    {
      "cell_type": "code",
      "metadata": {
        "colab": {
          "base_uri": "https://localhost:8080/",
          "height": 263
        },
        "id": "ODajRR8-9IOk",
        "outputId": "d55b1832-3068-4b7a-ee15-314d54df10bb"
      },
      "source": [
        "scores_interc"
      ],
      "execution_count": 75,
      "outputs": [
        {
          "output_type": "execute_result",
          "data": {
            "text/plain": [
              "              pos_count  neg_count\n",
              "location            231         18\n",
              "sleepquality         50         28\n",
              "rooms               423         92\n",
              "service             370         55\n",
              "value                70         34\n",
              "cleanliness         131         11"
            ],
            "text/html": [
              "\n",
              "  <div id=\"df-2738b612-f21b-409a-9791-1493c45430a1\">\n",
              "    <div class=\"colab-df-container\">\n",
              "      <div>\n",
              "<style scoped>\n",
              "    .dataframe tbody tr th:only-of-type {\n",
              "        vertical-align: middle;\n",
              "    }\n",
              "\n",
              "    .dataframe tbody tr th {\n",
              "        vertical-align: top;\n",
              "    }\n",
              "\n",
              "    .dataframe thead th {\n",
              "        text-align: right;\n",
              "    }\n",
              "</style>\n",
              "<table border=\"1\" class=\"dataframe\">\n",
              "  <thead>\n",
              "    <tr style=\"text-align: right;\">\n",
              "      <th></th>\n",
              "      <th>pos_count</th>\n",
              "      <th>neg_count</th>\n",
              "    </tr>\n",
              "  </thead>\n",
              "  <tbody>\n",
              "    <tr>\n",
              "      <th>location</th>\n",
              "      <td>231</td>\n",
              "      <td>18</td>\n",
              "    </tr>\n",
              "    <tr>\n",
              "      <th>sleepquality</th>\n",
              "      <td>50</td>\n",
              "      <td>28</td>\n",
              "    </tr>\n",
              "    <tr>\n",
              "      <th>rooms</th>\n",
              "      <td>423</td>\n",
              "      <td>92</td>\n",
              "    </tr>\n",
              "    <tr>\n",
              "      <th>service</th>\n",
              "      <td>370</td>\n",
              "      <td>55</td>\n",
              "    </tr>\n",
              "    <tr>\n",
              "      <th>value</th>\n",
              "      <td>70</td>\n",
              "      <td>34</td>\n",
              "    </tr>\n",
              "    <tr>\n",
              "      <th>cleanliness</th>\n",
              "      <td>131</td>\n",
              "      <td>11</td>\n",
              "    </tr>\n",
              "  </tbody>\n",
              "</table>\n",
              "</div>\n",
              "      <button class=\"colab-df-convert\" onclick=\"convertToInteractive('df-2738b612-f21b-409a-9791-1493c45430a1')\"\n",
              "              title=\"Convert this dataframe to an interactive table.\"\n",
              "              style=\"display:none;\">\n",
              "        \n",
              "  <svg xmlns=\"http://www.w3.org/2000/svg\" height=\"24px\"viewBox=\"0 0 24 24\"\n",
              "       width=\"24px\">\n",
              "    <path d=\"M0 0h24v24H0V0z\" fill=\"none\"/>\n",
              "    <path d=\"M18.56 5.44l.94 2.06.94-2.06 2.06-.94-2.06-.94-.94-2.06-.94 2.06-2.06.94zm-11 1L8.5 8.5l.94-2.06 2.06-.94-2.06-.94L8.5 2.5l-.94 2.06-2.06.94zm10 10l.94 2.06.94-2.06 2.06-.94-2.06-.94-.94-2.06-.94 2.06-2.06.94z\"/><path d=\"M17.41 7.96l-1.37-1.37c-.4-.4-.92-.59-1.43-.59-.52 0-1.04.2-1.43.59L10.3 9.45l-7.72 7.72c-.78.78-.78 2.05 0 2.83L4 21.41c.39.39.9.59 1.41.59.51 0 1.02-.2 1.41-.59l7.78-7.78 2.81-2.81c.8-.78.8-2.07 0-2.86zM5.41 20L4 18.59l7.72-7.72 1.47 1.35L5.41 20z\"/>\n",
              "  </svg>\n",
              "      </button>\n",
              "      \n",
              "  <style>\n",
              "    .colab-df-container {\n",
              "      display:flex;\n",
              "      flex-wrap:wrap;\n",
              "      gap: 12px;\n",
              "    }\n",
              "\n",
              "    .colab-df-convert {\n",
              "      background-color: #E8F0FE;\n",
              "      border: none;\n",
              "      border-radius: 50%;\n",
              "      cursor: pointer;\n",
              "      display: none;\n",
              "      fill: #1967D2;\n",
              "      height: 32px;\n",
              "      padding: 0 0 0 0;\n",
              "      width: 32px;\n",
              "    }\n",
              "\n",
              "    .colab-df-convert:hover {\n",
              "      background-color: #E2EBFA;\n",
              "      box-shadow: 0px 1px 2px rgba(60, 64, 67, 0.3), 0px 1px 3px 1px rgba(60, 64, 67, 0.15);\n",
              "      fill: #174EA6;\n",
              "    }\n",
              "\n",
              "    [theme=dark] .colab-df-convert {\n",
              "      background-color: #3B4455;\n",
              "      fill: #D2E3FC;\n",
              "    }\n",
              "\n",
              "    [theme=dark] .colab-df-convert:hover {\n",
              "      background-color: #434B5C;\n",
              "      box-shadow: 0px 1px 3px 1px rgba(0, 0, 0, 0.15);\n",
              "      filter: drop-shadow(0px 1px 2px rgba(0, 0, 0, 0.3));\n",
              "      fill: #FFFFFF;\n",
              "    }\n",
              "  </style>\n",
              "\n",
              "      <script>\n",
              "        const buttonEl =\n",
              "          document.querySelector('#df-2738b612-f21b-409a-9791-1493c45430a1 button.colab-df-convert');\n",
              "        buttonEl.style.display =\n",
              "          google.colab.kernel.accessAllowed ? 'block' : 'none';\n",
              "\n",
              "        async function convertToInteractive(key) {\n",
              "          const element = document.querySelector('#df-2738b612-f21b-409a-9791-1493c45430a1');\n",
              "          const dataTable =\n",
              "            await google.colab.kernel.invokeFunction('convertToInteractive',\n",
              "                                                     [key], {});\n",
              "          if (!dataTable) return;\n",
              "\n",
              "          const docLinkHtml = 'Like what you see? Visit the ' +\n",
              "            '<a target=\"_blank\" href=https://colab.research.google.com/notebooks/data_table.ipynb>data table notebook</a>'\n",
              "            + ' to learn more about interactive tables.';\n",
              "          element.innerHTML = '';\n",
              "          dataTable['output_type'] = 'display_data';\n",
              "          await google.colab.output.renderOutput(dataTable, element);\n",
              "          const docLink = document.createElement('div');\n",
              "          docLink.innerHTML = docLinkHtml;\n",
              "          element.appendChild(docLink);\n",
              "        }\n",
              "      </script>\n",
              "    </div>\n",
              "  </div>\n",
              "  "
            ]
          },
          "metadata": {},
          "execution_count": 75
        }
      ]
    },
    {
      "cell_type": "markdown",
      "metadata": {
        "id": "m5smNWpx9IOl"
      },
      "source": [
        "### Summarizing evaluation of hotel features\n",
        "\n",
        "Similarly to above, we compute for each feature a sentiment score in a 0-50 scale from the ratio of positive sentences about a feature w.r.t. their total"
      ]
    },
    {
      "cell_type": "code",
      "metadata": {
        "id": "hvyHtRYs9IOm"
      },
      "source": [
        "scores_interc[\"tot_count\"] = scores_interc.pos_count + scores_interc.neg_count"
      ],
      "execution_count": 76,
      "outputs": []
    },
    {
      "cell_type": "code",
      "metadata": {
        "id": "NxSaH52X9IOn"
      },
      "source": [
        "scores_interc[\"score\"] = round(50 * scores_interc.pos_count / scores_interc.tot_count)"
      ],
      "execution_count": 77,
      "outputs": []
    },
    {
      "cell_type": "code",
      "metadata": {
        "colab": {
          "base_uri": "https://localhost:8080/",
          "height": 263
        },
        "id": "TPqAtJN99IOo",
        "outputId": "b1c12bba-8216-4942-b437-2a217aa3a8f2"
      },
      "source": [
        "scores_interc"
      ],
      "execution_count": 78,
      "outputs": [
        {
          "output_type": "execute_result",
          "data": {
            "text/plain": [
              "              pos_count  neg_count  tot_count  score\n",
              "location            231         18        249   46.0\n",
              "sleepquality         50         28         78   32.0\n",
              "rooms               423         92        515   41.0\n",
              "service             370         55        425   44.0\n",
              "value                70         34        104   34.0\n",
              "cleanliness         131         11        142   46.0"
            ],
            "text/html": [
              "\n",
              "  <div id=\"df-8e268f14-b276-4d39-b45b-b4fd13cd95ea\">\n",
              "    <div class=\"colab-df-container\">\n",
              "      <div>\n",
              "<style scoped>\n",
              "    .dataframe tbody tr th:only-of-type {\n",
              "        vertical-align: middle;\n",
              "    }\n",
              "\n",
              "    .dataframe tbody tr th {\n",
              "        vertical-align: top;\n",
              "    }\n",
              "\n",
              "    .dataframe thead th {\n",
              "        text-align: right;\n",
              "    }\n",
              "</style>\n",
              "<table border=\"1\" class=\"dataframe\">\n",
              "  <thead>\n",
              "    <tr style=\"text-align: right;\">\n",
              "      <th></th>\n",
              "      <th>pos_count</th>\n",
              "      <th>neg_count</th>\n",
              "      <th>tot_count</th>\n",
              "      <th>score</th>\n",
              "    </tr>\n",
              "  </thead>\n",
              "  <tbody>\n",
              "    <tr>\n",
              "      <th>location</th>\n",
              "      <td>231</td>\n",
              "      <td>18</td>\n",
              "      <td>249</td>\n",
              "      <td>46.0</td>\n",
              "    </tr>\n",
              "    <tr>\n",
              "      <th>sleepquality</th>\n",
              "      <td>50</td>\n",
              "      <td>28</td>\n",
              "      <td>78</td>\n",
              "      <td>32.0</td>\n",
              "    </tr>\n",
              "    <tr>\n",
              "      <th>rooms</th>\n",
              "      <td>423</td>\n",
              "      <td>92</td>\n",
              "      <td>515</td>\n",
              "      <td>41.0</td>\n",
              "    </tr>\n",
              "    <tr>\n",
              "      <th>service</th>\n",
              "      <td>370</td>\n",
              "      <td>55</td>\n",
              "      <td>425</td>\n",
              "      <td>44.0</td>\n",
              "    </tr>\n",
              "    <tr>\n",
              "      <th>value</th>\n",
              "      <td>70</td>\n",
              "      <td>34</td>\n",
              "      <td>104</td>\n",
              "      <td>34.0</td>\n",
              "    </tr>\n",
              "    <tr>\n",
              "      <th>cleanliness</th>\n",
              "      <td>131</td>\n",
              "      <td>11</td>\n",
              "      <td>142</td>\n",
              "      <td>46.0</td>\n",
              "    </tr>\n",
              "  </tbody>\n",
              "</table>\n",
              "</div>\n",
              "      <button class=\"colab-df-convert\" onclick=\"convertToInteractive('df-8e268f14-b276-4d39-b45b-b4fd13cd95ea')\"\n",
              "              title=\"Convert this dataframe to an interactive table.\"\n",
              "              style=\"display:none;\">\n",
              "        \n",
              "  <svg xmlns=\"http://www.w3.org/2000/svg\" height=\"24px\"viewBox=\"0 0 24 24\"\n",
              "       width=\"24px\">\n",
              "    <path d=\"M0 0h24v24H0V0z\" fill=\"none\"/>\n",
              "    <path d=\"M18.56 5.44l.94 2.06.94-2.06 2.06-.94-2.06-.94-.94-2.06-.94 2.06-2.06.94zm-11 1L8.5 8.5l.94-2.06 2.06-.94-2.06-.94L8.5 2.5l-.94 2.06-2.06.94zm10 10l.94 2.06.94-2.06 2.06-.94-2.06-.94-.94-2.06-.94 2.06-2.06.94z\"/><path d=\"M17.41 7.96l-1.37-1.37c-.4-.4-.92-.59-1.43-.59-.52 0-1.04.2-1.43.59L10.3 9.45l-7.72 7.72c-.78.78-.78 2.05 0 2.83L4 21.41c.39.39.9.59 1.41.59.51 0 1.02-.2 1.41-.59l7.78-7.78 2.81-2.81c.8-.78.8-2.07 0-2.86zM5.41 20L4 18.59l7.72-7.72 1.47 1.35L5.41 20z\"/>\n",
              "  </svg>\n",
              "      </button>\n",
              "      \n",
              "  <style>\n",
              "    .colab-df-container {\n",
              "      display:flex;\n",
              "      flex-wrap:wrap;\n",
              "      gap: 12px;\n",
              "    }\n",
              "\n",
              "    .colab-df-convert {\n",
              "      background-color: #E8F0FE;\n",
              "      border: none;\n",
              "      border-radius: 50%;\n",
              "      cursor: pointer;\n",
              "      display: none;\n",
              "      fill: #1967D2;\n",
              "      height: 32px;\n",
              "      padding: 0 0 0 0;\n",
              "      width: 32px;\n",
              "    }\n",
              "\n",
              "    .colab-df-convert:hover {\n",
              "      background-color: #E2EBFA;\n",
              "      box-shadow: 0px 1px 2px rgba(60, 64, 67, 0.3), 0px 1px 3px 1px rgba(60, 64, 67, 0.15);\n",
              "      fill: #174EA6;\n",
              "    }\n",
              "\n",
              "    [theme=dark] .colab-df-convert {\n",
              "      background-color: #3B4455;\n",
              "      fill: #D2E3FC;\n",
              "    }\n",
              "\n",
              "    [theme=dark] .colab-df-convert:hover {\n",
              "      background-color: #434B5C;\n",
              "      box-shadow: 0px 1px 3px 1px rgba(0, 0, 0, 0.15);\n",
              "      filter: drop-shadow(0px 1px 2px rgba(0, 0, 0, 0.3));\n",
              "      fill: #FFFFFF;\n",
              "    }\n",
              "  </style>\n",
              "\n",
              "      <script>\n",
              "        const buttonEl =\n",
              "          document.querySelector('#df-8e268f14-b276-4d39-b45b-b4fd13cd95ea button.colab-df-convert');\n",
              "        buttonEl.style.display =\n",
              "          google.colab.kernel.accessAllowed ? 'block' : 'none';\n",
              "\n",
              "        async function convertToInteractive(key) {\n",
              "          const element = document.querySelector('#df-8e268f14-b276-4d39-b45b-b4fd13cd95ea');\n",
              "          const dataTable =\n",
              "            await google.colab.kernel.invokeFunction('convertToInteractive',\n",
              "                                                     [key], {});\n",
              "          if (!dataTable) return;\n",
              "\n",
              "          const docLinkHtml = 'Like what you see? Visit the ' +\n",
              "            '<a target=\"_blank\" href=https://colab.research.google.com/notebooks/data_table.ipynb>data table notebook</a>'\n",
              "            + ' to learn more about interactive tables.';\n",
              "          element.innerHTML = '';\n",
              "          dataTable['output_type'] = 'display_data';\n",
              "          await google.colab.output.renderOutput(dataTable, element);\n",
              "          const docLink = document.createElement('div');\n",
              "          docLink.innerHTML = docLinkHtml;\n",
              "          element.appendChild(docLink);\n",
              "        }\n",
              "      </script>\n",
              "    </div>\n",
              "  </div>\n",
              "  "
            ]
          },
          "metadata": {},
          "execution_count": 78
        }
      ]
    },
    {
      "cell_type": "markdown",
      "metadata": {
        "id": "BCoak-S39IOp"
      },
      "source": [
        "In order to easily repeat this process for every hotel, we wrap it in a function which takes as input the list of reviews and returns the Series with the final scores per feature"
      ]
    },
    {
      "cell_type": "code",
      "metadata": {
        "id": "xL4QJitL9IOp"
      },
      "source": [
        "def feature_scores(reviews, feature_words, pos_words, neg_words):\n",
        "    sentences = [sent for review in reviews for sent in nltk.sent_tokenize(review)]\n",
        "    counts = feature_pos_neg_counts(sentences, feature_words, pos_words, neg_words)\n",
        "    total = counts.pos_count + counts.neg_count\n",
        "    return round(50 * counts.pos_count / total)"
      ],
      "execution_count": 79,
      "outputs": []
    },
    {
      "cell_type": "code",
      "metadata": {
        "colab": {
          "base_uri": "https://localhost:8080/"
        },
        "id": "BF2X1PJN9IOq",
        "outputId": "4e004864-e95f-4469-f2b4-20af351ddab9"
      },
      "source": [
        "feature_scores(reviews_interc, feature_words, hu_liu_pos, hu_liu_neg)"
      ],
      "execution_count": 80,
      "outputs": [
        {
          "output_type": "execute_result",
          "data": {
            "text/plain": [
              "location        46.0\n",
              "sleepquality    32.0\n",
              "rooms           41.0\n",
              "service         44.0\n",
              "value           34.0\n",
              "cleanliness     46.0\n",
              "dtype: float64"
            ]
          },
          "metadata": {},
          "execution_count": 80
        }
      ]
    },
    {
      "cell_type": "markdown",
      "metadata": {
        "id": "ovCL19qT9IOr"
      },
      "source": [
        "Let's create a DataFrame with feature scores for all analyzed hotels"
      ]
    },
    {
      "cell_type": "code",
      "metadata": {
        "id": "RnPw_fR_9IOr"
      },
      "source": [
        "scores = pd.DataFrame({hotel: feature_scores(reviews, feature_words, hu_liu_pos, hu_liu_neg) for hotel, reviews in all_reviews.items()})"
      ],
      "execution_count": 81,
      "outputs": []
    },
    {
      "cell_type": "code",
      "metadata": {
        "colab": {
          "base_uri": "https://localhost:8080/",
          "height": 700
        },
        "id": "eZMYfs7G9IOs",
        "outputId": "bff5bbcd-28ce-4489-fca7-72cc64a80752"
      },
      "source": [
        "print(scores)\n",
        "\n",
        "scores.T   # transpose the table"
      ],
      "execution_count": 82,
      "outputs": [
        {
          "output_type": "stream",
          "name": "stdout",
          "text": [
            "              affinia_chicago  hyatt_regency_chicago  \\\n",
            "location                 45.0                   45.0   \n",
            "sleepquality             25.0                   27.0   \n",
            "rooms                    42.0                   37.0   \n",
            "service                  45.0                   39.0   \n",
            "value                    39.0                   30.0   \n",
            "cleanliness              46.0                   42.0   \n",
            "\n",
            "              intercontinental_chicago  james_chicago  swissotel_chicago  \\\n",
            "location                          46.0           47.0               44.0   \n",
            "sleepquality                      32.0           30.0               32.0   \n",
            "rooms                             41.0           41.0               40.0   \n",
            "service                           44.0           44.0               43.0   \n",
            "value                             34.0           35.0               34.0   \n",
            "cleanliness                       46.0           46.0               46.0   \n",
            "\n",
            "              the_palmer_house_hilton  \n",
            "location                         45.0  \n",
            "sleepquality                     26.0  \n",
            "rooms                            37.0  \n",
            "service                          40.0  \n",
            "value                            35.0  \n",
            "cleanliness                      44.0  \n"
          ]
        },
        {
          "output_type": "execute_result",
          "data": {
            "text/plain": [
              "                          location  sleepquality  rooms  service  value  \\\n",
              "affinia_chicago               45.0          25.0   42.0     45.0   39.0   \n",
              "hyatt_regency_chicago         45.0          27.0   37.0     39.0   30.0   \n",
              "intercontinental_chicago      46.0          32.0   41.0     44.0   34.0   \n",
              "james_chicago                 47.0          30.0   41.0     44.0   35.0   \n",
              "swissotel_chicago             44.0          32.0   40.0     43.0   34.0   \n",
              "the_palmer_house_hilton       45.0          26.0   37.0     40.0   35.0   \n",
              "\n",
              "                          cleanliness  \n",
              "affinia_chicago                  46.0  \n",
              "hyatt_regency_chicago            42.0  \n",
              "intercontinental_chicago         46.0  \n",
              "james_chicago                    46.0  \n",
              "swissotel_chicago                46.0  \n",
              "the_palmer_house_hilton          44.0  "
            ],
            "text/html": [
              "\n",
              "  <div id=\"df-64fdec6e-c9ee-4641-90f5-f4f72448efe5\">\n",
              "    <div class=\"colab-df-container\">\n",
              "      <div>\n",
              "<style scoped>\n",
              "    .dataframe tbody tr th:only-of-type {\n",
              "        vertical-align: middle;\n",
              "    }\n",
              "\n",
              "    .dataframe tbody tr th {\n",
              "        vertical-align: top;\n",
              "    }\n",
              "\n",
              "    .dataframe thead th {\n",
              "        text-align: right;\n",
              "    }\n",
              "</style>\n",
              "<table border=\"1\" class=\"dataframe\">\n",
              "  <thead>\n",
              "    <tr style=\"text-align: right;\">\n",
              "      <th></th>\n",
              "      <th>location</th>\n",
              "      <th>sleepquality</th>\n",
              "      <th>rooms</th>\n",
              "      <th>service</th>\n",
              "      <th>value</th>\n",
              "      <th>cleanliness</th>\n",
              "    </tr>\n",
              "  </thead>\n",
              "  <tbody>\n",
              "    <tr>\n",
              "      <th>affinia_chicago</th>\n",
              "      <td>45.0</td>\n",
              "      <td>25.0</td>\n",
              "      <td>42.0</td>\n",
              "      <td>45.0</td>\n",
              "      <td>39.0</td>\n",
              "      <td>46.0</td>\n",
              "    </tr>\n",
              "    <tr>\n",
              "      <th>hyatt_regency_chicago</th>\n",
              "      <td>45.0</td>\n",
              "      <td>27.0</td>\n",
              "      <td>37.0</td>\n",
              "      <td>39.0</td>\n",
              "      <td>30.0</td>\n",
              "      <td>42.0</td>\n",
              "    </tr>\n",
              "    <tr>\n",
              "      <th>intercontinental_chicago</th>\n",
              "      <td>46.0</td>\n",
              "      <td>32.0</td>\n",
              "      <td>41.0</td>\n",
              "      <td>44.0</td>\n",
              "      <td>34.0</td>\n",
              "      <td>46.0</td>\n",
              "    </tr>\n",
              "    <tr>\n",
              "      <th>james_chicago</th>\n",
              "      <td>47.0</td>\n",
              "      <td>30.0</td>\n",
              "      <td>41.0</td>\n",
              "      <td>44.0</td>\n",
              "      <td>35.0</td>\n",
              "      <td>46.0</td>\n",
              "    </tr>\n",
              "    <tr>\n",
              "      <th>swissotel_chicago</th>\n",
              "      <td>44.0</td>\n",
              "      <td>32.0</td>\n",
              "      <td>40.0</td>\n",
              "      <td>43.0</td>\n",
              "      <td>34.0</td>\n",
              "      <td>46.0</td>\n",
              "    </tr>\n",
              "    <tr>\n",
              "      <th>the_palmer_house_hilton</th>\n",
              "      <td>45.0</td>\n",
              "      <td>26.0</td>\n",
              "      <td>37.0</td>\n",
              "      <td>40.0</td>\n",
              "      <td>35.0</td>\n",
              "      <td>44.0</td>\n",
              "    </tr>\n",
              "  </tbody>\n",
              "</table>\n",
              "</div>\n",
              "      <button class=\"colab-df-convert\" onclick=\"convertToInteractive('df-64fdec6e-c9ee-4641-90f5-f4f72448efe5')\"\n",
              "              title=\"Convert this dataframe to an interactive table.\"\n",
              "              style=\"display:none;\">\n",
              "        \n",
              "  <svg xmlns=\"http://www.w3.org/2000/svg\" height=\"24px\"viewBox=\"0 0 24 24\"\n",
              "       width=\"24px\">\n",
              "    <path d=\"M0 0h24v24H0V0z\" fill=\"none\"/>\n",
              "    <path d=\"M18.56 5.44l.94 2.06.94-2.06 2.06-.94-2.06-.94-.94-2.06-.94 2.06-2.06.94zm-11 1L8.5 8.5l.94-2.06 2.06-.94-2.06-.94L8.5 2.5l-.94 2.06-2.06.94zm10 10l.94 2.06.94-2.06 2.06-.94-2.06-.94-.94-2.06-.94 2.06-2.06.94z\"/><path d=\"M17.41 7.96l-1.37-1.37c-.4-.4-.92-.59-1.43-.59-.52 0-1.04.2-1.43.59L10.3 9.45l-7.72 7.72c-.78.78-.78 2.05 0 2.83L4 21.41c.39.39.9.59 1.41.59.51 0 1.02-.2 1.41-.59l7.78-7.78 2.81-2.81c.8-.78.8-2.07 0-2.86zM5.41 20L4 18.59l7.72-7.72 1.47 1.35L5.41 20z\"/>\n",
              "  </svg>\n",
              "      </button>\n",
              "      \n",
              "  <style>\n",
              "    .colab-df-container {\n",
              "      display:flex;\n",
              "      flex-wrap:wrap;\n",
              "      gap: 12px;\n",
              "    }\n",
              "\n",
              "    .colab-df-convert {\n",
              "      background-color: #E8F0FE;\n",
              "      border: none;\n",
              "      border-radius: 50%;\n",
              "      cursor: pointer;\n",
              "      display: none;\n",
              "      fill: #1967D2;\n",
              "      height: 32px;\n",
              "      padding: 0 0 0 0;\n",
              "      width: 32px;\n",
              "    }\n",
              "\n",
              "    .colab-df-convert:hover {\n",
              "      background-color: #E2EBFA;\n",
              "      box-shadow: 0px 1px 2px rgba(60, 64, 67, 0.3), 0px 1px 3px 1px rgba(60, 64, 67, 0.15);\n",
              "      fill: #174EA6;\n",
              "    }\n",
              "\n",
              "    [theme=dark] .colab-df-convert {\n",
              "      background-color: #3B4455;\n",
              "      fill: #D2E3FC;\n",
              "    }\n",
              "\n",
              "    [theme=dark] .colab-df-convert:hover {\n",
              "      background-color: #434B5C;\n",
              "      box-shadow: 0px 1px 3px 1px rgba(0, 0, 0, 0.15);\n",
              "      filter: drop-shadow(0px 1px 2px rgba(0, 0, 0, 0.3));\n",
              "      fill: #FFFFFF;\n",
              "    }\n",
              "  </style>\n",
              "\n",
              "      <script>\n",
              "        const buttonEl =\n",
              "          document.querySelector('#df-64fdec6e-c9ee-4641-90f5-f4f72448efe5 button.colab-df-convert');\n",
              "        buttonEl.style.display =\n",
              "          google.colab.kernel.accessAllowed ? 'block' : 'none';\n",
              "\n",
              "        async function convertToInteractive(key) {\n",
              "          const element = document.querySelector('#df-64fdec6e-c9ee-4641-90f5-f4f72448efe5');\n",
              "          const dataTable =\n",
              "            await google.colab.kernel.invokeFunction('convertToInteractive',\n",
              "                                                     [key], {});\n",
              "          if (!dataTable) return;\n",
              "\n",
              "          const docLinkHtml = 'Like what you see? Visit the ' +\n",
              "            '<a target=\"_blank\" href=https://colab.research.google.com/notebooks/data_table.ipynb>data table notebook</a>'\n",
              "            + ' to learn more about interactive tables.';\n",
              "          element.innerHTML = '';\n",
              "          dataTable['output_type'] = 'display_data';\n",
              "          await google.colab.output.renderOutput(dataTable, element);\n",
              "          const docLink = document.createElement('div');\n",
              "          docLink.innerHTML = docLinkHtml;\n",
              "          element.appendChild(docLink);\n",
              "        }\n",
              "      </script>\n",
              "    </div>\n",
              "  </div>\n",
              "  "
            ]
          },
          "metadata": {},
          "execution_count": 82
        }
      ]
    },
    {
      "cell_type": "markdown",
      "metadata": {
        "id": "SRg2vywT9IOv"
      },
      "source": [
        "We can create a bar plot to compare the hotels by each feature"
      ]
    },
    {
      "cell_type": "code",
      "metadata": {
        "colab": {
          "base_uri": "https://localhost:8080/",
          "height": 335
        },
        "id": "Z77JJX999IOv",
        "outputId": "8f2220fe-897c-4823-c19e-a33eeb4b08ef"
      },
      "source": [
        "scores.plot.bar()"
      ],
      "execution_count": 83,
      "outputs": [
        {
          "output_type": "execute_result",
          "data": {
            "text/plain": [
              "<matplotlib.axes._subplots.AxesSubplot at 0x7f2489efe450>"
            ]
          },
          "metadata": {},
          "execution_count": 83
        },
        {
          "output_type": "display_data",
          "data": {
            "text/plain": [
              "<Figure size 432x288 with 1 Axes>"
            ],
            "image/png": "[encoded data removed]"
          },
          "metadata": {
            "needs_background": "light"
          }
        }
      ]
    },
    {
      "cell_type": "markdown",
      "metadata": {
        "id": "Qr17VRMp9IOw"
      },
      "source": [
        "### Comparing scores with TripAdvisor\n",
        "\n",
        "Obtained scores can be compared with the feature ratings which were computed by TripAdvisor up to some time ago\n",
        "\n",
        "![hotel ratings](https://www.dropbox.com/s/pq6q9ugsaessow6/hotel-ratings.png?dl=1)"
      ]
    },
    {
      "cell_type": "markdown",
      "metadata": {
        "id": "3k9gENE_9IOw"
      },
      "source": [
        "## Activity 3: Classification of Reviews via Supervised Training\n",
        "\n",
        "**Goal:** classify user reviews of movies extracted from IMDB as positive or negative\n",
        "\n",
        "Contrarily to previous activities, this time we will train a classificaton model on existing reviews instead of using manually set keywords"
      ]
    },
    {
      "cell_type": "markdown",
      "metadata": {
        "id": "AXWxfW1Q9IOw"
      },
      "source": [
        "### Loading reviews\n",
        "\n",
        "We load reviews from a GZIP-compressed CSV file of 10,000 movie reviews, alternated between positive and negative"
      ]
    },
    {
      "cell_type": "code",
      "metadata": {
        "id": "gyb5edlH9IOx"
      },
      "source": [
        "download(\"acl-10k.csv.gz\", \"https://github.com/unibodatascience/BBS-TextMining/raw/3ad6643b698f652f200dfbf463a3cb49de8c0e9f/05%20-%20Opinion%20Mining%20with%20Python%20(part%201)/data/acl-10k.csv.gz\")"
      ],
      "execution_count": 84,
      "outputs": []
    },
    {
      "cell_type": "code",
      "metadata": {
        "id": "pUWkUCnB9IOy"
      },
      "source": [
        "reviews = pd.read_csv(\"acl-10k.csv.gz\", sep=\"\\t\", header=None, names=[\"label\", \"text\"], compression=\"gzip\")"
      ],
      "execution_count": 85,
      "outputs": []
    },
    {
      "cell_type": "code",
      "metadata": {
        "colab": {
          "base_uri": "https://localhost:8080/",
          "height": 228
        },
        "id": "gYE_BFzX9IOz",
        "outputId": "3bd94ea3-95fe-484d-ecbb-5718a44d007c"
      },
      "source": [
        "reviews.head()"
      ],
      "execution_count": 86,
      "outputs": [
        {
          "output_type": "execute_result",
          "data": {
            "text/plain": [
              "  label  \\\n",
              "0   pos   \n",
              "1   neg   \n",
              "2   pos   \n",
              "3   neg   \n",
              "4   pos   \n",
              "\n",
              "                                                                                                  text  \n",
              "0  Bromwell High is a cartoon comedy. It ran at the same time as some other programs about school l...  \n",
              "1  Story of a man who has unnatural feelings for a pig. Starts out with a opening scene that is a t...  \n",
              "2  If you like adult comedy cartoons, like South Park, then this is nearly a similar format about t...  \n",
              "3  Robert DeNiro plays the most unbelievably intelligent illiterate of all time. This movie is so w...  \n",
              "4  Bromwell High is nothing short of brilliant. Expertly scripted and perfectly delivered, this sea...  "
            ],
            "text/html": [
              "\n",
              "  <div id=\"df-3ab018d3-2a96-43c7-95d8-072214469dd8\">\n",
              "    <div class=\"colab-df-container\">\n",
              "      <div>\n",
              "<style scoped>\n",
              "    .dataframe tbody tr th:only-of-type {\n",
              "        vertical-align: middle;\n",
              "    }\n",
              "\n",
              "    .dataframe tbody tr th {\n",
              "        vertical-align: top;\n",
              "    }\n",
              "\n",
              "    .dataframe thead th {\n",
              "        text-align: right;\n",
              "    }\n",
              "</style>\n",
              "<table border=\"1\" class=\"dataframe\">\n",
              "  <thead>\n",
              "    <tr style=\"text-align: right;\">\n",
              "      <th></th>\n",
              "      <th>label</th>\n",
              "      <th>text</th>\n",
              "    </tr>\n",
              "  </thead>\n",
              "  <tbody>\n",
              "    <tr>\n",
              "      <th>0</th>\n",
              "      <td>pos</td>\n",
              "      <td>Bromwell High is a cartoon comedy. It ran at the same time as some other programs about school l...</td>\n",
              "    </tr>\n",
              "    <tr>\n",
              "      <th>1</th>\n",
              "      <td>neg</td>\n",
              "      <td>Story of a man who has unnatural feelings for a pig. Starts out with a opening scene that is a t...</td>\n",
              "    </tr>\n",
              "    <tr>\n",
              "      <th>2</th>\n",
              "      <td>pos</td>\n",
              "      <td>If you like adult comedy cartoons, like South Park, then this is nearly a similar format about t...</td>\n",
              "    </tr>\n",
              "    <tr>\n",
              "      <th>3</th>\n",
              "      <td>neg</td>\n",
              "      <td>Robert DeNiro plays the most unbelievably intelligent illiterate of all time. This movie is so w...</td>\n",
              "    </tr>\n",
              "    <tr>\n",
              "      <th>4</th>\n",
              "      <td>pos</td>\n",
              "      <td>Bromwell High is nothing short of brilliant. Expertly scripted and perfectly delivered, this sea...</td>\n",
              "    </tr>\n",
              "  </tbody>\n",
              "</table>\n",
              "</div>\n",
              "      <button class=\"colab-df-convert\" onclick=\"convertToInteractive('df-3ab018d3-2a96-43c7-95d8-072214469dd8')\"\n",
              "              title=\"Convert this dataframe to an interactive table.\"\n",
              "              style=\"display:none;\">\n",
              "        \n",
              "  <svg xmlns=\"http://www.w3.org/2000/svg\" height=\"24px\"viewBox=\"0 0 24 24\"\n",
              "       width=\"24px\">\n",
              "    <path d=\"M0 0h24v24H0V0z\" fill=\"none\"/>\n",
              "    <path d=\"M18.56 5.44l.94 2.06.94-2.06 2.06-.94-2.06-.94-.94-2.06-.94 2.06-2.06.94zm-11 1L8.5 8.5l.94-2.06 2.06-.94-2.06-.94L8.5 2.5l-.94 2.06-2.06.94zm10 10l.94 2.06.94-2.06 2.06-.94-2.06-.94-.94-2.06-.94 2.06-2.06.94z\"/><path d=\"M17.41 7.96l-1.37-1.37c-.4-.4-.92-.59-1.43-.59-.52 0-1.04.2-1.43.59L10.3 9.45l-7.72 7.72c-.78.78-.78 2.05 0 2.83L4 21.41c.39.39.9.59 1.41.59.51 0 1.02-.2 1.41-.59l7.78-7.78 2.81-2.81c.8-.78.8-2.07 0-2.86zM5.41 20L4 18.59l7.72-7.72 1.47 1.35L5.41 20z\"/>\n",
              "  </svg>\n",
              "      </button>\n",
              "      \n",
              "  <style>\n",
              "    .colab-df-container {\n",
              "      display:flex;\n",
              "      flex-wrap:wrap;\n",
              "      gap: 12px;\n",
              "    }\n",
              "\n",
              "    .colab-df-convert {\n",
              "      background-color: #E8F0FE;\n",
              "      border: none;\n",
              "      border-radius: 50%;\n",
              "      cursor: pointer;\n",
              "      display: none;\n",
              "      fill: #1967D2;\n",
              "      height: 32px;\n",
              "      padding: 0 0 0 0;\n",
              "      width: 32px;\n",
              "    }\n",
              "\n",
              "    .colab-df-convert:hover {\n",
              "      background-color: #E2EBFA;\n",
              "      box-shadow: 0px 1px 2px rgba(60, 64, 67, 0.3), 0px 1px 3px 1px rgba(60, 64, 67, 0.15);\n",
              "      fill: #174EA6;\n",
              "    }\n",
              "\n",
              "    [theme=dark] .colab-df-convert {\n",
              "      background-color: #3B4455;\n",
              "      fill: #D2E3FC;\n",
              "    }\n",
              "\n",
              "    [theme=dark] .colab-df-convert:hover {\n",
              "      background-color: #434B5C;\n",
              "      box-shadow: 0px 1px 3px 1px rgba(0, 0, 0, 0.15);\n",
              "      filter: drop-shadow(0px 1px 2px rgba(0, 0, 0, 0.3));\n",
              "      fill: #FFFFFF;\n",
              "    }\n",
              "  </style>\n",
              "\n",
              "      <script>\n",
              "        const buttonEl =\n",
              "          document.querySelector('#df-3ab018d3-2a96-43c7-95d8-072214469dd8 button.colab-df-convert');\n",
              "        buttonEl.style.display =\n",
              "          google.colab.kernel.accessAllowed ? 'block' : 'none';\n",
              "\n",
              "        async function convertToInteractive(key) {\n",
              "          const element = document.querySelector('#df-3ab018d3-2a96-43c7-95d8-072214469dd8');\n",
              "          const dataTable =\n",
              "            await google.colab.kernel.invokeFunction('convertToInteractive',\n",
              "                                                     [key], {});\n",
              "          if (!dataTable) return;\n",
              "\n",
              "          const docLinkHtml = 'Like what you see? Visit the ' +\n",
              "            '<a target=\"_blank\" href=https://colab.research.google.com/notebooks/data_table.ipynb>data table notebook</a>'\n",
              "            + ' to learn more about interactive tables.';\n",
              "          element.innerHTML = '';\n",
              "          dataTable['output_type'] = 'display_data';\n",
              "          await google.colab.output.renderOutput(dataTable, element);\n",
              "          const docLink = document.createElement('div');\n",
              "          docLink.innerHTML = docLinkHtml;\n",
              "          element.appendChild(docLink);\n",
              "        }\n",
              "      </script>\n",
              "    </div>\n",
              "  </div>\n",
              "  "
            ]
          },
          "metadata": {},
          "execution_count": 86
        }
      ]
    },
    {
      "cell_type": "markdown",
      "metadata": {
        "id": "U172DUlL9IO0"
      },
      "source": [
        "In order to validate the goodness of automated classification, we use the _hold-out_ approach: a part of the reviews is used to train a classifier, while the remaining ones are used to assess its accuracy\n",
        "\n",
        "Let's select the first half of the reviews as the _training set_ and the second half as the _test set_"
      ]
    },
    {
      "cell_type": "code",
      "metadata": {
        "id": "KxsrEToT9IO0"
      },
      "source": [
        "reviews_train = reviews[:5000] # first 5000 reviews\n",
        "reviews_test = reviews[5000:] # last 5000 reviews"
      ],
      "execution_count": 87,
      "outputs": []
    },
    {
      "cell_type": "markdown",
      "metadata": {
        "id": "nSndGPba9IO1"
      },
      "source": [
        "### Bag of Words and Vector Space Model\n",
        "\n",
        "In order to train and use a classifier on reviews, we have to define the _features_ which represent them\n",
        "\n",
        "With the _Bag of Words_ model we represent each review as the set of words contained in it, regardless of their order\n",
        "\n",
        "Once defined a set of known words, we can represent each review with a vector indicating for each word the number of occurrencies in the text; a set of reviews can be be consequently represented as a _document-term matrix_ with a row vector for each review"
      ]
    },
    {
      "cell_type": "markdown",
      "metadata": {
        "id": "f4Wvi4Uo9IO1"
      },
      "source": [
        "Let's define a list of example text documents..."
      ]
    },
    {
      "cell_type": "code",
      "metadata": {
        "id": "CV26ZAf49IO1"
      },
      "source": [
        "docs = [\n",
        "    \"the sky is blue\",\n",
        "    \"sky is blue and sky is beautiful\",\n",
        "    \"the beautiful sky is so blue\",\n",
        "    \"i love blue cheese\"\n",
        "]"
      ],
      "execution_count": 88,
      "outputs": []
    },
    {
      "cell_type": "markdown",
      "metadata": {
        "id": "MossE1cR9IO2"
      },
      "source": [
        "A `CountVectorizer` extracts a vector for each document with counts of distinct words in it: we start from creating an \"empty\" vectorizer"
      ]
    },
    {
      "cell_type": "code",
      "metadata": {
        "id": "WeRiIqIZ9IO2"
      },
      "source": [
        "from sklearn.feature_extraction.text import CountVectorizer\n",
        "vect = CountVectorizer()"
      ],
      "execution_count": 89,
      "outputs": []
    },
    {
      "cell_type": "markdown",
      "metadata": {
        "id": "Abjwprh_9IO3"
      },
      "source": [
        "We use the `fit_transform` method passing the list of documents to\n",
        "\n",
        "- \"build\" the vector space with dimensions corresponding to words within them (_fit_)\n",
        "- return the document-term matrix representing them (_transform_)"
      ]
    },
    {
      "cell_type": "code",
      "metadata": {
        "colab": {
          "base_uri": "https://localhost:8080/"
        },
        "id": "FaqE_cGv9IO3",
        "outputId": "a8adad6a-dd33-4345-e40e-c2a4aa34f7f6"
      },
      "source": [
        "dtm = vect.fit_transform(docs)\n",
        "dtm # 4 x 9 matrix, 4 rows represent the number of documents, 9 columns represent the number of distinct words found within them"
      ],
      "execution_count": 90,
      "outputs": [
        {
          "output_type": "execute_result",
          "data": {
            "text/plain": [
              "<4x9 sparse matrix of type '<class 'numpy.int64'>'\n",
              "\twith 18 stored elements in Compressed Sparse Row format>"
            ]
          },
          "metadata": {},
          "execution_count": 90
        }
      ]
    },
    {
      "cell_type": "markdown",
      "metadata": {
        "id": "sNyRpX6J9IO4"
      },
      "source": [
        "The obtained `dtm` matrix contains a row for each document and a column for each distinct word found within documents: we can obtain a list of the words \"learned\" by the vectorizer..."
      ]
    },
    {
      "cell_type": "code",
      "metadata": {
        "colab": {
          "base_uri": "https://localhost:8080/"
        },
        "id": "qsirTqtE9IO4",
        "outputId": "7dbbf6d0-2eb9-4eeb-cfaa-05987f6a7f69"
      },
      "source": [
        "vect.get_feature_names()"
      ],
      "execution_count": 91,
      "outputs": [
        {
          "output_type": "stream",
          "name": "stderr",
          "text": [
            "/usr/local/lib/python3.7/dist-packages/sklearn/utils/deprecation.py:87: FutureWarning: Function get_feature_names is deprecated; get_feature_names is deprecated in 1.0 and will be removed in 1.2. Please use get_feature_names_out instead.\n",
            "  warnings.warn(msg, category=FutureWarning)\n"
          ]
        },
        {
          "output_type": "execute_result",
          "data": {
            "text/plain": [
              "['and', 'beautiful', 'blue', 'cheese', 'is', 'love', 'sky', 'so', 'the']"
            ]
          },
          "metadata": {},
          "execution_count": 91
        }
      ]
    },
    {
      "cell_type": "markdown",
      "metadata": {
        "id": "_vDbPWyr9IO5"
      },
      "source": [
        "Let's view the matrix as a DataFrame, labeling rows and columns with corresponding documents and features"
      ]
    },
    {
      "cell_type": "code",
      "metadata": {
        "colab": {
          "base_uri": "https://localhost:8080/",
          "height": 251
        },
        "id": "C8xOa6zB9IO5",
        "outputId": "2b50a5ad-6a98-494e-97d7-be3464bd0938"
      },
      "source": [
        "pd.DataFrame(dtm.toarray(), index=docs, columns=vect.get_feature_names())"
      ],
      "execution_count": 92,
      "outputs": [
        {
          "output_type": "stream",
          "name": "stderr",
          "text": [
            "/usr/local/lib/python3.7/dist-packages/sklearn/utils/deprecation.py:87: FutureWarning: Function get_feature_names is deprecated; get_feature_names is deprecated in 1.0 and will be removed in 1.2. Please use get_feature_names_out instead.\n",
            "  warnings.warn(msg, category=FutureWarning)\n"
          ]
        },
        {
          "output_type": "execute_result",
          "data": {
            "text/plain": [
              "                                  and  beautiful  blue  cheese  is  love  sky  \\\n",
              "the sky is blue                     0          0     1       0   1     0    1   \n",
              "sky is blue and sky is beautiful    1          1     1       0   2     0    2   \n",
              "the beautiful sky is so blue        0          1     1       0   1     0    1   \n",
              "i love blue cheese                  0          0     1       1   0     1    0   \n",
              "\n",
              "                                  so  the  \n",
              "the sky is blue                    0    1  \n",
              "sky is blue and sky is beautiful   0    0  \n",
              "the beautiful sky is so blue       1    1  \n",
              "i love blue cheese                 0    0  "
            ],
            "text/html": [
              "\n",
              "  <div id=\"df-4163e382-59c6-4631-aafd-609e43279c9e\">\n",
              "    <div class=\"colab-df-container\">\n",
              "      <div>\n",
              "<style scoped>\n",
              "    .dataframe tbody tr th:only-of-type {\n",
              "        vertical-align: middle;\n",
              "    }\n",
              "\n",
              "    .dataframe tbody tr th {\n",
              "        vertical-align: top;\n",
              "    }\n",
              "\n",
              "    .dataframe thead th {\n",
              "        text-align: right;\n",
              "    }\n",
              "</style>\n",
              "<table border=\"1\" class=\"dataframe\">\n",
              "  <thead>\n",
              "    <tr style=\"text-align: right;\">\n",
              "      <th></th>\n",
              "      <th>and</th>\n",
              "      <th>beautiful</th>\n",
              "      <th>blue</th>\n",
              "      <th>cheese</th>\n",
              "      <th>is</th>\n",
              "      <th>love</th>\n",
              "      <th>sky</th>\n",
              "      <th>so</th>\n",
              "      <th>the</th>\n",
              "    </tr>\n",
              "  </thead>\n",
              "  <tbody>\n",
              "    <tr>\n",
              "      <th>the sky is blue</th>\n",
              "      <td>0</td>\n",
              "      <td>0</td>\n",
              "      <td>1</td>\n",
              "      <td>0</td>\n",
              "      <td>1</td>\n",
              "      <td>0</td>\n",
              "      <td>1</td>\n",
              "      <td>0</td>\n",
              "      <td>1</td>\n",
              "    </tr>\n",
              "    <tr>\n",
              "      <th>sky is blue and sky is beautiful</th>\n",
              "      <td>1</td>\n",
              "      <td>1</td>\n",
              "      <td>1</td>\n",
              "      <td>0</td>\n",
              "      <td>2</td>\n",
              "      <td>0</td>\n",
              "      <td>2</td>\n",
              "      <td>0</td>\n",
              "      <td>0</td>\n",
              "    </tr>\n",
              "    <tr>\n",
              "      <th>the beautiful sky is so blue</th>\n",
              "      <td>0</td>\n",
              "      <td>1</td>\n",
              "      <td>1</td>\n",
              "      <td>0</td>\n",
              "      <td>1</td>\n",
              "      <td>0</td>\n",
              "      <td>1</td>\n",
              "      <td>1</td>\n",
              "      <td>1</td>\n",
              "    </tr>\n",
              "    <tr>\n",
              "      <th>i love blue cheese</th>\n",
              "      <td>0</td>\n",
              "      <td>0</td>\n",
              "      <td>1</td>\n",
              "      <td>1</td>\n",
              "      <td>0</td>\n",
              "      <td>1</td>\n",
              "      <td>0</td>\n",
              "      <td>0</td>\n",
              "      <td>0</td>\n",
              "    </tr>\n",
              "  </tbody>\n",
              "</table>\n",
              "</div>\n",
              "      <button class=\"colab-df-convert\" onclick=\"convertToInteractive('df-4163e382-59c6-4631-aafd-609e43279c9e')\"\n",
              "              title=\"Convert this dataframe to an interactive table.\"\n",
              "              style=\"display:none;\">\n",
              "        \n",
              "  <svg xmlns=\"http://www.w3.org/2000/svg\" height=\"24px\"viewBox=\"0 0 24 24\"\n",
              "       width=\"24px\">\n",
              "    <path d=\"M0 0h24v24H0V0z\" fill=\"none\"/>\n",
              "    <path d=\"M18.56 5.44l.94 2.06.94-2.06 2.06-.94-2.06-.94-.94-2.06-.94 2.06-2.06.94zm-11 1L8.5 8.5l.94-2.06 2.06-.94-2.06-.94L8.5 2.5l-.94 2.06-2.06.94zm10 10l.94 2.06.94-2.06 2.06-.94-2.06-.94-.94-2.06-.94 2.06-2.06.94z\"/><path d=\"M17.41 7.96l-1.37-1.37c-.4-.4-.92-.59-1.43-.59-.52 0-1.04.2-1.43.59L10.3 9.45l-7.72 7.72c-.78.78-.78 2.05 0 2.83L4 21.41c.39.39.9.59 1.41.59.51 0 1.02-.2 1.41-.59l7.78-7.78 2.81-2.81c.8-.78.8-2.07 0-2.86zM5.41 20L4 18.59l7.72-7.72 1.47 1.35L5.41 20z\"/>\n",
              "  </svg>\n",
              "      </button>\n",
              "      \n",
              "  <style>\n",
              "    .colab-df-container {\n",
              "      display:flex;\n",
              "      flex-wrap:wrap;\n",
              "      gap: 12px;\n",
              "    }\n",
              "\n",
              "    .colab-df-convert {\n",
              "      background-color: #E8F0FE;\n",
              "      border: none;\n",
              "      border-radius: 50%;\n",
              "      cursor: pointer;\n",
              "      display: none;\n",
              "      fill: #1967D2;\n",
              "      height: 32px;\n",
              "      padding: 0 0 0 0;\n",
              "      width: 32px;\n",
              "    }\n",
              "\n",
              "    .colab-df-convert:hover {\n",
              "      background-color: #E2EBFA;\n",
              "      box-shadow: 0px 1px 2px rgba(60, 64, 67, 0.3), 0px 1px 3px 1px rgba(60, 64, 67, 0.15);\n",
              "      fill: #174EA6;\n",
              "    }\n",
              "\n",
              "    [theme=dark] .colab-df-convert {\n",
              "      background-color: #3B4455;\n",
              "      fill: #D2E3FC;\n",
              "    }\n",
              "\n",
              "    [theme=dark] .colab-df-convert:hover {\n",
              "      background-color: #434B5C;\n",
              "      box-shadow: 0px 1px 3px 1px rgba(0, 0, 0, 0.15);\n",
              "      filter: drop-shadow(0px 1px 2px rgba(0, 0, 0, 0.3));\n",
              "      fill: #FFFFFF;\n",
              "    }\n",
              "  </style>\n",
              "\n",
              "      <script>\n",
              "        const buttonEl =\n",
              "          document.querySelector('#df-4163e382-59c6-4631-aafd-609e43279c9e button.colab-df-convert');\n",
              "        buttonEl.style.display =\n",
              "          google.colab.kernel.accessAllowed ? 'block' : 'none';\n",
              "\n",
              "        async function convertToInteractive(key) {\n",
              "          const element = document.querySelector('#df-4163e382-59c6-4631-aafd-609e43279c9e');\n",
              "          const dataTable =\n",
              "            await google.colab.kernel.invokeFunction('convertToInteractive',\n",
              "                                                     [key], {});\n",
              "          if (!dataTable) return;\n",
              "\n",
              "          const docLinkHtml = 'Like what you see? Visit the ' +\n",
              "            '<a target=\"_blank\" href=https://colab.research.google.com/notebooks/data_table.ipynb>data table notebook</a>'\n",
              "            + ' to learn more about interactive tables.';\n",
              "          element.innerHTML = '';\n",
              "          dataTable['output_type'] = 'display_data';\n",
              "          await google.colab.output.renderOutput(dataTable, element);\n",
              "          const docLink = document.createElement('div');\n",
              "          docLink.innerHTML = docLinkHtml;\n",
              "          element.appendChild(docLink);\n",
              "        }\n",
              "      </script>\n",
              "    </div>\n",
              "  </div>\n",
              "  "
            ]
          },
          "metadata": {},
          "execution_count": 92
        }
      ]
    },
    {
      "cell_type": "markdown",
      "metadata": {
        "id": "SoJFPERf9IO6"
      },
      "source": [
        "As we can see, the matrix indicates for each document the number of occurrencies of each word"
      ]
    },
    {
      "cell_type": "markdown",
      "metadata": {
        "id": "BRH85pEK9IO6"
      },
      "source": [
        "Using the `transform` method, we can represent further documents in the same vector space"
      ]
    },
    {
      "cell_type": "code",
      "metadata": {
        "id": "MNvHGGTU9IO6"
      },
      "source": [
        "new_docs = [\"loving this blue sky today\"]\n",
        "new_dtm = vect.transform(new_docs)"
      ],
      "execution_count": 93,
      "outputs": []
    },
    {
      "cell_type": "code",
      "metadata": {
        "colab": {
          "base_uri": "https://localhost:8080/",
          "height": 146
        },
        "id": "k3ZWv5yl9IO7",
        "outputId": "bde8ea97-9213-418a-938d-da7a1863cfc1"
      },
      "source": [
        "pd.DataFrame(new_dtm.toarray(), index=new_docs, columns=vect.get_feature_names())"
      ],
      "execution_count": 94,
      "outputs": [
        {
          "output_type": "stream",
          "name": "stderr",
          "text": [
            "/usr/local/lib/python3.7/dist-packages/sklearn/utils/deprecation.py:87: FutureWarning: Function get_feature_names is deprecated; get_feature_names is deprecated in 1.0 and will be removed in 1.2. Please use get_feature_names_out instead.\n",
            "  warnings.warn(msg, category=FutureWarning)\n"
          ]
        },
        {
          "output_type": "execute_result",
          "data": {
            "text/plain": [
              "                            and  beautiful  blue  cheese  is  love  sky  so  \\\n",
              "loving this blue sky today    0          0     1       0   0     0    1   0   \n",
              "\n",
              "                            the  \n",
              "loving this blue sky today    0  "
            ],
            "text/html": [
              "\n",
              "  <div id=\"df-e304076f-e52d-4265-8b00-e4c723cda2a2\">\n",
              "    <div class=\"colab-df-container\">\n",
              "      <div>\n",
              "<style scoped>\n",
              "    .dataframe tbody tr th:only-of-type {\n",
              "        vertical-align: middle;\n",
              "    }\n",
              "\n",
              "    .dataframe tbody tr th {\n",
              "        vertical-align: top;\n",
              "    }\n",
              "\n",
              "    .dataframe thead th {\n",
              "        text-align: right;\n",
              "    }\n",
              "</style>\n",
              "<table border=\"1\" class=\"dataframe\">\n",
              "  <thead>\n",
              "    <tr style=\"text-align: right;\">\n",
              "      <th></th>\n",
              "      <th>and</th>\n",
              "      <th>beautiful</th>\n",
              "      <th>blue</th>\n",
              "      <th>cheese</th>\n",
              "      <th>is</th>\n",
              "      <th>love</th>\n",
              "      <th>sky</th>\n",
              "      <th>so</th>\n",
              "      <th>the</th>\n",
              "    </tr>\n",
              "  </thead>\n",
              "  <tbody>\n",
              "    <tr>\n",
              "      <th>loving this blue sky today</th>\n",
              "      <td>0</td>\n",
              "      <td>0</td>\n",
              "      <td>1</td>\n",
              "      <td>0</td>\n",
              "      <td>0</td>\n",
              "      <td>0</td>\n",
              "      <td>1</td>\n",
              "      <td>0</td>\n",
              "      <td>0</td>\n",
              "    </tr>\n",
              "  </tbody>\n",
              "</table>\n",
              "</div>\n",
              "      <button class=\"colab-df-convert\" onclick=\"convertToInteractive('df-e304076f-e52d-4265-8b00-e4c723cda2a2')\"\n",
              "              title=\"Convert this dataframe to an interactive table.\"\n",
              "              style=\"display:none;\">\n",
              "        \n",
              "  <svg xmlns=\"http://www.w3.org/2000/svg\" height=\"24px\"viewBox=\"0 0 24 24\"\n",
              "       width=\"24px\">\n",
              "    <path d=\"M0 0h24v24H0V0z\" fill=\"none\"/>\n",
              "    <path d=\"M18.56 5.44l.94 2.06.94-2.06 2.06-.94-2.06-.94-.94-2.06-.94 2.06-2.06.94zm-11 1L8.5 8.5l.94-2.06 2.06-.94-2.06-.94L8.5 2.5l-.94 2.06-2.06.94zm10 10l.94 2.06.94-2.06 2.06-.94-2.06-.94-.94-2.06-.94 2.06-2.06.94z\"/><path d=\"M17.41 7.96l-1.37-1.37c-.4-.4-.92-.59-1.43-.59-.52 0-1.04.2-1.43.59L10.3 9.45l-7.72 7.72c-.78.78-.78 2.05 0 2.83L4 21.41c.39.39.9.59 1.41.59.51 0 1.02-.2 1.41-.59l7.78-7.78 2.81-2.81c.8-.78.8-2.07 0-2.86zM5.41 20L4 18.59l7.72-7.72 1.47 1.35L5.41 20z\"/>\n",
              "  </svg>\n",
              "      </button>\n",
              "      \n",
              "  <style>\n",
              "    .colab-df-container {\n",
              "      display:flex;\n",
              "      flex-wrap:wrap;\n",
              "      gap: 12px;\n",
              "    }\n",
              "\n",
              "    .colab-df-convert {\n",
              "      background-color: #E8F0FE;\n",
              "      border: none;\n",
              "      border-radius: 50%;\n",
              "      cursor: pointer;\n",
              "      display: none;\n",
              "      fill: #1967D2;\n",
              "      height: 32px;\n",
              "      padding: 0 0 0 0;\n",
              "      width: 32px;\n",
              "    }\n",
              "\n",
              "    .colab-df-convert:hover {\n",
              "      background-color: #E2EBFA;\n",
              "      box-shadow: 0px 1px 2px rgba(60, 64, 67, 0.3), 0px 1px 3px 1px rgba(60, 64, 67, 0.15);\n",
              "      fill: #174EA6;\n",
              "    }\n",
              "\n",
              "    [theme=dark] .colab-df-convert {\n",
              "      background-color: #3B4455;\n",
              "      fill: #D2E3FC;\n",
              "    }\n",
              "\n",
              "    [theme=dark] .colab-df-convert:hover {\n",
              "      background-color: #434B5C;\n",
              "      box-shadow: 0px 1px 3px 1px rgba(0, 0, 0, 0.15);\n",
              "      filter: drop-shadow(0px 1px 2px rgba(0, 0, 0, 0.3));\n",
              "      fill: #FFFFFF;\n",
              "    }\n",
              "  </style>\n",
              "\n",
              "      <script>\n",
              "        const buttonEl =\n",
              "          document.querySelector('#df-e304076f-e52d-4265-8b00-e4c723cda2a2 button.colab-df-convert');\n",
              "        buttonEl.style.display =\n",
              "          google.colab.kernel.accessAllowed ? 'block' : 'none';\n",
              "\n",
              "        async function convertToInteractive(key) {\n",
              "          const element = document.querySelector('#df-e304076f-e52d-4265-8b00-e4c723cda2a2');\n",
              "          const dataTable =\n",
              "            await google.colab.kernel.invokeFunction('convertToInteractive',\n",
              "                                                     [key], {});\n",
              "          if (!dataTable) return;\n",
              "\n",
              "          const docLinkHtml = 'Like what you see? Visit the ' +\n",
              "            '<a target=\"_blank\" href=https://colab.research.google.com/notebooks/data_table.ipynb>data table notebook</a>'\n",
              "            + ' to learn more about interactive tables.';\n",
              "          element.innerHTML = '';\n",
              "          dataTable['output_type'] = 'display_data';\n",
              "          await google.colab.output.renderOutput(dataTable, element);\n",
              "          const docLink = document.createElement('div');\n",
              "          docLink.innerHTML = docLinkHtml;\n",
              "          element.appendChild(docLink);\n",
              "        }\n",
              "      </script>\n",
              "    </div>\n",
              "  </div>\n",
              "  "
            ]
          },
          "metadata": {},
          "execution_count": 94
        }
      ]
    },
    {
      "cell_type": "markdown",
      "metadata": {
        "id": "pdXF5wcL9IO-"
      },
      "source": [
        "Notice that some words of the new document (e.g. \"loving\") are lost in the representation, because they are not known in the vector space, but this is generally a minor problem if the vector space is built on many documents"
      ]
    },
    {
      "cell_type": "markdown",
      "metadata": {
        "id": "gEB3lHRu9IO_"
      },
      "source": [
        "### Training a classifier\n",
        "\n",
        "We use the vector space model to represent reviews passed to a classifier: let's create a new vector space..."
      ]
    },
    {
      "cell_type": "code",
      "metadata": {
        "id": "AaeFZphn9IPA"
      },
      "source": [
        "vect = CountVectorizer()"
      ],
      "execution_count": 95,
      "outputs": []
    },
    {
      "cell_type": "markdown",
      "metadata": {
        "id": "sxVsu06v9IPB"
      },
      "source": [
        "...and fit it to reviews of the training set only (as we assume to _not_ know in advance documents of the test set), obtaining the document-term matrix representing them"
      ]
    },
    {
      "cell_type": "code",
      "metadata": {
        "id": "IJ19rE7L9IPB"
      },
      "source": [
        "dtm_train = vect.fit_transform(reviews_train.text)"
      ],
      "execution_count": 96,
      "outputs": []
    },
    {
      "cell_type": "markdown",
      "metadata": {
        "id": "EvHsj5Jh9IPC"
      },
      "source": [
        "We can get the total count of extracted feature words..."
      ]
    },
    {
      "cell_type": "code",
      "metadata": {
        "colab": {
          "base_uri": "https://localhost:8080/"
        },
        "id": "xUqEZwSn9IPC",
        "outputId": "1540410e-df9f-4c75-84f7-54094d9a0523"
      },
      "source": [
        "len(vect.get_feature_names())"
      ],
      "execution_count": 97,
      "outputs": [
        {
          "output_type": "stream",
          "name": "stderr",
          "text": [
            "/usr/local/lib/python3.7/dist-packages/sklearn/utils/deprecation.py:87: FutureWarning: Function get_feature_names is deprecated; get_feature_names is deprecated in 1.0 and will be removed in 1.2. Please use get_feature_names_out instead.\n",
            "  warnings.warn(msg, category=FutureWarning)\n"
          ]
        },
        {
          "output_type": "execute_result",
          "data": {
            "text/plain": [
              "36272"
            ]
          },
          "metadata": {},
          "execution_count": 97
        }
      ]
    },
    {
      "cell_type": "markdown",
      "metadata": {
        "id": "Ao9puiLl9IPD"
      },
      "source": [
        "...and see some of them (they are in alphabetical order)"
      ]
    },
    {
      "cell_type": "code",
      "metadata": {
        "colab": {
          "base_uri": "https://localhost:8080/"
        },
        "id": "z8nvNkQL9IPD",
        "outputId": "60d36e1a-4a19-4ae7-ada3-60469f7f7f60"
      },
      "source": [
        "vect.get_feature_names()[1000:1005]"
      ],
      "execution_count": 98,
      "outputs": [
        {
          "output_type": "stream",
          "name": "stderr",
          "text": [
            "/usr/local/lib/python3.7/dist-packages/sklearn/utils/deprecation.py:87: FutureWarning: Function get_feature_names is deprecated; get_feature_names is deprecated in 1.0 and will be removed in 1.2. Please use get_feature_names_out instead.\n",
            "  warnings.warn(msg, category=FutureWarning)\n"
          ]
        },
        {
          "output_type": "execute_result",
          "data": {
            "text/plain": [
              "['affections', 'affects', 'afficinados', 'affiliated', 'affiliation']"
            ]
          },
          "metadata": {},
          "execution_count": 98
        }
      ]
    },
    {
      "cell_type": "markdown",
      "metadata": {
        "id": "HEbpXAp49IPE"
      },
      "source": [
        "The document-term matrix is _sparse_, meaning that most of its elements are zero. We can verify the ratio of non-zero elements by converting them to booleans and computing the mean value (all non-zero values become 1)"
      ]
    },
    {
      "cell_type": "code",
      "metadata": {
        "colab": {
          "base_uri": "https://localhost:8080/"
        },
        "id": "nQ4TYTLb9IPE",
        "outputId": "f3261cb4-87e4-4dcc-b92d-8113119fff70"
      },
      "source": [
        "dtm_train.astype(bool).mean()"
      ],
      "execution_count": 99,
      "outputs": [
        {
          "output_type": "execute_result",
          "data": {
            "text/plain": [
              "0.0037657973092192322"
            ]
          },
          "metadata": {},
          "execution_count": 99
        }
      ]
    },
    {
      "cell_type": "markdown",
      "metadata": {
        "id": "E-5Ij_zz9IPF"
      },
      "source": [
        "Such matrix is represented in memory with a space-efficient data structure which explicitly stores non-zero values only"
      ]
    },
    {
      "cell_type": "markdown",
      "metadata": {
        "id": "4MtpO5hF9IPF"
      },
      "source": [
        "Now we can train any classification model on the generated vectors: let's use for example logistic regression, SVM and some bayesian models.\n",
        "\n",
        "As for the vectorizer, we first create the \"empty\" model..."
      ]
    },
    {
      "cell_type": "code",
      "metadata": {
        "id": "UV3gt-5wxKxW"
      },
      "source": [
        "from sklearn.naive_bayes import MultinomialNB\n",
        "model = MultinomialNB() # Naive Bayes classifier for multinomial models"
      ],
      "execution_count": 100,
      "outputs": []
    },
    {
      "cell_type": "markdown",
      "metadata": {
        "id": "aDV_JuKf-ieE"
      },
      "source": [
        "The multinomial Naive Bayes classifier is suitable for classification with discrete features (e.g., word counts for text classification). The multinomial distribution normally requires integer feature counts. However, in practice, fractional counts such as tf-idf may also work."
      ]
    },
    {
      "cell_type": "code",
      "metadata": {
        "id": "Hd6GUeZ6yEno"
      },
      "source": [
        "from sklearn.naive_bayes import BernoulliNB # Naive Bayes classifier for multivariate Bernoulli models.\n",
        "# The default parameter named \"binarize\" will transform each input vector in a\n",
        "# binary vector based on the specified threshold (0.0)\n",
        "model = BernoulliNB(binarize=0.0) # if input > 0.0 then 1 else 0"
      ],
      "execution_count": 101,
      "outputs": []
    },
    {
      "cell_type": "markdown",
      "metadata": {
        "id": "gxyakhXB4z-v"
      },
      "source": [
        "Like MultinomialNB, this classifier is suitable for discrete data but it usually works better with few features and **short docs**. \n",
        "Indeed, this latter Naive Bayes model will perform better (Accuracy: $\\approx$ 77% vs $\\approx$ 81%) than the multinomial version since we are dealing with short texts.\n",
        "\n",
        "The difference is that while MultinomialNB works better with occurrence counts, BernoulliNB is designed for binary/boolean features! Since we have the frequency count for each term, we have to convert it into a binary variable but the BernoulliNB implementation already do this mapping!"
      ]
    },
    {
      "cell_type": "code",
      "metadata": {
        "id": "0rNKFlWZ09Ko"
      },
      "source": [
        "from sklearn.svm import SVC\n",
        "model = SVC() # default kernel is set to RBF"
      ],
      "execution_count": 102,
      "outputs": []
    },
    {
      "cell_type": "code",
      "metadata": {
        "id": "2dY6AnK61uJ6"
      },
      "source": [
        "from sklearn.svm import LinearSVC\n",
        "model = LinearSVC(max_iter = 5000) # max_iter param represents the maximum number of iterations performed by the optimization algorithm used to train the model by the sklearn library"
      ],
      "execution_count": 103,
      "outputs": []
    },
    {
      "cell_type": "markdown",
      "metadata": {
        "id": "BYCAZu2v4C1L"
      },
      "source": [
        "SVM generally does just as well on textual data without using kernels because the multidimensional space is so vast that the probability of finding a separation hyperplane is similar to that of finding a nonlinear separation.\n",
        "In other words you can notice that with or without a kernel the result does not change significantly."
      ]
    },
    {
      "cell_type": "markdown",
      "metadata": {
        "id": "Vc_lVIQnAS-A"
      },
      "source": [
        "Let's go on creating a logistic regression model..."
      ]
    },
    {
      "cell_type": "code",
      "metadata": {
        "id": "1jtFH7fT9IPF"
      },
      "source": [
        "from sklearn.linear_model import LogisticRegression\n",
        "model = LogisticRegression(solver=\"liblinear\") # liblinear is an optimization algorithm recommended for small volume (small number of rows) and high dimension (high number of columns) datasets"
      ],
      "execution_count": 104,
      "outputs": []
    },
    {
      "cell_type": "markdown",
      "metadata": {
        "id": "-8die02Q9IPH"
      },
      "source": [
        "...then we fit it to the training set, passing the vector representation of the reviews along with their actual labels"
      ]
    },
    {
      "cell_type": "code",
      "metadata": {
        "colab": {
          "base_uri": "https://localhost:8080/"
        },
        "id": "4yda-8J79IPH",
        "outputId": "981e5406-cdb6-4662-9b80-de77c07730b1"
      },
      "source": [
        "model.fit(dtm_train, reviews_train.label)"
      ],
      "execution_count": 105,
      "outputs": [
        {
          "output_type": "execute_result",
          "data": {
            "text/plain": [
              "LogisticRegression(solver='liblinear')"
            ]
          },
          "metadata": {},
          "execution_count": 105
        }
      ]
    },
    {
      "cell_type": "markdown",
      "metadata": {
        "id": "_TiT04TP9IPI"
      },
      "source": [
        "### Using the classifier\n",
        "\n",
        "Once the classifier is trained, we can use it to estimate labels for further reviews"
      ]
    },
    {
      "cell_type": "code",
      "metadata": {
        "id": "quyMXP829IPI"
      },
      "source": [
        "new_reviews = [\"What an awesome movie!\", \"It was really boring\"]"
      ],
      "execution_count": 106,
      "outputs": []
    },
    {
      "cell_type": "markdown",
      "metadata": {
        "id": "aN_eCM4V9IPI"
      },
      "source": [
        "We first have to use the vectorizer to extract their representation in the vector space..."
      ]
    },
    {
      "cell_type": "code",
      "metadata": {
        "id": "TImYsSgC9IPJ"
      },
      "source": [
        "dtm_new = vect.transform(new_reviews)"
      ],
      "execution_count": 107,
      "outputs": []
    },
    {
      "cell_type": "markdown",
      "metadata": {
        "id": "b1JhS_eH9IPJ"
      },
      "source": [
        "...then we use the `predict` method of the model to get corresponding predicted labels"
      ]
    },
    {
      "cell_type": "code",
      "metadata": {
        "colab": {
          "base_uri": "https://localhost:8080/"
        },
        "id": "uH3B9x-A9IPJ",
        "outputId": "6af0ae38-7a8f-4bb9-bbf8-1836b08fdaf1"
      },
      "source": [
        "model.predict(dtm_new)"
      ],
      "execution_count": 108,
      "outputs": [
        {
          "output_type": "execute_result",
          "data": {
            "text/plain": [
              "array(['pos', 'neg'], dtype=object)"
            ]
          },
          "metadata": {},
          "execution_count": 108
        }
      ]
    },
    {
      "cell_type": "markdown",
      "metadata": {
        "id": "s1XAeXqW9IPK"
      },
      "source": [
        "### Evaluating the classifier\n",
        "\n",
        "We can evaluate the goodness of the classifier by getting predicted labels for reviews in the test set and comparing them with known actual labels\n",
        "\n",
        "Given data and actual labels of the test set, the `score` method of the model computes the _accuracy_ as the ratio of test reviews for which classification is correct\n",
        "\n",
        "We first obtain the document-term matrix for the test set..."
      ]
    },
    {
      "cell_type": "code",
      "metadata": {
        "id": "5t3vPmrv9IPK"
      },
      "source": [
        "dtm_test = vect.transform(reviews_test.text)"
      ],
      "execution_count": 109,
      "outputs": []
    },
    {
      "cell_type": "markdown",
      "metadata": {
        "id": "8p-rRVcK9IPM"
      },
      "source": [
        "...then we call the `score` method on it and on the known labels"
      ]
    },
    {
      "cell_type": "code",
      "metadata": {
        "colab": {
          "base_uri": "https://localhost:8080/"
        },
        "id": "lUGulqIl9IPM",
        "outputId": "2e3ada3c-d28c-4ec0-985d-0607de8b9fac"
      },
      "source": [
        "model.score(dtm_test, reviews_test.label) # classification accuracy"
      ],
      "execution_count": 110,
      "outputs": [
        {
          "output_type": "execute_result",
          "data": {
            "text/plain": [
              "0.8188"
            ]
          },
          "metadata": {},
          "execution_count": 110
        }
      ]
    },
    {
      "cell_type": "markdown",
      "metadata": {
        "id": "7rSJPrJY9IPN"
      },
      "source": [
        "### Creating a pipeline\n",
        "\n",
        "In all the operations above (training, predicting, evaluating) we had to manually convert text reviews into their vector representations before passing them to the model\n",
        "\n",
        "scikit-learn allows to create _pipelines_, which combine a prediction model with a sequence of one or more pre-processing steps into a single object\n",
        "\n",
        "We first create the pipeline by specifying its components, in this case the vectorizer and the actual classifier; each component has a name, allowing it to be referenced after creation"
      ]
    },
    {
      "cell_type": "code",
      "metadata": {
        "id": "vGRxjDKU9IPO"
      },
      "source": [
        "from sklearn.pipeline import Pipeline\n",
        "model = Pipeline([\n",
        "    (\"vectorizer\", CountVectorizer()), # Step 1\n",
        "    (\"classifier\", LogisticRegression(max_iter=500)) # Step 2\n",
        "])"
      ],
      "execution_count": 111,
      "outputs": []
    },
    {
      "cell_type": "markdown",
      "metadata": {
        "id": "eS6yzG6m9IPO"
      },
      "source": [
        "Now, we can use the pipeline as we used the model above, but passing directly the text of reviews, as the vectorizer is automatically fit to reviews used to fit the model and used to transform all reviews passed to the classifier"
      ]
    },
    {
      "cell_type": "code",
      "metadata": {
        "id": "WXol6wfi9IPP"
      },
      "source": [
        "model.fit(reviews_train.text, reviews_train.label);\n",
        "# \";\" is used to suppress output"
      ],
      "execution_count": 112,
      "outputs": []
    },
    {
      "cell_type": "code",
      "metadata": {
        "colab": {
          "base_uri": "https://localhost:8080/"
        },
        "id": "3U9h8m8L9IPP",
        "outputId": "c957c309-3ebf-4694-fa7e-87e5152a25fd"
      },
      "source": [
        "model.predict(new_reviews)"
      ],
      "execution_count": 113,
      "outputs": [
        {
          "output_type": "execute_result",
          "data": {
            "text/plain": [
              "array(['pos', 'neg'], dtype=object)"
            ]
          },
          "metadata": {},
          "execution_count": 113
        }
      ]
    },
    {
      "cell_type": "code",
      "metadata": {
        "colab": {
          "base_uri": "https://localhost:8080/"
        },
        "id": "1EYlXN3g9IPQ",
        "outputId": "b435e7cd-aea9-4c34-a502-27c986da209f"
      },
      "source": [
        "model.score(reviews_test.text, reviews_test.label)"
      ],
      "execution_count": 114,
      "outputs": [
        {
          "output_type": "execute_result",
          "data": {
            "text/plain": [
              "0.8186"
            ]
          },
          "metadata": {},
          "execution_count": 114
        }
      ]
    },
    {
      "cell_type": "markdown",
      "metadata": {
        "id": "9L8flQBB9IPS"
      },
      "source": [
        "We obtain the same result as above, but with cleaner code"
      ]
    },
    {
      "cell_type": "markdown",
      "metadata": {
        "id": "c_s0lFHW9IPS"
      },
      "source": [
        "### Applying tf.idf term weighting\n",
        "\n",
        "The `CountVectorizer` generates vectors with simple counts of occurrencies of terms within a document, without considering the relative importance of such terms with respect to each other\n",
        "\n",
        "The _tf.idf_ term weighting scheme uses a formula with two factors to better evaluate the weight of each term in each document\n",
        "\n",
        "- The _tf_ factor evaluates the _local_ importance of a term in a document: it is usually the usual count of occurrencies of the term (or its logarithm)\n",
        "- The _idf_ factor evaluates the _global_ importance of a term in the set of documents: it is higher for terms appearing in fewer documents, as they are supposed to be more specific\n",
        "\n",
        "In order to use tf.idf in place of raw counts of occurrencies, we simply use `TfidfVectorizer` in place of `CountVectorizer`"
      ]
    },
    {
      "cell_type": "markdown",
      "metadata": {
        "id": "dTWh-mql9IPS"
      },
      "source": [
        "Let's see for example the tf.idf applied to example documents used above..."
      ]
    },
    {
      "cell_type": "code",
      "metadata": {
        "colab": {
          "base_uri": "https://localhost:8080/",
          "height": 251
        },
        "id": "1adRlwwO9IPS",
        "outputId": "2ace24e6-603d-4cfd-fdba-d2599d4537cb"
      },
      "source": [
        "from sklearn.feature_extraction.text import TfidfVectorizer\n",
        "vect = TfidfVectorizer()\n",
        "dtm = vect.fit_transform(docs)\n",
        "pd.DataFrame(dtm.toarray(), index=docs, columns=vect.get_feature_names())"
      ],
      "execution_count": 115,
      "outputs": [
        {
          "output_type": "stream",
          "name": "stderr",
          "text": [
            "/usr/local/lib/python3.7/dist-packages/sklearn/utils/deprecation.py:87: FutureWarning: Function get_feature_names is deprecated; get_feature_names is deprecated in 1.0 and will be removed in 1.2. Please use get_feature_names_out instead.\n",
            "  warnings.warn(msg, category=FutureWarning)\n"
          ]
        },
        {
          "output_type": "execute_result",
          "data": {
            "text/plain": [
              "                                    and  beautiful   blue  cheese     is  \\\n",
              "the sky is blue                   0.000      0.000  0.399   0.000  0.488   \n",
              "sky is blue and sky is beautiful  0.441      0.347  0.230   0.000  0.562   \n",
              "the beautiful sky is so blue      0.000      0.432  0.286   0.000  0.350   \n",
              "i love blue cheese                0.000      0.000  0.346   0.663  0.000   \n",
              "\n",
              "                                   love    sky     so    the  \n",
              "the sky is blue                   0.000  0.488  0.000  0.603  \n",
              "sky is blue and sky is beautiful  0.000  0.562  0.000  0.000  \n",
              "the beautiful sky is so blue      0.000  0.350  0.548  0.432  \n",
              "i love blue cheese                0.663  0.000  0.000  0.000  "
            ],
            "text/html": [
              "\n",
              "  <div id=\"df-4e35e453-9f1b-4b61-8ad5-43a6b74a4975\">\n",
              "    <div class=\"colab-df-container\">\n",
              "      <div>\n",
              "<style scoped>\n",
              "    .dataframe tbody tr th:only-of-type {\n",
              "        vertical-align: middle;\n",
              "    }\n",
              "\n",
              "    .dataframe tbody tr th {\n",
              "        vertical-align: top;\n",
              "    }\n",
              "\n",
              "    .dataframe thead th {\n",
              "        text-align: right;\n",
              "    }\n",
              "</style>\n",
              "<table border=\"1\" class=\"dataframe\">\n",
              "  <thead>\n",
              "    <tr style=\"text-align: right;\">\n",
              "      <th></th>\n",
              "      <th>and</th>\n",
              "      <th>beautiful</th>\n",
              "      <th>blue</th>\n",
              "      <th>cheese</th>\n",
              "      <th>is</th>\n",
              "      <th>love</th>\n",
              "      <th>sky</th>\n",
              "      <th>so</th>\n",
              "      <th>the</th>\n",
              "    </tr>\n",
              "  </thead>\n",
              "  <tbody>\n",
              "    <tr>\n",
              "      <th>the sky is blue</th>\n",
              "      <td>0.000</td>\n",
              "      <td>0.000</td>\n",
              "      <td>0.399</td>\n",
              "      <td>0.000</td>\n",
              "      <td>0.488</td>\n",
              "      <td>0.000</td>\n",
              "      <td>0.488</td>\n",
              "      <td>0.000</td>\n",
              "      <td>0.603</td>\n",
              "    </tr>\n",
              "    <tr>\n",
              "      <th>sky is blue and sky is beautiful</th>\n",
              "      <td>0.441</td>\n",
              "      <td>0.347</td>\n",
              "      <td>0.230</td>\n",
              "      <td>0.000</td>\n",
              "      <td>0.562</td>\n",
              "      <td>0.000</td>\n",
              "      <td>0.562</td>\n",
              "      <td>0.000</td>\n",
              "      <td>0.000</td>\n",
              "    </tr>\n",
              "    <tr>\n",
              "      <th>the beautiful sky is so blue</th>\n",
              "      <td>0.000</td>\n",
              "      <td>0.432</td>\n",
              "      <td>0.286</td>\n",
              "      <td>0.000</td>\n",
              "      <td>0.350</td>\n",
              "      <td>0.000</td>\n",
              "      <td>0.350</td>\n",
              "      <td>0.548</td>\n",
              "      <td>0.432</td>\n",
              "    </tr>\n",
              "    <tr>\n",
              "      <th>i love blue cheese</th>\n",
              "      <td>0.000</td>\n",
              "      <td>0.000</td>\n",
              "      <td>0.346</td>\n",
              "      <td>0.663</td>\n",
              "      <td>0.000</td>\n",
              "      <td>0.663</td>\n",
              "      <td>0.000</td>\n",
              "      <td>0.000</td>\n",
              "      <td>0.000</td>\n",
              "    </tr>\n",
              "  </tbody>\n",
              "</table>\n",
              "</div>\n",
              "      <button class=\"colab-df-convert\" onclick=\"convertToInteractive('df-4e35e453-9f1b-4b61-8ad5-43a6b74a4975')\"\n",
              "              title=\"Convert this dataframe to an interactive table.\"\n",
              "              style=\"display:none;\">\n",
              "        \n",
              "  <svg xmlns=\"http://www.w3.org/2000/svg\" height=\"24px\"viewBox=\"0 0 24 24\"\n",
              "       width=\"24px\">\n",
              "    <path d=\"M0 0h24v24H0V0z\" fill=\"none\"/>\n",
              "    <path d=\"M18.56 5.44l.94 2.06.94-2.06 2.06-.94-2.06-.94-.94-2.06-.94 2.06-2.06.94zm-11 1L8.5 8.5l.94-2.06 2.06-.94-2.06-.94L8.5 2.5l-.94 2.06-2.06.94zm10 10l.94 2.06.94-2.06 2.06-.94-2.06-.94-.94-2.06-.94 2.06-2.06.94z\"/><path d=\"M17.41 7.96l-1.37-1.37c-.4-.4-.92-.59-1.43-.59-.52 0-1.04.2-1.43.59L10.3 9.45l-7.72 7.72c-.78.78-.78 2.05 0 2.83L4 21.41c.39.39.9.59 1.41.59.51 0 1.02-.2 1.41-.59l7.78-7.78 2.81-2.81c.8-.78.8-2.07 0-2.86zM5.41 20L4 18.59l7.72-7.72 1.47 1.35L5.41 20z\"/>\n",
              "  </svg>\n",
              "      </button>\n",
              "      \n",
              "  <style>\n",
              "    .colab-df-container {\n",
              "      display:flex;\n",
              "      flex-wrap:wrap;\n",
              "      gap: 12px;\n",
              "    }\n",
              "\n",
              "    .colab-df-convert {\n",
              "      background-color: #E8F0FE;\n",
              "      border: none;\n",
              "      border-radius: 50%;\n",
              "      cursor: pointer;\n",
              "      display: none;\n",
              "      fill: #1967D2;\n",
              "      height: 32px;\n",
              "      padding: 0 0 0 0;\n",
              "      width: 32px;\n",
              "    }\n",
              "\n",
              "    .colab-df-convert:hover {\n",
              "      background-color: #E2EBFA;\n",
              "      box-shadow: 0px 1px 2px rgba(60, 64, 67, 0.3), 0px 1px 3px 1px rgba(60, 64, 67, 0.15);\n",
              "      fill: #174EA6;\n",
              "    }\n",
              "\n",
              "    [theme=dark] .colab-df-convert {\n",
              "      background-color: #3B4455;\n",
              "      fill: #D2E3FC;\n",
              "    }\n",
              "\n",
              "    [theme=dark] .colab-df-convert:hover {\n",
              "      background-color: #434B5C;\n",
              "      box-shadow: 0px 1px 3px 1px rgba(0, 0, 0, 0.15);\n",
              "      filter: drop-shadow(0px 1px 2px rgba(0, 0, 0, 0.3));\n",
              "      fill: #FFFFFF;\n",
              "    }\n",
              "  </style>\n",
              "\n",
              "      <script>\n",
              "        const buttonEl =\n",
              "          document.querySelector('#df-4e35e453-9f1b-4b61-8ad5-43a6b74a4975 button.colab-df-convert');\n",
              "        buttonEl.style.display =\n",
              "          google.colab.kernel.accessAllowed ? 'block' : 'none';\n",
              "\n",
              "        async function convertToInteractive(key) {\n",
              "          const element = document.querySelector('#df-4e35e453-9f1b-4b61-8ad5-43a6b74a4975');\n",
              "          const dataTable =\n",
              "            await google.colab.kernel.invokeFunction('convertToInteractive',\n",
              "                                                     [key], {});\n",
              "          if (!dataTable) return;\n",
              "\n",
              "          const docLinkHtml = 'Like what you see? Visit the ' +\n",
              "            '<a target=\"_blank\" href=https://colab.research.google.com/notebooks/data_table.ipynb>data table notebook</a>'\n",
              "            + ' to learn more about interactive tables.';\n",
              "          element.innerHTML = '';\n",
              "          dataTable['output_type'] = 'display_data';\n",
              "          await google.colab.output.renderOutput(dataTable, element);\n",
              "          const docLink = document.createElement('div');\n",
              "          docLink.innerHTML = docLinkHtml;\n",
              "          element.appendChild(docLink);\n",
              "        }\n",
              "      </script>\n",
              "    </div>\n",
              "  </div>\n",
              "  "
            ]
          },
          "metadata": {},
          "execution_count": 115
        }
      ]
    },
    {
      "cell_type": "markdown",
      "metadata": {
        "id": "_TC1RFxK9IPU"
      },
      "source": [
        "We can see e.g. in the last document that \"cheese\" has an higher importance than \"blue\", being a less common and thus more discriminating word"
      ]
    },
    {
      "cell_type": "markdown",
      "metadata": {
        "id": "q6DC0EG49IPU"
      },
      "source": [
        "We employ tf.idf in our classification pipeline by replacing `CountVectorizer`"
      ]
    },
    {
      "cell_type": "code",
      "metadata": {
        "id": "ByQMYMeM9IPU"
      },
      "source": [
        "model = Pipeline([\n",
        "    (\"vectorizer\", TfidfVectorizer()),\n",
        "    (\"classifier\", LogisticRegression())\n",
        "])"
      ],
      "execution_count": 116,
      "outputs": []
    },
    {
      "cell_type": "markdown",
      "metadata": {
        "id": "7C2jNFgP9IPW"
      },
      "source": [
        "As above, we fit the model on the training set and then evaluate it on the test set"
      ]
    },
    {
      "cell_type": "code",
      "metadata": {
        "id": "GmSW_6aS9IPW"
      },
      "source": [
        "model.fit(reviews_train.text, reviews_train.label);"
      ],
      "execution_count": 117,
      "outputs": []
    },
    {
      "cell_type": "code",
      "metadata": {
        "colab": {
          "base_uri": "https://localhost:8080/"
        },
        "id": "YrIM5UFU9IPX",
        "outputId": "16bba1b0-1476-4259-fa03-148518486568"
      },
      "source": [
        "model.score(reviews_test.text, reviews_test.label)"
      ],
      "execution_count": 118,
      "outputs": [
        {
          "output_type": "execute_result",
          "data": {
            "text/plain": [
              "0.8412"
            ]
          },
          "metadata": {},
          "execution_count": 118
        }
      ]
    },
    {
      "cell_type": "markdown",
      "metadata": {
        "id": "PRfG6tH99IPY"
      },
      "source": [
        "### Looking for the most influential words\n",
        "\n",
        "Logistic regression computes the likelihood of a review being positive (or negative) according to the following formula:\n",
        "$$ h_\\theta(\\mathbf{x})=\\frac{1}{1+\\exp\\left(-\\theta_0-\\sum_{i=1}^n{\\theta_i\\cdot x_i}\\right)} $$\n",
        "\n",
        "Every $x_i$ variable indicates the element $i$ of an input vector (i.e. the weight of the $i$-th word in the dictionary), while $\\theta_i$ is the model parameter indicating how much the word contributes to the review being estimated as positive or negative\n",
        "\n",
        "By looking at values of the parameters, we can find out which words contribute the most at the reviews being labeled as positive or negative"
      ]
    },
    {
      "cell_type": "markdown",
      "metadata": {
        "id": "1e7YGzS49IPZ"
      },
      "source": [
        "The $\\theta_i$ parameters are available as the `coef_` attribute of the `LogisticRegression` model, we get it from the pipeline and print some values"
      ]
    },
    {
      "cell_type": "code",
      "metadata": {
        "colab": {
          "base_uri": "https://localhost:8080/"
        },
        "id": "GbbzwNtK9IPZ",
        "outputId": "35bf3791-ab2a-4a4a-d94d-3e6c85a3f350"
      },
      "source": [
        "model_classifier = model.named_steps[\"classifier\"]\n",
        "\n",
        "model_classifier.coef_[0, :4]"
      ],
      "execution_count": 119,
      "outputs": [
        {
          "output_type": "execute_result",
          "data": {
            "text/plain": [
              "array([-0.05094521, -0.01434774, -0.0256676 ,  0.04577293])"
            ]
          },
          "metadata": {},
          "execution_count": 119
        }
      ]
    },
    {
      "cell_type": "markdown",
      "metadata": {
        "id": "TUAtgdBA9IPa"
      },
      "source": [
        "In order to make sense of the values, we get from the `TfidfVectorizer` the names of features and match them to values using a series"
      ]
    },
    {
      "cell_type": "code",
      "metadata": {
        "id": "yPsPGgMQ9IPa",
        "colab": {
          "base_uri": "https://localhost:8080/"
        },
        "outputId": "62abb48c-a549-45ea-c624-3dd18c13eb7f"
      },
      "source": [
        "model_vectorizer = model.named_steps[\"vectorizer\"]\n",
        "model_coefs = pd.Series(model_classifier.coef_[0],\n",
        "                        model_vectorizer.get_feature_names())"
      ],
      "execution_count": 120,
      "outputs": [
        {
          "output_type": "stream",
          "name": "stderr",
          "text": [
            "/usr/local/lib/python3.7/dist-packages/sklearn/utils/deprecation.py:87: FutureWarning: Function get_feature_names is deprecated; get_feature_names is deprecated in 1.0 and will be removed in 1.2. Please use get_feature_names_out instead.\n",
            "  warnings.warn(msg, category=FutureWarning)\n"
          ]
        }
      ]
    },
    {
      "cell_type": "markdown",
      "metadata": {
        "id": "qXPsMfL_9IPb"
      },
      "source": [
        "We sort the values in ascending order"
      ]
    },
    {
      "cell_type": "code",
      "metadata": {
        "id": "2EiVr4aC9IPc"
      },
      "source": [
        "model_coefs.sort_values(inplace=True) # inplace=True let us sort the original pandas Series stored in model_coefs variable. Otherwise sort_values would return a copy of the sorted series without sorting the original one."
      ],
      "execution_count": 121,
      "outputs": []
    },
    {
      "cell_type": "markdown",
      "metadata": {
        "id": "AMLV2Y5O9IPc"
      },
      "source": [
        "Now at the top of the series we find the terms with the lowest coefficients, which make the model decision most tend to the \"negative\" class"
      ]
    },
    {
      "cell_type": "code",
      "metadata": {
        "colab": {
          "base_uri": "https://localhost:8080/"
        },
        "id": "Q0ZpIVzE9IPd",
        "outputId": "31f83e7a-2fb7-4f9b-e04e-c05e8de51423"
      },
      "source": [
        "model_coefs.head(5)"
      ],
      "execution_count": 122,
      "outputs": [
        {
          "output_type": "execute_result",
          "data": {
            "text/plain": [
              "bad      -5.200\n",
              "worst    -4.123\n",
              "awful    -2.801\n",
              "waste    -2.771\n",
              "boring   -2.760\n",
              "dtype: float64"
            ]
          },
          "metadata": {},
          "execution_count": 122
        }
      ]
    },
    {
      "cell_type": "markdown",
      "metadata": {
        "id": "idX8RZY09IPe"
      },
      "source": [
        "...while at the bottom of the series we find terms with the highest coefficients, whose presence makes the review positive"
      ]
    },
    {
      "cell_type": "code",
      "metadata": {
        "colab": {
          "base_uri": "https://localhost:8080/"
        },
        "id": "8ThCVy2X9IPe",
        "outputId": "5715eda7-d737-4e7d-a22b-2317dbd1a562"
      },
      "source": [
        "model_coefs.tail(5)"
      ],
      "execution_count": 123,
      "outputs": [
        {
          "output_type": "execute_result",
          "data": {
            "text/plain": [
              "and      2.434\n",
              "well     2.517\n",
              "love     2.688\n",
              "best     3.217\n",
              "great    4.528\n",
              "dtype: float64"
            ]
          },
          "metadata": {},
          "execution_count": 123
        }
      ]
    },
    {
      "cell_type": "markdown",
      "metadata": {
        "id": "qeg3twi49IPf"
      },
      "source": [
        "In this way, we can generally find out the most important terms in deciding the orientation of a review"
      ]
    },
    {
      "cell_type": "markdown",
      "metadata": {
        "id": "pULaHu9z9IPf"
      },
      "source": [
        "### Regularization of parameters\n",
        "\n",
        "The logistic regression model uses _regularization_ to prevent parameters from having very high absolute values, which may lead to overfitting\n",
        "\n",
        "The C parameter controls the regularization strength: smaller values lead to stronger regularization, while larger values make the model fit more to training data\n",
        "\n",
        "This parameter can be tuned to improve the model accuracy"
      ]
    },
    {
      "cell_type": "markdown",
      "metadata": {
        "id": "78n6wGbC9IPg"
      },
      "source": [
        "Let's try for example to raise the C parameter from its default value 1 to 10, thus lowering the regularization"
      ]
    },
    {
      "cell_type": "code",
      "metadata": {
        "id": "flxU_m1R9IPg"
      },
      "source": [
        "model = Pipeline([\n",
        "    (\"vectorizer\", TfidfVectorizer()),\n",
        "    (\"classifier\", LogisticRegression(C=10))\n",
        "])"
      ],
      "execution_count": 124,
      "outputs": []
    },
    {
      "cell_type": "code",
      "metadata": {
        "id": "qNlSMPQt9IPh"
      },
      "source": [
        "model.fit(reviews_train.text, reviews_train.label);"
      ],
      "execution_count": 125,
      "outputs": []
    },
    {
      "cell_type": "code",
      "metadata": {
        "colab": {
          "base_uri": "https://localhost:8080/"
        },
        "id": "mQNnmdaj9IPh",
        "outputId": "05c14778-f698-48ed-ccda-071490fa01b5"
      },
      "source": [
        "model.score(reviews_test.text, reviews_test.label)"
      ],
      "execution_count": 126,
      "outputs": [
        {
          "output_type": "execute_result",
          "data": {
            "text/plain": [
              "0.829"
            ]
          },
          "metadata": {},
          "execution_count": 126
        }
      ]
    },
    {
      "cell_type": "markdown",
      "metadata": {
        "id": "ePLEJs_79IPi"
      },
      "source": [
        "In this case accuracy slightly drops, possibly due to overfitting"
      ]
    },
    {
      "cell_type": "markdown",
      "metadata": {
        "id": "72a-QgZt9IPi"
      },
      "source": [
        "If we check for model parameters, their absolute value are now higher"
      ]
    },
    {
      "cell_type": "code",
      "metadata": {
        "id": "2613CtoE9IPi",
        "colab": {
          "base_uri": "https://localhost:8080/"
        },
        "outputId": "adaa1e64-5ef7-4684-b552-13d3be7d1221"
      },
      "source": [
        "model_classifier = model.named_steps[\"classifier\"]\n",
        "model_vectorizer = model.named_steps[\"vectorizer\"]\n",
        "model_coefs = pd.Series(model_classifier.coef_[0],\n",
        "                        model_vectorizer.get_feature_names())\n",
        "model_coefs.sort_values(inplace=True)"
      ],
      "execution_count": 127,
      "outputs": [
        {
          "output_type": "stream",
          "name": "stderr",
          "text": [
            "/usr/local/lib/python3.7/dist-packages/sklearn/utils/deprecation.py:87: FutureWarning: Function get_feature_names is deprecated; get_feature_names is deprecated in 1.0 and will be removed in 1.2. Please use get_feature_names_out instead.\n",
            "  warnings.warn(msg, category=FutureWarning)\n"
          ]
        }
      ]
    },
    {
      "cell_type": "code",
      "metadata": {
        "colab": {
          "base_uri": "https://localhost:8080/"
        },
        "id": "a5Qb8jwP9IPk",
        "outputId": "e59ca867-5a6f-4dbf-db48-249f23cb8676"
      },
      "source": [
        "model_coefs.head(3)"
      ],
      "execution_count": 128,
      "outputs": [
        {
          "output_type": "execute_result",
          "data": {
            "text/plain": [
              "worst   -9.775\n",
              "bad     -9.499\n",
              "awful   -6.673\n",
              "dtype: float64"
            ]
          },
          "metadata": {},
          "execution_count": 128
        }
      ]
    },
    {
      "cell_type": "code",
      "metadata": {
        "colab": {
          "base_uri": "https://localhost:8080/"
        },
        "id": "7D1bH_gF9IPl",
        "outputId": "6f244896-1db8-482f-add5-81731b6ba817"
      },
      "source": [
        "model_coefs.tail(3)"
      ],
      "execution_count": 129,
      "outputs": [
        {
          "output_type": "execute_result",
          "data": {
            "text/plain": [
              "perfect    6.164\n",
              "best       7.489\n",
              "great      8.936\n",
              "dtype: float64"
            ]
          },
          "metadata": {},
          "execution_count": 129
        }
      ]
    },
    {
      "cell_type": "markdown",
      "metadata": {
        "id": "b-9mDJ7Z9IPm"
      },
      "source": [
        "### Reducing the dimensionality\n",
        "\n",
        "Considering the number of distinct terms across all training reviews, the dimensionality of the vector space is very high"
      ]
    },
    {
      "cell_type": "code",
      "metadata": {
        "colab": {
          "base_uri": "https://localhost:8080/"
        },
        "id": "BBGZBkZE9IPm",
        "outputId": "7b8c3cd4-d3d9-4353-b034-806ae2a83e0d"
      },
      "source": [
        "len(model_vectorizer.get_feature_names())"
      ],
      "execution_count": 130,
      "outputs": [
        {
          "output_type": "stream",
          "name": "stderr",
          "text": [
            "/usr/local/lib/python3.7/dist-packages/sklearn/utils/deprecation.py:87: FutureWarning: Function get_feature_names is deprecated; get_feature_names is deprecated in 1.0 and will be removed in 1.2. Please use get_feature_names_out instead.\n",
            "  warnings.warn(msg, category=FutureWarning)\n"
          ]
        },
        {
          "output_type": "execute_result",
          "data": {
            "text/plain": [
              "36272"
            ]
          },
          "metadata": {},
          "execution_count": 130
        }
      ]
    },
    {
      "cell_type": "markdown",
      "metadata": {
        "id": "rLdnbUD69IPm"
      },
      "source": [
        "Methods exist to reduce the dimensionality in order to lower the time required for training the model with very small repercussion on its accuracy\n",
        "\n",
        "One possibility is to not consider words appearing only in very few reviews, such as very specific terms or misspelled words"
      ]
    },
    {
      "cell_type": "markdown",
      "metadata": {
        "id": "E6EMtre29IPn"
      },
      "source": [
        "We can configure the vectorizer with the `min_df` parameter to exclude terms appearing e.g. in less than 3 training reviews"
      ]
    },
    {
      "cell_type": "code",
      "metadata": {
        "id": "z6ZuZ4H-9IPn"
      },
      "source": [
        "model = Pipeline([\n",
        "    (\"vectorizer\", TfidfVectorizer(min_df=3)), # df stands for document frequency.\n",
        "    (\"classifier\", LogisticRegression())\n",
        "])"
      ],
      "execution_count": 131,
      "outputs": []
    },
    {
      "cell_type": "markdown",
      "metadata": {
        "id": "BlU4nBov9IPo"
      },
      "source": [
        "Let's fit the model as above..."
      ]
    },
    {
      "cell_type": "code",
      "metadata": {
        "id": "84ujhE7B9IPo"
      },
      "source": [
        "model.fit(reviews_train.text, reviews_train.label);"
      ],
      "execution_count": 132,
      "outputs": []
    },
    {
      "cell_type": "markdown",
      "metadata": {
        "id": "tfGd227X9IPo"
      },
      "source": [
        "Looking at the fit vectorizer, the number of dimensions is now much lower..."
      ]
    },
    {
      "cell_type": "code",
      "metadata": {
        "colab": {
          "base_uri": "https://localhost:8080/"
        },
        "id": "koXs4jxM9IPp",
        "outputId": "8f1ee820-cffb-4b8c-85f4-35e583e210b6"
      },
      "source": [
        "len(model.named_steps[\"vectorizer\"].get_feature_names())"
      ],
      "execution_count": 133,
      "outputs": [
        {
          "output_type": "stream",
          "name": "stderr",
          "text": [
            "/usr/local/lib/python3.7/dist-packages/sklearn/utils/deprecation.py:87: FutureWarning: Function get_feature_names is deprecated; get_feature_names is deprecated in 1.0 and will be removed in 1.2. Please use get_feature_names_out instead.\n",
            "  warnings.warn(msg, category=FutureWarning)\n"
          ]
        },
        {
          "output_type": "execute_result",
          "data": {
            "text/plain": [
              "16127"
            ]
          },
          "metadata": {},
          "execution_count": 133
        }
      ]
    },
    {
      "cell_type": "markdown",
      "metadata": {
        "id": "0d-ti6q79IPp"
      },
      "source": [
        "...but the accuracy is close to the previous value"
      ]
    },
    {
      "cell_type": "code",
      "metadata": {
        "colab": {
          "base_uri": "https://localhost:8080/"
        },
        "id": "6R5wO9wf9IPq",
        "outputId": "cd4cfc50-34e1-404e-d67a-0cf28fd8374d"
      },
      "source": [
        "model.score(reviews_test.text, reviews_test.label)"
      ],
      "execution_count": 134,
      "outputs": [
        {
          "output_type": "execute_result",
          "data": {
            "text/plain": [
              "0.8424"
            ]
          },
          "metadata": {},
          "execution_count": 134
        }
      ]
    },
    {
      "cell_type": "markdown",
      "metadata": {
        "id": "FDT9_dtm9IPq"
      },
      "source": [
        "### Stemming\n",
        "\n",
        "Another way to reduce dimensionality is to group similar terms into an unique feature\n",
        "\n",
        "_Stemming_ is the extraction of the morphological root (_stem_) of a word: using stems of words as features in place of words themselves, we obtain a single feature for possibly several single terms with a common stem (e.g. {run, runned, running} --> \"run\")"
      ]
    },
    {
      "cell_type": "markdown",
      "metadata": {
        "id": "RamgdDXU9IPq"
      },
      "source": [
        "We start creating a `PorterStemmer` object, providing a `stem` method"
      ]
    },
    {
      "cell_type": "code",
      "metadata": {
        "id": "RmpatPc29IPr"
      },
      "source": [
        "ps = nltk.stem.PorterStemmer()"
      ],
      "execution_count": 135,
      "outputs": []
    },
    {
      "cell_type": "code",
      "metadata": {
        "colab": {
          "base_uri": "https://localhost:8080/"
        },
        "id": "2dc0qOEK9IPr",
        "outputId": "26e3b973-11be-4981-a1fb-9e2f2a64ba92"
      },
      "source": [
        "ps.stem(\"stem\"), ps.stem(\"stemming\")"
      ],
      "execution_count": 136,
      "outputs": [
        {
          "output_type": "execute_result",
          "data": {
            "text/plain": [
              "('stem', 'stem')"
            ]
          },
          "metadata": {},
          "execution_count": 136
        }
      ]
    },
    {
      "cell_type": "code",
      "metadata": {
        "colab": {
          "base_uri": "https://localhost:8080/"
        },
        "id": "cl_591k6v6TZ",
        "outputId": "8de49fb9-30e0-4c1d-b857-b3cb865f981c"
      },
      "source": [
        "ps.stem(\"run\"), ps.stem(\"runned\"), ps.stem(\"running\")"
      ],
      "execution_count": 137,
      "outputs": [
        {
          "output_type": "execute_result",
          "data": {
            "text/plain": [
              "('run', 'run', 'run')"
            ]
          },
          "metadata": {},
          "execution_count": 137
        }
      ]
    },
    {
      "cell_type": "markdown",
      "metadata": {
        "id": "fwlX4rHf9IPt"
      },
      "source": [
        "We can use that to create a function which uses NLTK to tokenize text into words and return a sequence of stems instead of complete words"
      ]
    },
    {
      "cell_type": "code",
      "metadata": {
        "id": "ZStwuomf9IPu"
      },
      "source": [
        "def tokenize_with_stemming(text):\n",
        "    return [ps.stem(token) for token # for each word in the tokenized text apply the ps.stem() function\n",
        "        in nltk.tokenize.word_tokenize(text)]"
      ],
      "execution_count": 138,
      "outputs": []
    },
    {
      "cell_type": "code",
      "metadata": {
        "colab": {
          "base_uri": "https://localhost:8080/"
        },
        "id": "DZxdVWzM9IPv",
        "outputId": "6c808c03-d97b-4fc6-e7a5-c9f98eea08e3"
      },
      "source": [
        "tokenize_with_stemming(\"We have shown many examples!\")"
      ],
      "execution_count": 139,
      "outputs": [
        {
          "output_type": "execute_result",
          "data": {
            "text/plain": [
              "['We', 'have', 'shown', 'mani', 'exampl', '!']"
            ]
          },
          "metadata": {},
          "execution_count": 139
        }
      ]
    },
    {
      "cell_type": "markdown",
      "metadata": {
        "id": "WIs6UWap9IPw"
      },
      "source": [
        "In a vectorizer, we can set the `tokenizer` parameter to use our custom tokenization function in place of scikit-learn default one"
      ]
    },
    {
      "cell_type": "code",
      "metadata": {
        "id": "Ie7GW6VM9IPw"
      },
      "source": [
        "model = Pipeline([\n",
        "    (\"vectorizer\", TfidfVectorizer(min_df=3, tokenizer=tokenize_with_stemming)),\n",
        "    (\"classifier\", LogisticRegression())\n",
        "])"
      ],
      "execution_count": 140,
      "outputs": []
    },
    {
      "cell_type": "markdown",
      "metadata": {
        "id": "2Oxp_WkP9IPx"
      },
      "source": [
        "We can then fit the model as usual"
      ]
    },
    {
      "cell_type": "code",
      "metadata": {
        "id": "guFzXQvr9IPx"
      },
      "source": [
        "model.fit(reviews_train.text, reviews_train.label);"
      ],
      "execution_count": 141,
      "outputs": []
    },
    {
      "cell_type": "markdown",
      "metadata": {
        "id": "Q3dMVXv-9IPy"
      },
      "source": [
        "The number of feature is further reduced"
      ]
    },
    {
      "cell_type": "code",
      "metadata": {
        "colab": {
          "base_uri": "https://localhost:8080/"
        },
        "id": "_35EZ_i69IPy",
        "outputId": "a82b4831-8a93-456f-fd1c-4138d6e1014b"
      },
      "source": [
        "len(model.named_steps[\"vectorizer\"].get_feature_names())"
      ],
      "execution_count": 142,
      "outputs": [
        {
          "output_type": "stream",
          "name": "stderr",
          "text": [
            "/usr/local/lib/python3.7/dist-packages/sklearn/utils/deprecation.py:87: FutureWarning: Function get_feature_names is deprecated; get_feature_names is deprecated in 1.0 and will be removed in 1.2. Please use get_feature_names_out instead.\n",
            "  warnings.warn(msg, category=FutureWarning)\n"
          ]
        },
        {
          "output_type": "execute_result",
          "data": {
            "text/plain": [
              "12543"
            ]
          },
          "metadata": {},
          "execution_count": 142
        }
      ]
    },
    {
      "cell_type": "markdown",
      "metadata": {
        "id": "6iysRIvF9IPz"
      },
      "source": [
        "Computing the accuracy..."
      ]
    },
    {
      "cell_type": "code",
      "metadata": {
        "colab": {
          "base_uri": "https://localhost:8080/"
        },
        "id": "TYBlI3gx9IPz",
        "outputId": "5ea8db90-c944-442a-98d1-c4580bb5b991"
      },
      "source": [
        "model.score(reviews_test.text, reviews_test.label)"
      ],
      "execution_count": 143,
      "outputs": [
        {
          "output_type": "execute_result",
          "data": {
            "text/plain": [
              "0.8394"
            ]
          },
          "metadata": {},
          "execution_count": 143
        }
      ]
    },
    {
      "cell_type": "markdown",
      "metadata": {
        "id": "wbXQzbdz9IP0"
      },
      "source": [
        "...we see in this case a minor loss "
      ]
    },
    {
      "cell_type": "markdown",
      "metadata": {
        "id": "k6QpBeJP9IP0"
      },
      "source": [
        "### n-grams\n",
        "\n",
        "An _n-gram_ is a sequence of n consecutive words in a text: in the common cases with n equal to 2 and 3, they are called _bigrams_ and _trigrams_\n",
        "\n",
        "n-grams can be used in addition or replacement to single words as features to represent reviews: they can be useful to spot meaningful expressions composed of more than one word, although we will also get many n-grams with no significant meaning\n",
        "\n",
        "For example, in the sentence \"Sentiment analysis is not bad\" we have meaningful bigrams indicating a concept (\"Sentiment analysis\") and an opinion (\"not bad\")"
      ]
    },
    {
      "cell_type": "markdown",
      "metadata": {
        "id": "ObnuLgHv9IP0"
      },
      "source": [
        "Setting the `ngram_range` parameter of a vectorizer to a tuple `(a,b)`, it will use as features all n-grams with n between a and b; the default value is `(1, 1)`, meaning that only single words (\"1-grams\") are considered\n",
        "\n",
        "Let's see what happens by setting `(1, 2)`, i.e. considering both single words and bigrams, still limiting features to those appearing in 3 reviews at least"
      ]
    },
    {
      "cell_type": "code",
      "metadata": {
        "id": "xsRwMuQR9IP0"
      },
      "source": [
        "model = Pipeline([\n",
        "    (\"vectorizer\", TfidfVectorizer(min_df=3, ngram_range=(1, 2))), # using 1-grams and 2-grams\n",
        "    (\"classifier\", LogisticRegression())\n",
        "])"
      ],
      "execution_count": 144,
      "outputs": []
    },
    {
      "cell_type": "markdown",
      "metadata": {
        "id": "ZSOpCexo9IP1"
      },
      "source": [
        "Fit the model as usual"
      ]
    },
    {
      "cell_type": "code",
      "metadata": {
        "id": "ha-KoggH9IP1"
      },
      "source": [
        "model.fit(reviews_train[\"text\"], reviews_train[\"label\"]); #reviews_train.text = reviews_train[\"text\"]"
      ],
      "execution_count": 145,
      "outputs": []
    },
    {
      "cell_type": "markdown",
      "metadata": {
        "id": "py-_TiXu9IP4"
      },
      "source": [
        "Adding bigrams to single words, the dimensionality is sensibly higher..."
      ]
    },
    {
      "cell_type": "code",
      "metadata": {
        "colab": {
          "base_uri": "https://localhost:8080/"
        },
        "id": "hA6B_k8q9IP4",
        "outputId": "edaf6973-d561-4314-f31a-7c7f6c453db1"
      },
      "source": [
        "len(model.named_steps[\"vectorizer\"].get_feature_names()) # \"sentiment\" + \"sentiment analysis\""
      ],
      "execution_count": 146,
      "outputs": [
        {
          "output_type": "stream",
          "name": "stderr",
          "text": [
            "/usr/local/lib/python3.7/dist-packages/sklearn/utils/deprecation.py:87: FutureWarning: Function get_feature_names is deprecated; get_feature_names is deprecated in 1.0 and will be removed in 1.2. Please use get_feature_names_out instead.\n",
            "  warnings.warn(msg, category=FutureWarning)\n"
          ]
        },
        {
          "output_type": "execute_result",
          "data": {
            "text/plain": [
              "71800"
            ]
          },
          "metadata": {},
          "execution_count": 146
        }
      ]
    },
    {
      "cell_type": "markdown",
      "metadata": {
        "id": "tW1Xe-wy9IP5"
      },
      "source": [
        "...but in this case we successfully increase the accuracy"
      ]
    },
    {
      "cell_type": "code",
      "metadata": {
        "colab": {
          "base_uri": "https://localhost:8080/"
        },
        "id": "-zKZ1Eq_9IP5",
        "outputId": "ec6c8991-bfa1-4fa9-ca15-de2af61ef098"
      },
      "source": [
        "model.score(reviews_test[\"text\"], reviews_test[\"label\"])"
      ],
      "execution_count": 147,
      "outputs": [
        {
          "output_type": "execute_result",
          "data": {
            "text/plain": [
              "0.851"
            ]
          },
          "metadata": {},
          "execution_count": 147
        }
      ]
    },
    {
      "cell_type": "markdown",
      "metadata": {
        "id": "n_k_q0uh9IP5"
      },
      "source": [
        "### Sentiment analysis with NLTK\n",
        "\n",
        "NLTK integrates specific functions for sentiment analysis, allowing to evaluate the subjectivity and the sentiment of text\n",
        "\n",
        "Let's see for example how to classify reviews using VADER (_Valence Aware Dictionary for sEntiment Reasoning_), a lexicon and rule-based sentiment estimator specifically oriented to social media, of which NLTK provides an implementation\n",
        "\n",
        "- **Reference:** Hutto, C. J., and Eric Gilbert. \"VADER: A Parsimonious Rule-Based Model for Sentiment Analysis of Social Media Text.\" _Eighth International AAAI Conference on Weblogs and Social Media_. 2014."
      ]
    },
    {
      "cell_type": "markdown",
      "metadata": {
        "id": "rgCSzAi59IP6"
      },
      "source": [
        "Download the necessary data"
      ]
    },
    {
      "cell_type": "code",
      "metadata": {
        "colab": {
          "base_uri": "https://localhost:8080/"
        },
        "id": "mmAuvsax9IP6",
        "outputId": "a4ef1eed-1893-4f85-e32c-2208b74e0b46"
      },
      "source": [
        "nltk.download(\"vader_lexicon\")"
      ],
      "execution_count": 148,
      "outputs": [
        {
          "output_type": "stream",
          "name": "stdout",
          "text": [
            "[nltk_data] Downloading package vader_lexicon to /root/nltk_data...\n"
          ]
        },
        {
          "output_type": "execute_result",
          "data": {
            "text/plain": [
              "True"
            ]
          },
          "metadata": {},
          "execution_count": 148
        }
      ]
    },
    {
      "cell_type": "markdown",
      "metadata": {
        "id": "C_-UnfYU9IP6"
      },
      "source": [
        "Import the class and create an analyzer object"
      ]
    },
    {
      "cell_type": "code",
      "metadata": {
        "colab": {
          "base_uri": "https://localhost:8080/"
        },
        "id": "WNOc25rqu1GP",
        "outputId": "36612d7c-8680-45e7-af70-2ccede221247"
      },
      "source": [
        "!pip install twython # nltk.sentiment dependency"
      ],
      "execution_count": 149,
      "outputs": [
        {
          "output_type": "stream",
          "name": "stdout",
          "text": [
            "Looking in indexes: https://pypi.org/simple, https://us-python.pkg.dev/colab-wheels/public/simple/\n",
            "Collecting twython\n",
            "  Downloading twython-3.9.1-py3-none-any.whl (33 kB)\n",
            "Requirement already satisfied: requests>=2.1.0 in /usr/local/lib/python3.7/dist-packages (from twython) (2.23.0)\n",
            "Requirement already satisfied: requests-oauthlib>=0.4.0 in /usr/local/lib/python3.7/dist-packages (from twython) (1.3.1)\n",
            "Requirement already satisfied: idna<3,>=2.5 in /usr/local/lib/python3.7/dist-packages (from requests>=2.1.0->twython) (2.10)\n",
            "Requirement already satisfied: chardet<4,>=3.0.2 in /usr/local/lib/python3.7/dist-packages (from requests>=2.1.0->twython) (3.0.4)\n",
            "Requirement already satisfied: urllib3!=1.25.0,!=1.25.1,<1.26,>=1.21.1 in /usr/local/lib/python3.7/dist-packages (from requests>=2.1.0->twython) (1.24.3)\n",
            "Requirement already satisfied: certifi>=2017.4.17 in /usr/local/lib/python3.7/dist-packages (from requests>=2.1.0->twython) (2022.5.18.1)\n",
            "Requirement already satisfied: oauthlib>=3.0.0 in /usr/local/lib/python3.7/dist-packages (from requests-oauthlib>=0.4.0->twython) (3.2.0)\n",
            "Installing collected packages: twython\n",
            "Successfully installed twython-3.9.1\n"
          ]
        }
      ]
    },
    {
      "cell_type": "code",
      "metadata": {
        "id": "nnZ6wPt_9IP6"
      },
      "source": [
        "from nltk.sentiment.vader import SentimentIntensityAnalyzer\n",
        "vader = SentimentIntensityAnalyzer()"
      ],
      "execution_count": 150,
      "outputs": []
    },
    {
      "cell_type": "markdown",
      "metadata": {
        "id": "MoLmF1HV9IP7"
      },
      "source": [
        "We can see some words in the VADER lexicon along with the positive or negative orientation assigned to them: we can see that typical social media language is recognized"
      ]
    },
    {
      "cell_type": "code",
      "metadata": {
        "colab": {
          "base_uri": "https://localhost:8080/"
        },
        "id": "_5T7h5oA9IP7",
        "outputId": "9c222227-da31-4c06-ba8c-a821a31b911f"
      },
      "source": [
        "vader.lexicon[\"excellent\"]"
      ],
      "execution_count": 151,
      "outputs": [
        {
          "output_type": "execute_result",
          "data": {
            "text/plain": [
              "2.7"
            ]
          },
          "metadata": {},
          "execution_count": 151
        }
      ]
    },
    {
      "cell_type": "code",
      "metadata": {
        "colab": {
          "base_uri": "https://localhost:8080/"
        },
        "id": "OxOoK2PH9IP8",
        "outputId": "c49d1c82-2d3e-4240-f742-708b6bdd5507"
      },
      "source": [
        "vader.lexicon[\"sux\"]"
      ],
      "execution_count": 152,
      "outputs": [
        {
          "output_type": "execute_result",
          "data": {
            "text/plain": [
              "-1.5"
            ]
          },
          "metadata": {},
          "execution_count": 152
        }
      ]
    },
    {
      "cell_type": "code",
      "metadata": {
        "colab": {
          "base_uri": "https://localhost:8080/"
        },
        "id": "TGFlq5j59IP8",
        "outputId": "677ecf2d-3bcc-4eac-d897-55805b8ffd2f"
      },
      "source": [
        "vader.lexicon[\"wtf\"]"
      ],
      "execution_count": 153,
      "outputs": [
        {
          "output_type": "execute_result",
          "data": {
            "text/plain": [
              "-2.8"
            ]
          },
          "metadata": {},
          "execution_count": 153
        }
      ]
    },
    {
      "cell_type": "code",
      "metadata": {
        "colab": {
          "base_uri": "https://localhost:8080/"
        },
        "id": "9Z-AOTKC9IP9",
        "outputId": "336ac10d-4135-4cd5-9c22-c4242a973f2f"
      },
      "source": [
        "vader.lexicon[\":-)\"]"
      ],
      "execution_count": 154,
      "outputs": [
        {
          "output_type": "execute_result",
          "data": {
            "text/plain": [
              "1.3"
            ]
          },
          "metadata": {},
          "execution_count": 154
        }
      ]
    },
    {
      "cell_type": "markdown",
      "metadata": {
        "id": "DwkZwp419IP_"
      },
      "source": [
        "Using the `polarity_score` method, given some text, we obtain a dictionary stating the probability of the sentence being either positive, negative or sentiment-neutral.\n",
        "\n",
        "The `compound` score is a metric that calculates the sum of all the lexicon ratings which have been normalized between -1 (most extreme negative) and +1 (most extreme positive)."
      ]
    },
    {
      "cell_type": "code",
      "metadata": {
        "colab": {
          "base_uri": "https://localhost:8080/"
        },
        "id": "9w-Tk-NI9IP_",
        "outputId": "22c57d26-a641-48ef-bca6-0397589c10aa"
      },
      "source": [
        "vader.polarity_scores(\"Not a bad movie\")"
      ],
      "execution_count": 155,
      "outputs": [
        {
          "output_type": "execute_result",
          "data": {
            "text/plain": [
              "{'compound': 0.431, 'neg': 0.0, 'neu': 0.412, 'pos': 0.588}"
            ]
          },
          "metadata": {},
          "execution_count": 155
        }
      ]
    },
    {
      "cell_type": "code",
      "metadata": {
        "colab": {
          "base_uri": "https://localhost:8080/"
        },
        "id": "AMFpr1YA9IQA",
        "outputId": "83127d29-6629-4d12-b58b-8e461091abb2"
      },
      "source": [
        "vader.polarity_scores(\"I wouldn't recommend this movie\")"
      ],
      "execution_count": 156,
      "outputs": [
        {
          "output_type": "execute_result",
          "data": {
            "text/plain": [
              "{'compound': -0.2755, 'neg': 0.413, 'neu': 0.587, 'pos': 0.0}"
            ]
          },
          "metadata": {},
          "execution_count": 156
        }
      ]
    },
    {
      "cell_type": "code",
      "metadata": {
        "colab": {
          "base_uri": "https://localhost:8080/"
        },
        "id": "-28eatr59IQC",
        "outputId": "b7c8f5c3-2df2-4689-b87e-84036894e7d7"
      },
      "source": [
        "vader.polarity_scores(\"This movie is candidated to 3 Academy awards\")"
      ],
      "execution_count": 157,
      "outputs": [
        {
          "output_type": "execute_result",
          "data": {
            "text/plain": [
              "{'compound': 0.4588, 'neg': 0.0, 'neu': 0.667, 'pos': 0.333}"
            ]
          },
          "metadata": {},
          "execution_count": 157
        }
      ]
    },
    {
      "cell_type": "markdown",
      "metadata": {
        "id": "wnBSC1np9IQE"
      },
      "source": [
        "We can see that the model is reasonably good in detecting compound statements such as negations"
      ]
    },
    {
      "cell_type": "markdown",
      "metadata": {
        "id": "L6s63IFF9IQE"
      },
      "source": [
        "Let's create a function that, given a review, returns a \"pos\" or \"neg\" label according to VADER scores"
      ]
    },
    {
      "cell_type": "code",
      "metadata": {
        "id": "cNMhwi1i9IQE"
      },
      "source": [
        "def vader_classify(text):\n",
        "    scores = vader.polarity_scores(text)\n",
        "    return \"pos\" if scores[\"pos\"] >= scores[\"neg\"] else \"neg\""
      ],
      "execution_count": 158,
      "outputs": []
    },
    {
      "cell_type": "markdown",
      "metadata": {
        "id": "MW-iJVP-9IQF"
      },
      "source": [
        "Using the `apply` method of series, we apply the function to each review text obtaining a series of pos/neg labels"
      ]
    },
    {
      "cell_type": "code",
      "metadata": {
        "id": "bUtWVwWa9IQF"
      },
      "source": [
        "vader_preds = reviews_test[\"text\"].apply(vader_classify)"
      ],
      "execution_count": 159,
      "outputs": []
    },
    {
      "cell_type": "markdown",
      "metadata": {
        "id": "uIS92sBh9IQH"
      },
      "source": [
        "We compare this series with actual labels, obtaining a boolean series stating for which reviews the classifier indicated the correct label"
      ]
    },
    {
      "cell_type": "code",
      "metadata": {
        "id": "xPTLs0SR9IQH"
      },
      "source": [
        "vader_hits = vader_preds == reviews_test[\"label\"]"
      ],
      "execution_count": 160,
      "outputs": []
    },
    {
      "cell_type": "code",
      "metadata": {
        "colab": {
          "base_uri": "https://localhost:8080/"
        },
        "id": "Q9_JcA9v9IQJ",
        "outputId": "e6989c45-e715-4421-be88-6f8503089e97"
      },
      "source": [
        "vader_hits.values[:9]"
      ],
      "execution_count": 161,
      "outputs": [
        {
          "output_type": "execute_result",
          "data": {
            "text/plain": [
              "array([ True,  True,  True,  True,  True,  True,  True, False,  True])"
            ]
          },
          "metadata": {},
          "execution_count": 161
        }
      ]
    },
    {
      "cell_type": "markdown",
      "metadata": {
        "id": "AWYLf4HU9IQL"
      },
      "source": [
        "Computing the mean, we obtain the ratio of `True` values"
      ]
    },
    {
      "cell_type": "code",
      "metadata": {
        "colab": {
          "base_uri": "https://localhost:8080/"
        },
        "id": "BT_IrQIf9IQL",
        "outputId": "bf84ed28-052a-4aff-a7c9-953eceb61c60"
      },
      "source": [
        "vader_hits.mean()"
      ],
      "execution_count": 162,
      "outputs": [
        {
          "output_type": "execute_result",
          "data": {
            "text/plain": [
              "0.6936"
            ]
          },
          "metadata": {},
          "execution_count": 162
        }
      ]
    },
    {
      "cell_type": "markdown",
      "metadata": {
        "id": "whSM4e3_9IQM"
      },
      "source": [
        "Here VADER achieves a lower accuracy than our supervised model, which however required a large set of pre-labeled reviews to be trained"
      ]
    },
    {
      "cell_type": "markdown",
      "metadata": {
        "id": "BKe42xjW9IQM"
      },
      "source": [
        "### Exercise 2: test new methods on tweets\n",
        "\n",
        "In this activity we have seen two sentiment classification methods\n",
        "- using a classifier trained on the labeled reviews used here\n",
        "- using the pretrained VADER model\n",
        "\n",
        "Test both these new methods on airline tweets from the first activity, giving each tweet a score of -5 or 5 according to the negative or positive response of the classifier, then compare as above summary scores obtained by both methods with ACSI scores\n",
        "\n",
        "Which of the two methods do you expect to be more accurate?"
      ]
    }
  ]
}